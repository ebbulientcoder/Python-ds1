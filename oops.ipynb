{
  "nbformat": 4,
  "nbformat_minor": 0,
  "metadata": {
    "colab": {
      "provenance": []
    },
    "kernelspec": {
      "name": "python3",
      "display_name": "Python 3"
    },
    "language_info": {
      "name": "python"
    }
  },
  "cells": [
    {
      "cell_type": "markdown",
      "source": [
        "1.What is Object-Oriented Programming (OOP)?\n",
        "- Object-Oriented Programming (OOP) is a programming paradigm based on the concept of \"objects,\" which contain data (attributes) and code (methods). It focuses on organizing code using classes and objects, and key principles include encapsulation, inheritance, polymorphism, and abstraction.\n",
        "- 1. **Encapsulation** – Bundles data and methods that operate on the data within one unit (class), hiding internal details from the outside.  \n",
        "2. **Inheritance** – Allows a class to inherit properties and behaviors from another class, promoting code reusability.  \n",
        "3. **Polymorphism** – Enables objects to be treated as instances of their parent class, allowing methods to perform differently based on the object.\n",
        "\n",
        "#2. What is a class in OOP?\n",
        "- A class in OOP is a blueprint for creating objects. It defines the properties (attributes) and behaviors (methods) that the objects created from it will have.\n",
        "# 3.What is an object in OOP?\n",
        "- An object in OOP is an instance of a class. It represents a specific entity with defined attributes and behaviors as outlined by its class.\n",
        "#4. What is the difference between abstraction and encapsulation?\n",
        "**Abstraction** is the concept of hiding complex implementation details and showing only the essential features of an object. It helps in reducing programming complexity and allows the programmer to focus on interactions rather than inner workings.\n",
        "\n",
        "- **Encapsulation** is the practice of wrapping data and the code that manipulates it into a single unit, usually a class, and restricting access to some components. This protects the data from unintended interference and misuse.\n",
        "# 5.What are dunder methods in Python?\n",
        "- Dunder methods in Python are special methods with double underscores at the beginning and end of their names (e.g., `__init__`, `__str__`). They are used to define how objects behave with built-in functions and operators.\n",
        "#6.Explain the concept of inheritance in OOPs?\n",
        "- Inheritance in OOP is a mechanism where a class (child or subclass) inherits properties and behaviors (methods) from another class (parent or superclass). It promotes code reuse and allows for hierarchical class structures.\n",
        "#7.What is polymorphism in OOP?\n",
        "- **Polymorphism** in OOP means the ability of a single function or method to behave differently based on the object calling it.\n",
        "\n",
        "**Example:**\n",
        "```java\n",
        "Animal a = new Dog();  \n",
        "a.sound(); // Output: Dog barks\n",
        "```\n",
        "#8.How is encapsulation achieved in Python?\n",
        "Encapsulation in Python is achieved by using private variables (with `_` or `__`) and getter/setter methods to control access.\n",
        "\n",
        "**Example:**\n",
        "```python\n",
        "class Person:\n",
        "    def __init__(self): self.__age = 0  # private variable\n",
        "    def set_age(self, age): self.__age = age  # setter\n",
        "    def get_age(self): return self.__age  # getter\n",
        "```\n",
        "#9.What is a constructor in Python?\n",
        "A **constructor** in Python is a special method `__init__` that automatically runs when an object is created, used to initialize the object's attributes.\n",
        "\n",
        "**Example:**\n",
        "```python\n",
        "class Person:\n",
        "    def __init__(self, name):\n",
        "        self.name = name\n",
        "\n",
        "p = Person(\"Alice\")\n",
        "print(p.name)  # Output: Alice\n",
        "```\n",
        "#10.What are class and static methods in Python?\n",
        "**Class method**: A method that takes `cls` as the first parameter and can access or modify class state.  \n",
        "**Static method**: A method that doesn’t access class or instance data; it’s just like a regular function inside a class.\n",
        "\n",
        "**Example:**\n",
        "\n",
        "```python\n",
        "class MyClass:\n",
        "    @classmethod\n",
        "    def cls_method(cls): print(\"I'm a class method\")\n",
        "\n",
        "    @staticmethod\n",
        "    def static_method(): print(\"I'm a static method\")\n",
        "```\n",
        "#11.What is method overloading in Python?\n",
        "**Method overloading in Python** means defining multiple methods with the same name but different parameters. However, Python doesn't support true method overloading like some other languages — only the last defined method is used.\n",
        "\n",
        "**Example:**\n",
        "```python\n",
        "class Demo:\n",
        "    def show(self, a=None, b=None):\n",
        "        if a and b:\n",
        "            print(a, b)\n",
        "        elif a:\n",
        "            print(a)\n",
        "```\n",
        "#12.What is method overriding in OOP?\n",
        "**Method overriding** in OOP is when a subclass provides a specific implementation of a method already defined in its parent class.\n",
        "\n",
        "**Example in Python:**\n",
        "\n",
        "```python\n",
        "class Animal:\n",
        "    def sound(self):\n",
        "        print(\"Animal sound\")\n",
        "\n",
        "class Dog(Animal):\n",
        "    def sound(self):\n",
        "        print(\"Bark\")\n",
        "```\n",
        "\n",
        "Here, `Dog` overrides the `sound` method of `Animal`.\n",
        "#13.What is a property decorator in Python?\n",
        "A **property decorator** in Python (`@property`) lets you define a method that can be accessed like an attribute. It’s commonly used to get, set, or delete values with method logic.\n",
        "\n",
        "**Example:**\n",
        "\n",
        "```python\n",
        "class Person:\n",
        "    def __init__(self, name):\n",
        "        self._name = name\n",
        "\n",
        "    @property\n",
        "    def name(self):\n",
        "        return self._name\n",
        "```\n",
        "\n",
        "Now `p.name` behaves like an attribute, but it's actually calling the `name()` method.\n",
        "#14.Why is polymorphism important in OOP?\n",
        "Polymorphism is important in OOP because it makes code more flexible, reusable, and easier to maintain by allowing one interface to handle different types of objects.\n",
        "\n",
        "**Example in Python:**\n",
        "```python\n",
        "class Animal:\n",
        "    def speak(self): pass\n",
        "\n",
        "class Dog(Animal):\n",
        "    def speak(self): print(\"Bark\")\n",
        "\n",
        "class Cat(Animal):\n",
        "    def speak(self): print(\"Meow\")\n",
        "\n",
        "for animal in [Dog(), Cat()]:\n",
        "    animal.speak()  # Outputs: Bark, Meow\n",
        "```\n",
        "#15.What is an abstract class in Python?\n",
        "An **abstract class** in Python is a class that cannot be instantiated directly and often includes one or more abstract methods that must be implemented by its subclasses. It’s defined using the `abc` module.\n",
        "\n",
        "**Example:**\n",
        "```python\n",
        "from abc import ABC, abstractmethod\n",
        "\n",
        "class Animal(ABC):\n",
        "    @abstractmethod\n",
        "    def sound(self):\n",
        "        pass\n",
        "```\n",
        "\n",
        "Subclasses must implement the `sound()` method to be instantiated.\n",
        "#16.What are the advantages of OOP?\n",
        "Advantages of OOP+ (in short):\n",
        "\n",
        "- Modularity: Code is structured into classes and objects.\n",
        "- Reusability: Inheritance lets you reuse existing code.\n",
        "- Flexibility: Polymorphism allows one interface, multiple implementations.\n",
        "- Security: Encapsulation hides internal data.\n",
        "- Maintainability: Easier to update and debug code.\n",
        "- Real-world modeling: Mimics real-life entities for better design.\n",
        "#17.What is the difference between a class variable and an instance variable?\n",
        "**Class variable** is shared by all instances of a class, while an **instance variable** is unique to each object.\n",
        "\n",
        "**Example:**\n",
        "\n",
        "```python\n",
        "class Car:\n",
        "    wheels = 4  # class variable\n",
        "    def __init__(self, color):\n",
        "        self.color = color  # instance variable\n",
        "```\n",
        "#18.What is multiple inheritance in Python?\n",
        "**Multiple Inheritance** in Python means a class can inherit from more than one parent class.\n",
        "\n",
        "**Example:**\n",
        "```python\n",
        "class A: pass\n",
        "class B: pass\n",
        "class C(A, B): pass\n",
        "```\n",
        "\n",
        "Here, class `C` inherits from both `A` and `B`.\n",
        "#19.H Explain the purpose of ‘’__str__’ and ‘__repr__’ ‘ methods in Python?\n",
        "In Python, `__str__` is used to define a user-friendly string representation of an object, while `__repr__` is meant to provide an unambiguous string for developers (often used for debugging).\n",
        "\n",
        "**Example:**\n",
        "\n",
        "```python\n",
        "class Person:\n",
        "    def __str__(self):\n",
        "        return \"User-friendly output\"\n",
        "    def __repr__(self):\n",
        "        return \"Developer debug output\"\n",
        "\n",
        "p = Person()\n",
        "print(str(p))   # Output: User-friendly output\n",
        "print(repr(p))  # Output: Developer debug output\n",
        "```\n",
        "#20.What is the significance of the ‘super()’ function in Python?\n",
        "The `super()` function in Python is used to call a method from the parent class, allowing access to inherited methods without explicitly naming the parent.\n",
        "\n",
        "**Example:**\n",
        "```python\n",
        "class Parent:\n",
        "    def greet(self):\n",
        "        print(\"Hello from Parent\")\n",
        "\n",
        "class Child(Parent):\n",
        "    def greet(self):\n",
        "        super().greet()\n",
        "        print(\"Hello from Child\")\n",
        "```\n",
        "#21.What is the significance of the __del__ method in Python?\n",
        "The `__del__` method in Python is a destructor that's called when an object is about to be destroyed, helping with cleanup like closing files or releasing resources.\n",
        "\n",
        "**Example:**\n",
        "```python\n",
        "class Demo:\n",
        "    def __del__(self):\n",
        "        print(\"Object is being deleted\")\n",
        "\n",
        "d = Demo()\n",
        "del d  # Output: Object is being deleted\n",
        "```\n",
        "#22.What is the difference between @staticmethod and @classmethod in Python?\n",
        "- `@staticmethod` doesn’t access class or instance; it’s like a regular function inside a class.  \n",
        "- `@classmethod` takes `cls` as the first argument and can access/modify class state.\n",
        "\n",
        "**Example:**\n",
        "```python\n",
        "class MyClass:\n",
        "    @staticmethod\n",
        "    def stat():\n",
        "        print(\"Static method\")\n",
        "\n",
        "    @classmethod\n",
        "    def cls_method(cls):\n",
        "        print(\"Class method\")\n",
        "```\n",
        "#23.How does polymorphism work in Python with inheritance?\n",
        "Polymorphism in Python with inheritance lets child classes override methods of the parent class, allowing different behaviors with the same method name.\n",
        "\n",
        "**Example:**\n",
        "```python\n",
        "class Animal: def speak(self): print(\"Sound\")\n",
        "class Dog(Animal): def speak(self): print(\"Bark\")\n",
        "```\n",
        "\n",
        "Calling `Dog().speak()` prints `Bark`, overriding the parent method.\n",
        "#24.What is method chaining in Python OOP?\n",
        "**Method chaining** in Python OOP is calling multiple methods on the same object in a single line, where each method returns the object itself.\n",
        "\n",
        "**Example:**\n",
        "```python\n",
        "class Person:\n",
        "    def greet(self):\n",
        "        print(\"Hello\", end=' ')\n",
        "        return self\n",
        "    def name(self):\n",
        "        print(\"Alice\")\n",
        "        return self\n",
        "\n",
        "Person().greet().name()\n",
        "```\n",
        "\n",
        "**Output:** `Hello Alice`\n",
        "#25.The `__call__` method in Python allows an instance of a class to be called like a function.\n",
        "\n",
        "**Example:**\n",
        "```python\n",
        "class Greet:\n",
        "    def __call__(self, name):\n",
        "        print(f\"Hello, {name}!\")\n",
        "\n",
        "g = Greet()\n",
        "g(\"Alice\")  # Output: Hello, Alice!\n",
        "```"
      ],
      "metadata": {
        "id": "UUZYC9Pe8HpH"
      }
    },
    {
      "cell_type": "code",
      "source": [
        "#1. Create a parent class Animal with a method speak() that prints a generic message. Create a child class Dog\n",
        "#that overrides the speak() method to print \"Bark!\".\n",
        "class Animal:\n",
        "    def speak(self):\n",
        "        print(\"Generic animal sound\")\n",
        "\n",
        "class Dog(Animal):\n",
        "    def speak(self):\n",
        "        print(\"Bark!\")\n",
        "\n",
        "# Create an instance of the Dog class and call the speak() method\n",
        "dog = Dog()\n",
        "dog.speak()\n"
      ],
      "metadata": {
        "colab": {
          "base_uri": "https://localhost:8080/"
        },
        "id": "IBF4n11yEOb0",
        "outputId": "6b32aa77-69eb-4f99-ef72-b046b9b25cc8"
      },
      "execution_count": 1,
      "outputs": [
        {
          "output_type": "stream",
          "name": "stdout",
          "text": [
            "Bark!\n"
          ]
        }
      ]
    },
    {
      "cell_type": "code",
      "execution_count": 3,
      "metadata": {
        "id": "pevPyt_kcu89"
      },
      "outputs": [],
      "source": [
        "#2. Write a program to create an abstract class Shape with a method area(). Derive classes Circle and Rectangle\n",
        "#from it and implement the area() method in both.\n",
        "from abc import ABC, abstractmethod\n",
        "import math\n",
        "\n",
        "# Abstract class\n",
        "class Shape(ABC):\n",
        "    @abstractmethod\n",
        "    def area(self):\n",
        "        pass\n",
        "\n",
        "# Circle class\n",
        "class Circle(Shape):\n",
        "    def __init__(self, radius):\n",
        "        self.radius = radius\n",
        "\n",
        "    def area(self):\n",
        "        return math.pi * self.radius * self.radius\n",
        "\n",
        "# Rectangle class\n",
        "class Rectangle(Shape):\n",
        "    def __init__(self, length, width):\n",
        "        self.length = length\n",
        "        self.width = width\n",
        "\n",
        "    def area(self):\n",
        "        return self.length * self.width"
      ]
    },
    {
      "cell_type": "code",
      "source": [
        "#3. Implement a multi-level inheritance scenario where a class Vehicle has an attribute type. Derive a class Car\n",
        "#and further derive a class ElectricCar that adds a battery attribute.\n",
        "class Vehicle:\n",
        "    def __init__(self, vehicle_type):\n",
        "        self.type = vehicle_type\n",
        "\n",
        "class Car(Vehicle):\n",
        "    def __init__(self, vehicle_type, brand):\n",
        "        super().__init__(vehicle_type)\n",
        "        self.brand = brand\n",
        "\n",
        "class ElectricCar(Car):\n",
        "    def __init__(self, vehicle_type, brand, battery):\n",
        "        super().__init__(vehicle_type, brand)\n",
        "        self.battery = battery"
      ],
      "metadata": {
        "id": "knGBDzV6FSlL"
      },
      "execution_count": 5,
      "outputs": []
    },
    {
      "cell_type": "code",
      "source": [
        "#4. Demonstrate polymorphism by creating a base class Bird with a method fly(). Create two derived classes\n",
        "#Sparrow and Penguin that override the fly() method.\n",
        "class Bird:\n",
        "    def fly(self):\n",
        "        print(\"Bird is flying\")\n",
        "\n",
        "class Sparrow(Bird):\n",
        "    def fly(self):\n",
        "        print(\"Sparrow flies high\")\n",
        "\n",
        "class Penguin(Bird):\n",
        "    def fly(self):\n",
        "        print(\"Penguins can't fly\")\n"
      ],
      "metadata": {
        "id": "4U5wKsZtFShd"
      },
      "execution_count": 6,
      "outputs": []
    },
    {
      "cell_type": "code",
      "source": [
        "#5. Write a program to demonstrate encapsulation by creating a class BankAccount with private attributes\n",
        "#balance and methods to deposit, withdraw, and check balance.\n",
        "class BankAccount:\n",
        "    def __init__(self):\n",
        "        self.__balance = 0\n",
        "\n",
        "    def deposit(self, amount):\n",
        "        self.__balance += amount\n",
        "\n",
        "    def withdraw(self, amount):\n",
        "        if amount <= self.__balance:\n",
        "            self.__balance -= amount\n",
        "\n",
        "    def check_balance(self):\n",
        "        return self.__balance\n",
        "\n",
        "# Usage\n",
        "acc = BankAccount()\n",
        "acc.deposit(1000)\n",
        "acc.withdraw(300)\n",
        "print(acc.check_balance())  # Output: 700\n"
      ],
      "metadata": {
        "colab": {
          "base_uri": "https://localhost:8080/"
        },
        "id": "L4tIMlz8FSeX",
        "outputId": "14e95db7-8058-4b03-9345-79ebcb07ed75"
      },
      "execution_count": 7,
      "outputs": [
        {
          "output_type": "stream",
          "name": "stdout",
          "text": [
            "700\n"
          ]
        }
      ]
    },
    {
      "cell_type": "code",
      "source": [
        "#6. Demonstrate runtime polymorphism using a method play() in a base class Instrument. Derive classes Guitar\n",
        "#and Piano that implement their own version of play().\n",
        "class Instrument:\n",
        "    def play(self):\n",
        "        print(\"Playing instrument\")\n",
        "\n",
        "class Guitar(Instrument):\n",
        "    def play(self):\n",
        "        print(\"Strumming guitar\")\n",
        "\n",
        "class Piano(Instrument):\n",
        "    def play(self):\n",
        "        print(\"Playing piano\")\n",
        "\n",
        "# Usage\n",
        "for inst in [Guitar(), Piano()]:\n",
        "    inst.play()\n"
      ],
      "metadata": {
        "colab": {
          "base_uri": "https://localhost:8080/"
        },
        "id": "c5BnsYIGFSTa",
        "outputId": "abec8881-69bb-4e4e-d4eb-a637e5ce64c9"
      },
      "execution_count": 8,
      "outputs": [
        {
          "output_type": "stream",
          "name": "stdout",
          "text": [
            "Strumming guitar\n",
            "Playing piano\n"
          ]
        }
      ]
    },
    {
      "cell_type": "code",
      "source": [
        "#7. Create a class MathOperations with a class method add_numbers() to add two numbers and a static\n",
        "#method subtract_numbers() to subtract two numbers.\n",
        "class MathOperations:\n",
        "    @classmethod\n",
        "    def add_numbers(cls, a, b):\n",
        "        return a + b\n",
        "\n",
        "    @staticmethod\n",
        "    def subtract_numbers(a, b):\n",
        "        return a - b\n",
        "\n",
        "# Usage\n",
        "print(MathOperations.add_numbers(5, 3))      # Output: 8\n",
        "print(MathOperations.subtract_numbers(5, 3)) # Output: 2\n"
      ],
      "metadata": {
        "colab": {
          "base_uri": "https://localhost:8080/"
        },
        "id": "zsoyboy0FSKz",
        "outputId": "53511b56-bee3-4cd0-eff6-3b1478034842"
      },
      "execution_count": 9,
      "outputs": [
        {
          "output_type": "stream",
          "name": "stdout",
          "text": [
            "8\n",
            "2\n"
          ]
        }
      ]
    },
    {
      "cell_type": "code",
      "source": [
        "#8. Implement a class Person with a class method to count the total number of persons created.\n",
        "class Person:\n",
        "    count = 0\n",
        "\n",
        "    def __init__(self):\n",
        "        Person.count += 1\n",
        "\n",
        "    @classmethod\n",
        "    def total_persons(cls):\n",
        "        return cls.count\n",
        "\n",
        "# Usage\n",
        "p1 = Person()\n",
        "p2 = Person()\n",
        "print(Person.total_persons())  # Output: 2\n"
      ],
      "metadata": {
        "colab": {
          "base_uri": "https://localhost:8080/"
        },
        "id": "M8hUWr7bFSBz",
        "outputId": "59c22fc8-9e5d-4386-c99d-948ba19527ee"
      },
      "execution_count": 10,
      "outputs": [
        {
          "output_type": "stream",
          "name": "stdout",
          "text": [
            "2\n"
          ]
        }
      ]
    },
    {
      "cell_type": "code",
      "source": [
        "#9. Write a class Fraction with attributes numerator and denominator. Override the str method to display the\n",
        "#fraction as \"numerator/denominator\".\n",
        "class Fraction:\n",
        "    def __init__(self, num, den):\n",
        "        self.numerator = num\n",
        "        self.denominator = den\n",
        "\n",
        "    def __str__(self):\n",
        "        return f\"{self.numerator}/{self.denominator}\"\n",
        "\n",
        "# Usage\n",
        "f = Fraction(3, 4)\n",
        "print(f)  # Output: 3/4\n"
      ],
      "metadata": {
        "colab": {
          "base_uri": "https://localhost:8080/"
        },
        "id": "8JZwhcxSFR2K",
        "outputId": "3915aa28-7d53-4e13-b9fe-52c0c6442614"
      },
      "execution_count": 11,
      "outputs": [
        {
          "output_type": "stream",
          "name": "stdout",
          "text": [
            "3/4\n"
          ]
        }
      ]
    },
    {
      "cell_type": "code",
      "source": [
        "#10. Demonstrate operator overloading by creating a class Vector and overriding the add method to add two\n",
        "#vectors.\n",
        "class Vector:\n",
        "    def __init__(self, x, y):\n",
        "        self.x = x\n",
        "        self.y = y\n",
        "\n",
        "    def __add__(self, other):\n",
        "        return Vector(self.x + other.x, self.y + other.y)\n",
        "\n",
        "    def __str__(self):\n",
        "        return f\"({self.x}, {self.y})\"\n",
        "\n",
        "# Usage\n",
        "v1 = Vector(2, 3)\n",
        "v2 = Vector(4, 5)\n",
        "print(v1 + v2)  # Output: (6, 8)\n"
      ],
      "metadata": {
        "colab": {
          "base_uri": "https://localhost:8080/"
        },
        "id": "8MUvFYCrEkeG",
        "outputId": "1321ee77-3abc-409f-c86c-f650fb062aad"
      },
      "execution_count": 12,
      "outputs": [
        {
          "output_type": "stream",
          "name": "stdout",
          "text": [
            "(6, 8)\n"
          ]
        }
      ]
    },
    {
      "cell_type": "code",
      "source": [
        "#11. Create a class Person with attributes name and age. Add a method greet() that prints \"Hello, my name is\n",
        "#{name} and I am {age} years old.\"\n",
        "class Person:\n",
        "    def __init__(self, name, age):\n",
        "        self.name = name\n",
        "        self.age = age\n",
        "\n",
        "    def greet(self):\n",
        "        print(f\"Hello, my name is {self.name} and I am {self.age} years old.\")\n",
        "\n",
        "# Usage\n",
        "p = Person(\"yusuf\", 23)\n",
        "p.greet()  # Output: Hello, my name is yusuf and I am 23 years old.\n"
      ],
      "metadata": {
        "colab": {
          "base_uri": "https://localhost:8080/"
        },
        "id": "P5h0y_ozFRS_",
        "outputId": "ae665aee-670c-4fe1-8d96-7ee663c82664"
      },
      "execution_count": 14,
      "outputs": [
        {
          "output_type": "stream",
          "name": "stdout",
          "text": [
            "Hello, my name is yusuf and I am 23 years old.\n"
          ]
        }
      ]
    },
    {
      "cell_type": "code",
      "source": [
        "#12. Implement a class Student with attributes name and grades. Create a method average_grade() to compute\n",
        "#the average of the grades.\n",
        "class Student:\n",
        "    def __init__(self, name, grades):\n",
        "        self.name = name\n",
        "        self.grades = grades\n",
        "\n",
        "    def average_grade(self):\n",
        "        return sum(self.grades) / len(self.grades)\n",
        "\n",
        "# Usage\n",
        "s = Student(\"Bob\", [80, 90, 85])\n",
        "print(s.average_grade())  # Output: 85.0\n"
      ],
      "metadata": {
        "colab": {
          "base_uri": "https://localhost:8080/"
        },
        "id": "0HXDeoJnHefx",
        "outputId": "a8b8c352-7a83-4b55-84a9-8f1aa3bebaff"
      },
      "execution_count": 15,
      "outputs": [
        {
          "output_type": "stream",
          "name": "stdout",
          "text": [
            "85.0\n"
          ]
        }
      ]
    },
    {
      "cell_type": "code",
      "source": [
        "#13. Create a class Rectangle with methods set_dimensions() to set the dimensions and area() to calculate the\n",
        "#area.\n",
        "class Rectangle:\n",
        "    def set_dimensions(self, length, width):\n",
        "        self.length = length\n",
        "        self.width = width\n",
        "\n",
        "    def area(self):\n",
        "        return self.length * self.width\n",
        "\n",
        "# Usage\n",
        "r = Rectangle()\n",
        "r.set_dimensions(5, 3)\n",
        "print(r.area())  # Output: 15\n"
      ],
      "metadata": {
        "colab": {
          "base_uri": "https://localhost:8080/"
        },
        "id": "cpeusrp0HeWP",
        "outputId": "1c7e7126-d90d-4beb-fd24-62fa64276ad2"
      },
      "execution_count": 16,
      "outputs": [
        {
          "output_type": "stream",
          "name": "stdout",
          "text": [
            "15\n"
          ]
        }
      ]
    },
    {
      "cell_type": "code",
      "source": [
        "#14. Create a class Employee with a method calculate_salary() that computes the salary based on hours worked\n",
        "#and hourly rate. Create a derived class Manager that adds a bonus to the salary\n",
        "class Employee:\n",
        "    def calculate_salary(self, hours, rate):\n",
        "        return hours * rate\n",
        "\n",
        "class Manager(Employee):\n",
        "    def calculate_salary(self, hours, rate, bonus):\n",
        "        return super().calculate_salary(hours, rate) + bonus\n",
        "\n",
        "# Usage\n",
        "m = Manager()\n",
        "print(m.calculate_salary(40, 50, 500))  # Output: 2500\n"
      ],
      "metadata": {
        "colab": {
          "base_uri": "https://localhost:8080/"
        },
        "id": "9-JdNjiTHeSv",
        "outputId": "5f7b0b46-4a43-4c0f-f272-c843be10fa64"
      },
      "execution_count": 17,
      "outputs": [
        {
          "output_type": "stream",
          "name": "stdout",
          "text": [
            "2500\n"
          ]
        }
      ]
    },
    {
      "cell_type": "code",
      "source": [
        "#15. Create a class Product with attributes name, price, and quantity. Implement a method total_price() that\n",
        "#calculates the total price of the product.\n",
        "class Product:\n",
        "    def __init__(self, name, price, quantity):\n",
        "        self.name = name\n",
        "        self.price = price\n",
        "        self.quantity = quantity\n",
        "\n",
        "    def total_price(self):\n",
        "        return self.price * self.quantity\n",
        "\n",
        "# Usage\n",
        "p = Product(\"Pen\", 10, 5)\n",
        "print(p.total_price())  # Output: 50\n"
      ],
      "metadata": {
        "colab": {
          "base_uri": "https://localhost:8080/"
        },
        "id": "c9GS72IMHeO2",
        "outputId": "47771f1f-0677-4754-a8d3-84ba3b7e7d30"
      },
      "execution_count": 18,
      "outputs": [
        {
          "output_type": "stream",
          "name": "stdout",
          "text": [
            "50\n"
          ]
        }
      ]
    },
    {
      "cell_type": "code",
      "source": [
        "#16. Create a class Animal with an abstract method sound(). Create two derived classes Cow and Sheep that\n",
        "#implement the sound() method.\n",
        "from abc import ABC, abstractmethod\n",
        "\n",
        "class Animal(ABC):\n",
        "    @abstractmethod\n",
        "    def sound(self):\n",
        "        pass\n",
        "\n",
        "class Cow(Animal):\n",
        "    def sound(self):\n",
        "        print(\"Moo\")\n",
        "\n",
        "class Sheep(Animal):\n",
        "    def sound(self):\n",
        "        print(\"Baa\")\n",
        "\n",
        "# Usage\n",
        "Cow().sound()    # Output: Moo\n",
        "Sheep().sound()  # Output: Baa\n"
      ],
      "metadata": {
        "colab": {
          "base_uri": "https://localhost:8080/"
        },
        "id": "ixYlLhikHeIh",
        "outputId": "b5f46916-1e67-4e98-8283-8d8b6263ebbd"
      },
      "execution_count": 19,
      "outputs": [
        {
          "output_type": "stream",
          "name": "stdout",
          "text": [
            "Moo\n",
            "Baa\n"
          ]
        }
      ]
    },
    {
      "cell_type": "code",
      "source": [
        "#17. Create a class Book with attributes title, author, and year_published. Add a method get_book_info() that\n",
        "#returns a formatted string with the book's details\n",
        "class Book:\n",
        "    def __init__(self, title, author, year_published):\n",
        "        self.title = title\n",
        "        self.author = author\n",
        "        self.year = year_published\n",
        "\n",
        "    def get_book_info(self):\n",
        "        return f\"{self.title} by {self.author} ({self.year})\"\n",
        "\n",
        "# Usage\n",
        "b = Book(\"1984\", \"George Orwell\", 1949)\n",
        "print(b.get_book_info())  # Output: 1984 by George Orwell (1949)\n"
      ],
      "metadata": {
        "colab": {
          "base_uri": "https://localhost:8080/"
        },
        "id": "6rmLGCIxIi-j",
        "outputId": "9dac7f54-a6fa-411c-f89b-210b45edb043"
      },
      "execution_count": 20,
      "outputs": [
        {
          "output_type": "stream",
          "name": "stdout",
          "text": [
            "1984 by George Orwell (1949)\n"
          ]
        }
      ]
    },
    {
      "cell_type": "code",
      "source": [
        "#18. Create a class House with attributes address and price. Create a derived class Mansion that adds an\n",
        "#attribute number_of_rooms\n",
        "class House:\n",
        "    def __init__(self, address, price):\n",
        "        self.address = address\n",
        "        self.price = price\n",
        "\n",
        "class Mansion(House):\n",
        "    def __init__(self, address, price, number_of_rooms):\n",
        "        super().__init__(address, price)\n",
        "        self.number_of_rooms = number_of_rooms\n",
        "\n",
        "# Usage\n",
        "m = Mansion(\"123 Main St\", 500000, 10)\n",
        "print(m.address, m.price, m.number_of_rooms)  # Output: 123 Main St 500000 10\n"
      ],
      "metadata": {
        "colab": {
          "base_uri": "https://localhost:8080/"
        },
        "id": "EaCu-AkDIii5",
        "outputId": "6512bb6e-f322-458f-d3fd-1cec9349baca"
      },
      "execution_count": 21,
      "outputs": [
        {
          "output_type": "stream",
          "name": "stdout",
          "text": [
            "123 Main St 500000 10\n"
          ]
        }
      ]
    }
  ]
}