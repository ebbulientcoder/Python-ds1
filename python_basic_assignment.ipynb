{
  "nbformat": 4,
  "nbformat_minor": 0,
  "metadata": {
    "colab": {
      "provenance": []
    },
    "kernelspec": {
      "name": "python3",
      "display_name": "Python 3"
    },
    "language_info": {
      "name": "python"
    }
  },
  "cells": [
    {
      "cell_type": "markdown",
      "source": [
        "# 1. What is Python, and why is it popular?\n",
        "Python is a high-level, versatile programming language known for its simplicity and readability. It is popular due to its easy-to-learn syntax, vast libraries, strong community support, cross-platform compatibility, and widespread use in web development, data science, AI, and automation.\n",
        "# 2.What is an interpreter in Python?\n",
        "  An interpreter in Python is a program that executes Python code line by line, converting it into machine-readable instructions. It allows for dynamic execution, making Python easy to test and debug.\n",
        "# 3.What are pre-defined keywords in Python?\n",
        "Pre-defined keywords in Python are reserved words that have special meanings and cannot be used as variable names or identifiers. They define the syntax and structure of Python programs. Examples include if, else, while, for, def, class, import, try, except, True, False, None, etc.\n",
        "# 4. Can keywords be used as variable names ?\n",
        "No, keywords cannot be used as variable names in Python because they have predefined meanings and are part of the language's syntax.\n",
        "#5. What is mutability in Python?\n",
        "Mutability in Python refers to whether an object’s value can be changed after creation. Mutable objects (e.g., lists, dictionaries, sets) can be modified, while immutable objects (e.g., strings, tuples, integers) cannot.\n",
        "#6. Why are lists mutable, but tuples are immutable?\n",
        "Lists are mutable because they allow modifications like adding, removing, or changing elements. Tuples are immutable because they are designed for fixed data, preventing accidental modifications and improving performance.\n",
        "#7.What is the difference between “==” and “is” operators in Python?\n",
        "== (Equality Operator) checks if values of two objects are equal.\n",
        "is (Identity Operator) checks if two objects refer to the same memory location.\n",
        "Example:\n",
        "\n",
        "a = [1, 2, 3]  \n",
        "b = [1, 2, 3]  \n",
        "print(a == b)  # True (Same values)  \n",
        "print(a is b)  # False (Different memory locations)  \n",
        "#8.What are logical operators in Python?\n",
        "Logical operators in Python are used to combine conditional statements. They include:\n",
        "\n",
        "- and – Returns True if both conditions are True.\n",
        "- or – Returns True if at least one condition is True.\n",
        "- not – Reverses the boolean value.\n",
        "Example:\n",
        "\n",
        "x = 5  \n",
        "print(x > 2 and x < 10)  # True  \n",
        "print(x > 10 or x < 3)   # False  \n",
        "print(not(x > 2))        # False  \n",
        "#9.What is type casting in Python?\n",
        "Type casting in Python is converting one data type into another. It can be implicit (automatic) or explicit (manual using functions like int(), float(), str()).\n",
        "\n",
        "Example:\n",
        "x = \"10\"\n",
        "y = int(x)\n",
        " -  Explicit casting: string to integer\n",
        "print(y + 5)  # Output: 15\n",
        "#10.What is the difference between implicit and explicit type casting?\n",
        "\n",
        "* Implicit Type Casting – Python automatically converts a smaller data type to a larger one to avoid data loss.\n",
        "x = 5  \n",
        "y = 2.5  \n",
        "z = x + y  # int → float  \n",
        "print(type(z))  # Output: <class 'float'>\n",
        "* Explicit Type Casting –  Manually converting data types using functions like int(), float(), str().\n",
        "x = \"10\"  \n",
        "y = int(x)  # Convert string to int  \n",
        "print(type(y))  # Output: <class 'int'>\n",
        "#11.What is the purpose of conditional statements in Python?\n",
        "Conditional statements in Python control the flow of execution based on conditions. They allow the program to make decisions using if, elif, and else statements.\n",
        "\n",
        "Example:\n",
        "x = 10  \n",
        "if x > 5:  \n",
        "    print(\"x is greater than 5\")  \n",
        "else:  \n",
        "    print(\"x is 5 or less\")  \n",
        "# 12.How does the elif statement work?\n",
        "The elif statement in Python allows checking multiple conditions after an if statement. If the if condition is False, it moves to elif; if all conditions fail, else executes.\n",
        "\n",
        "Example:\n",
        "x = 10  \n",
        "if x > 15:  \n",
        "    print(\"Greater than 15\")  \n",
        "elif x > 5:  \n",
        "    print(\"Between 6 and 15\")  # This runs  \n",
        "else:  \n",
        "    print(\"5 or less\")  \n",
        "#13.What is the difference between for and while loops?\n",
        "for loop – Used for iterating over sequences (lists, tuples, strings, etc.) or a range of values.\n",
        "for i in range(5):  \n",
        "    print(i)  # Outputs: 0 1 2 3 4\n",
        "while loop – Runs as long as a condition is True, useful for indefinite repetition.\n",
        "x = 0  \n",
        "while x < 5:  \n",
        "    print(x)  \n",
        "    x += 1  # Outputs: 0 1 2 3 4\n",
        "#14.Describe a scenario where a while loop is more suitable than a for loop.\n",
        "A while loop is more suitable when the number of iterations is unknown beforehand and depends on a condition.\n",
        "\n",
        "Example: User Input Validation\n",
        "password = \"\"  \n",
        "while password != \"1234\":  \n",
        "    password = input(\"Enter password: \")  \n",
        "print(\"Access granted!\")  \n",
        "Here, the loop runs until the correct password is entered, making while the better choice.\n",
        "\n"
      ],
      "metadata": {
        "id": "XXRyRIOEjKsO"
      }
    },
    {
      "cell_type": "code",
      "source": [
        "# 1. Write a Python program to print \"Hello, World!\"\n",
        "\n",
        "print(\"Hello, World!\")\n"
      ],
      "metadata": {
        "id": "MxkVrqX5oDRR"
      },
      "execution_count": null,
      "outputs": []
    },
    {
      "cell_type": "code",
      "source": [
        "# 2.Write a Python program that displays your name and age?\n",
        "\n",
        "name = \"MOHD. YUSUF\"\n",
        "age = 25\n",
        "\n",
        "print(\"My name is\", name, \"and I am\", age, \"years old.\")\n"
      ],
      "metadata": {
        "id": "KocYE8COoSfg"
      },
      "execution_count": null,
      "outputs": []
    },
    {
      "cell_type": "code",
      "source": [
        "# 3.Write code to print all the pre-defined keywords in Python using the keyword library?\n",
        "\n",
        "import keyword\n",
        "\n",
        "print(\"The list of keywords is : \")\n",
        "print(keyword.kwlist)\n"
      ],
      "metadata": {
        "colab": {
          "base_uri": "https://localhost:8080/"
        },
        "id": "PhH0hWADol2t",
        "outputId": "b536af7f-b957-4214-9a06-c41e75ff7847"
      },
      "execution_count": 3,
      "outputs": [
        {
          "output_type": "stream",
          "name": "stdout",
          "text": [
            "The list of keywords is : \n",
            "['False', 'None', 'True', 'and', 'as', 'assert', 'async', 'await', 'break', 'class', 'continue', 'def', 'del', 'elif', 'else', 'except', 'finally', 'for', 'from', 'global', 'if', 'import', 'in', 'is', 'lambda', 'nonlocal', 'not', 'or', 'pass', 'raise', 'return', 'try', 'while', 'with', 'yield']\n"
          ]
        }
      ]
    },
    {
      "cell_type": "code",
      "source": [
        "# 4.Write a program that checks if a given word is a Python keyword.\n",
        "\n",
        "import keyword\n",
        "\n",
        "def is_keyword(word):\n",
        "  word = word.capitalize()\n",
        "  return keyword.iskeyword(word)\n",
        "\n",
        "word = input(\"Enter a word: \")\n",
        "\n",
        "\n",
        "if is_keyword(word):\n",
        "  print(f\"'{word}' is a Python keyword.\")\n",
        "else:\n",
        "  print(f\"'{word}' is not a Python keyword.\")\n"
      ],
      "metadata": {
        "colab": {
          "base_uri": "https://localhost:8080/"
        },
        "id": "qpuA5PDKo1qF",
        "outputId": "864f839c-7fbf-4c33-be4a-83bb6ade5393"
      },
      "execution_count": 9,
      "outputs": [
        {
          "output_type": "stream",
          "name": "stdout",
          "text": [
            "Enter a word: True\n",
            "'True' is a Python keyword.\n"
          ]
        }
      ]
    },
    {
      "cell_type": "code",
      "source": [
        "# 5.Create a list and tuple in Python, and demonstrate how attempting to change an element works differently for each\n",
        "\n",
        "my_list = [1, 2, 3]\n",
        "\n",
        "my_tuple = (1, 2, 3)\n",
        "\n",
        "my_list[0] = 4\n",
        "print(\"Modified list:\", my_list)\n",
        "# Attempt to change an element in the tuple\n",
        "try:\n",
        "  my_tuple[0] = 4\n",
        "except TypeError as e:\n",
        "  print(\"Error:\", e)  # Output: Error: 'tuple' object does not support item assignment\n"
      ],
      "metadata": {
        "colab": {
          "base_uri": "https://localhost:8080/"
        },
        "id": "b24lo42iq_V7",
        "outputId": "0b9e5544-7d22-4e17-b3cb-6de7e313ae4d"
      },
      "execution_count": 10,
      "outputs": [
        {
          "output_type": "stream",
          "name": "stdout",
          "text": [
            "Modified list: [4, 2, 3]\n",
            "Error: 'tuple' object does not support item assignment\n"
          ]
        }
      ]
    },
    {
      "cell_type": "code",
      "source": [
        "# 6.Write a function to demonstrate the behavior of mutable and immutable arguments.\n",
        "def modify_values(num, my_list):\n",
        "    num += 10  # Modifying immutable integer\n",
        "    my_list.append(4)  # Modifying mutable list\n",
        "\n",
        "# Immutable argument\n",
        "x = 5\n",
        "# Mutable argument\n",
        "y = [1, 2, 3]\n",
        "\n",
        "modify_values(x, y)\n",
        "\n",
        "print(\"Value of x after function call:\", x)  # Still 5 (unchanged)\n",
        "print(\"Value of y after function call:\", y)  # List modified: [1, 2, 3, 4]\n",
        "\n"
      ],
      "metadata": {
        "colab": {
          "base_uri": "https://localhost:8080/"
        },
        "id": "Af3ddKsxrqEV",
        "outputId": "a013720b-a200-4c29-cd7b-02c304c0e7cd"
      },
      "execution_count": 12,
      "outputs": [
        {
          "output_type": "stream",
          "name": "stdout",
          "text": [
            "Value of x after function call: 5\n",
            "Value of y after function call: [1, 2, 3, 4]\n"
          ]
        }
      ]
    },
    {
      "cell_type": "code",
      "source": [
        "#7.Write a program that performs basic arithmetic operations on two user-input numbers.\n",
        "num1 = float(input(\"Enter the first number: \"))\n",
        "num2 = float(input(\"Enter the second number: \"))\n",
        "\n",
        "sum_result = num1 + num2\n",
        "difference_result = num1 - num2\n",
        "product_result = num1 * num2\n",
        "print(\"Sum:\", sum_result)\n",
        "print(\"Difference:\", difference_result)\n",
        "print(\"Product:\", product_result)\n"
      ],
      "metadata": {
        "colab": {
          "base_uri": "https://localhost:8080/"
        },
        "id": "0cT7DpJNs6c3",
        "outputId": "b5b130b7-f04f-457b-bca3-8c0c6f156be1"
      },
      "execution_count": 14,
      "outputs": [
        {
          "output_type": "stream",
          "name": "stdout",
          "text": [
            "Enter the first number: 3\n",
            "Enter the second number: 4\n",
            "Sum: 7.0\n",
            "Difference: -1.0\n",
            "Product: 12.0\n"
          ]
        }
      ]
    },
    {
      "cell_type": "code",
      "source": [
        "# 8.Write a program to demonstrate the use of logical operators.\n",
        "\n",
        "x = 5\n",
        "y = 10\n",
        "\n",
        "# 'and' operator: Both conditions must be true\n",
        "if x > 0 and y > 0:\n",
        "  print(\"Both x and y are greater than 0.\")\n",
        "\n",
        "# 'or' operator: At least one condition must be true\n",
        "if x > 10 or y > 10:\n",
        "  print(\"At least one of x or y is greater than 10.\")\n",
        "\n",
        "# 'not' operator: Inverts the truth value of a condition\n",
        "if not x == y:\n",
        "  print(\"x is not equal to y.\")\n",
        "\n",
        "# Example with nested conditions\n",
        "if x > 0:\n",
        "  if y > 0:\n",
        "    print(\"Both x and y are positive.\")\n"
      ],
      "metadata": {
        "id": "K8MNbGB7tkmI"
      },
      "execution_count": null,
      "outputs": []
    },
    {
      "cell_type": "code",
      "source": [
        "# 9.Write a Python program to convert user input from string to integer, float, and boolean types.\n",
        "# Taking user input as a string\n",
        "user_input = input(\"Enter a value: \")\n",
        "\n",
        "# Converting to integer, float, and boolean\n",
        "int_value = int(user_input)\n",
        "float_value = float(user_input)\n",
        "bool_value = bool(int_value)  # Boolean is True for non-zero values\n",
        "\n",
        "# Displaying the results\n",
        "print(\"Integer:\", int_value)\n",
        "print(\"Float:\", float_value)\n",
        "print(\"Boolean:\", bool_value)\n"
      ],
      "metadata": {
        "id": "vSPueV5Xt4fX"
      },
      "execution_count": null,
      "outputs": []
    },
    {
      "cell_type": "code",
      "source": [
        "# 10.Write code to demonstrate type casting with list elements.\n",
        "# List of strings\n",
        "str_list = [\"10\", \"20\", \"30\", \"40.5\"]\n",
        "\n",
        "# Converting to integers and floats\n",
        "int_list = [int(x) for x in str_list[:-1]]\n",
        "float_list = [float(x) for x in str_list]\n",
        "\n",
        "print(\"Original List:\", str_list)\n",
        "print(\"Integer List:\", int_list)\n",
        "print(\"Float List:\", float_list)\n"
      ],
      "metadata": {
        "id": "eeuPUhWauziZ"
      },
      "execution_count": null,
      "outputs": []
    },
    {
      "cell_type": "code",
      "source": [
        "# 11.Write a program that checks if a number is positive, negative, or zero.\n",
        "\n",
        "def check_number(number):\n",
        "  \"\"\"Checks if a number is positive, negative, or zero.\"\"\"\n",
        "\n",
        "  if number > 0:\n",
        "    print(\"The number is positive.\")\n",
        "  elif number < 0:\n",
        "    print(\"The number is negative.\")\n",
        "  else:\n",
        "    print(\"The number is zero.\")\n",
        "\n",
        "\n",
        "# Get input from the user\n",
        "number = float(input(\"Enter a number: \"))\n",
        "\n",
        "# Call the function to check the number\n",
        "check_number(number)\n"
      ],
      "metadata": {
        "id": "6ktTQPygvtZJ"
      },
      "execution_count": null,
      "outputs": []
    },
    {
      "cell_type": "code",
      "source": [
        "# 12.Write a for loop to print numbers from 1 to 10.\n",
        "\n",
        "for i in range(1, 11):\n",
        "print(i)\n"
      ],
      "metadata": {
        "id": "oIWVdPEpv9Xa"
      },
      "execution_count": null,
      "outputs": []
    },
    {
      "cell_type": "code",
      "source": [
        "# 1 Write a Python program to find the sum of all even numbers between 1 and 50.\n",
        "\n",
        "\n",
        "sum_of_evens = 0\n",
        "for number in range(1, 51):\n",
        "  # Check if the number is even\n",
        "  if number % 2 == 0:\n",
        "    # Add the even number to the sum\n",
        "    sum_of_evens += number\n",
        "\n",
        "print(\"The sum of all even numbers between 1 and 50 is:\", sum_of_evens)\n"
      ],
      "metadata": {
        "id": "gRIWkp5KwGf8"
      },
      "execution_count": null,
      "outputs": []
    },
    {
      "cell_type": "code",
      "source": [
        "#14.Write a program to reverse a string using a while loop.\n",
        "\n",
        "def reverse_string(input_string):\n",
        "\n",
        "  reversed_string = \"\"\n",
        "  index = len(input_string) - 1\n",
        "\n",
        "  while index >= 0:\n",
        "    reversed_string += input_string[index]\n",
        "    index -= 1\n",
        "\n",
        "  return reversed_string\n",
        "\n",
        "string_to_reverse = input(\"Enter a string: \")\n",
        "\n",
        "reversed_string = reverse_string(string_to_reverse)\n",
        "print(\"Reversed string:\", reversed_string)\n"
      ],
      "metadata": {
        "id": "E27TvL0ewc7W"
      },
      "execution_count": null,
      "outputs": []
    },
    {
      "cell_type": "code",
      "source": [
        "# 15.Write a Python program to calculate the factorial of a number provided by the user using a while loop\n",
        "\n",
        "def factorial(n):\n",
        "\n",
        "  if n < 0:\n",
        "    return \"Factorial is not defined for negative numbers\"\n",
        "  elif n == 0:\n",
        "    return 1\n",
        "  else:\n",
        "    fact = 1\n",
        "    while n > 1:\n",
        "      fact *= n\n",
        "      n -= 1\n",
        "    return fact\n",
        "\n",
        "number = int(input(\"Enter a non-negative integer: \"))\n",
        "\n",
        "result = factorial(number)\n",
        "print(f\"The factorial of {number} is {result}\")\n"
      ],
      "metadata": {
        "id": "IHt0S_z2xQNi"
      },
      "execution_count": null,
      "outputs": []
    }
  ]
}