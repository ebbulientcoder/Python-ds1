{
  "nbformat": 4,
  "nbformat_minor": 0,
  "metadata": {
    "colab": {
      "provenance": []
    },
    "kernelspec": {
      "name": "python3",
      "display_name": "Python 3"
    },
    "language_info": {
      "name": "python"
    }
  },
  "cells": [
    {
      "cell_type": "markdown",
      "source": [
        "Python DS Assignment"
      ],
      "metadata": {
        "id": "Xn3NPPCAygiL"
      }
    },
    {
      "cell_type": "markdown",
      "source": [
        "1.What are data structures, and why are they important?\n",
        "  - Data structures are methods to arrange, store, and control information efficiently in a computer's memory. They are crucial for tasks like finding, arranging, adding, and removing data quickly. Types of Data Structures in Python\n",
        "  1. Built-in Data Structures.\n",
        "  - These are available for direct use in Python:\n",
        "  - **List (list):** This acts like a flexible array that can hold different types of data. For example: ```python my_list = [1, 2, 3, \"Python\", 5.6] ```\n",
        "  - **Tuple (tuple):** Represents an ordered collection where items cannot be changed. Example: ```python my_tuple = (10, 20, 30) ```\n",
        "  - **Set (set):** A collection that keeps only unique elements and does not maintain an order. Example: ```python my_set = {1, 2, 3, 4, 4} # Result: {1, 2, 3, 4} ```\n",
        "  - **Dictionary (dict):** A set of key-value pairs for fast searching. For example: ```python my_dict = {\"name\": \"Alice\", \"age\": 25} ```\n",
        "  \n",
        "  -Why Are Data Structures Important?\n",
        "  - **Efficiency:** They help in using memory better and make operations faster.\n",
        "  - **Faster Processing:** Makes accessing and updating data quick and easy.\n",
        "  - **Organized Data Management:** Provides a neat method to store and find information.\n",
        "  - **Real-World Applications:** Used in many areas like databases, artificial intelligence, building websites, and computer networking. Data structures are essential in programming. They enable efficient data handling and influence software performance in many important applications.\n",
        "\n",
        "  2.Explain the difference between mutable and immutable data types with examples?\n",
        "  - In Python, we have two main types of data: mutable and immutable.\n",
        "  **Mutable Data Types**: These are types of data you can change even after you create them. You can add, remove, or change parts of the data.\n",
        "  **Immutable Data Types**: Once you create these types of data, you cannot change them. If you need something different, you have to create a new one.\n",
        "  **Examples of Mutable Data Types:**\n",
        "  - **List**: This is a collection that you can modify.\n",
        "  For instance: ```python my_list = [1, 2, 3] my_list[0] = 10 # You can change an item print(my_list) # Now the list is [10, 2, 3] ``` -\n",
        "  **Dictionary**: This consists of key-value pairs that you can change.\n",
        "  For example: ```python my_dict = {\"a\": 1, \"b\": 2} my_dict[\"a\"] = 100 # Updating a value is possible ```\n",
        "  **Examples of Immutable Data Types:**\n",
        "  - **Tuple**: These are like lists, but you cannot modify them. For example: ```python my_tuple = (1, 2, 3) my_tuple[0] = 10\n",
        "  # ❌ You will get an error because tuples can't be changed ```\n",
        "  - **String**: A sequence of characters you cannot change. For example: ```python my_string = \"hello\" my_string[0] = \"H\"\n",
        "  # ❌ This results in an error because strings are immutable ```\n",
        "  To sum up, use mutable data types like lists and dictionaries when you want to change your data later. On the other hand, use immutable data types like tuples and strings when your data should not change.\n",
        "  \n",
        "3.What are the main differences between lists and tuples in Python?\n",
        "In Python, both lists and tuples are types of sequences, but they differ in whether they can be changed after creation.\n",
        "\n",
        "**Lists\n",
        "- ** can be changed, meaning you can modify, add, or remove elements after the list is made. You create a list using square brackets, like this: `[]`. Because lists can be changed, they take up more memory and can be a little slower to use. Here's an example:\n",
        "\n",
        "```python\n",
        "my_list = [1, 2, 3]\n",
        "my_list[0] = 10  # This is okay; you can change list elements\n",
        "```\n",
        "\n",
        "**Tuples\n",
        "- ** cannot be changed once they are created. This is called being immutable. You create a tuple using parentheses: `()`. Since tuples can't be modified, they use less memory and run faster, which is useful for storing data that doesn't need to change. Here's how a tuple works:\n",
        "\n",
        "```python\n",
        "my_tuple = (1, 2, 3)\n",
        "my_tuple[0] = 10  # ❌ Error: Tuples can't be changed\n",
        "```\n",
        "\n",
        "In short, choose lists when your data needs to change, like when you're frequently updating information. On the other hand, use tuples when you have data that you'll keep the same, such as a fixed set of constants or configuration values.\n",
        "\n",
        "Qs.4.Describe how dictionaries store data?\n",
        "- **Dictionaries, also known as \"dict,\" use a hash table for data storage. This means that when you provide a key, it is processed through something called hashing. Hashing creates a unique memory location for each key, which allows the computer to find the value linked to that key quickly. In a dictionary, data is stored in pairs known as key-value pairs. This means every key has a specific value connected to it.\n",
        "- How It Works Internally\n",
        "1. Hashing: When a key is added, Python uses a function named hash() to turn it into a hash value.\n",
        "2. Index Mapping: This hash value is then used to decide where to store the key-value pair in an internal array.\n",
        "3. Collision Handling: Occasionally, different keys might produce the same hash value, which is called a collision. Python can handle these collisions using techniques like probing or chaining.\n",
        "**Key Characteristics of Dictionaries\n",
        "- Fast Lookups: Retrieving a value is fast, with an average time complexity of O(1).\n",
        "- Dynamic Sizing: The dictionary can increase in size as you add more key-value pairs. - Order-Preserving: Since Python version 3.7, dictionaries maintain the order in which items are added.\n",
        "- Keys Must Be Immutable: Keys must be types that cannot change, such as strings (str), numbers (int), or tuples. You cannot use lists or dictionaries as keys because they can change.\n",
        "- Example Usage Here's a simple example:\n",
        "-```python my_dict = {\"name\": \"Alice\", \"age\": 25, \"city\": \"New York\"} print(my_dict[\"name\"])\n",
        "# This will print: Alice\n",
        "- Adding a new key-value pair my_dict[\"job\"] = \"Engineer\"\n",
        "# Going through each key and value in the dictionary for key, value in my_dict.items(): print(key, \":\", value) ```\n",
        "-  Dictionaries are very useful for storing information that is related, settings, and organized data. They are widely used in programming because they allow you to store and retrieve data efficiently and easily.\n",
        "\n",
        "QS.5 Why might you use a set instead of a list in Python?\n",
        "- In Python, a set is a collection of items that are unique and not arranged in any order.\n",
        "On the other hand, a list is a collection where the order of items is maintained and duplicates are allowed. Deciding whether to use a set or a list depends on your needs.\n",
        "If you need to quickly find items and make sure they’re unique, sets are the way to go. Benefits of Using a Set 1. **Automatic Removal of Duplicates** - Sets automatically remove any duplicate items.\n",
        "- Lists, however, can have the same item more than once.\n",
        " - For example: ```python my_list = [1, 2, 2, 3, 3, 4] my_set = set(my_list)\n",
        "Converts to {1, 2, 3, 4} ```\n",
        "2. **Faster Searching** - Checking if an item exists in a set is much faster (called O(1) time complexity) compared to a list (O(n) time complexity), where you may need to check each item.\n",
        "- For instance: ```python my_list = [1, 2, 3, 4, 5] print(3 in my_list)\n",
        "# Takes longer my_set = {1, 2, 3, 4, 5} print(3 in my_set) # Quick check ```\n",
        "3. **Performing Mathematical Operations** - Sets make it simple to perform operations like union, intersection, and difference, which are helpful for solving math-related tasks. - Example: ```\n",
        "python A = {1, 2, 3} B = {3, 4, 5} print(A | B)\n",
        "# Union, results in {1, 2, 3, 4, 5} print(A & B)\n",
        "# Intersection, results in {3} print(A - B)\n",
        "# Difference, results in {1, 2} ```\n",
        "4. **Efficient Use of Memory**\n",
        "- Because sets don’t keep duplicates, they use less memory than lists when storing many unique items. When to Use a List Instead of a Set?\n",
        "- If you need the items to stay in a specific order, use a list because sets do not keep things ordered. - Use a list if you want to have duplicates in your collection.\n",
        "- If you plan to change the items frequently, a list is better. You can easily add or change items in a list, but sets mainly allow for adding or removing, not altering existing items.\n",
        "- Conclusion Choose sets if you want to ensure all items are unique and need to find items quickly. Choose lists when you care about the order or need to keep some items appearing more than once.\n",
        "\n",
        "Qs.6)What is a string in Python, and how is it different from a list?\n",
        "-In Python, a string is a fixed set of characters that you can't change once it's made. These characters are inside quotes, like \"\" or ''.\n",
        "- Strings are different from lists. Lists can hold different types of data and you can change them, while strings can only have characters and stay the same after you create them.\n",
        "If you want to change a string, you have to make a new one.\n",
        "\n",
        "For example, if you have a string:\n",
        "\n",
        "```python\n",
        "s = \"hello\"\n",
        "```\n",
        "\n",
        "You can't do this:\n",
        "\n",
        "```python\n",
        "s[0] = \"H\"  # This will cause an error because strings can't be changed\n",
        "```\n",
        "\n",
        "But if you have a list:\n",
        "\n",
        "```python\n",
        "lst = [\"h\", \"e\", \"l\", \"l\", \"o\"]\n",
        "```\n",
        "\n",
        "You can do this:\n",
        "\n",
        "```python\n",
        "lst[0] = \"H\"  # This works because lists can be changed\n",
        "```\n",
        "\n",
        "Strings are mainly used when you want to work with text. They help you read, write, and process text. Lists are best when you need to collect, store, and change various data items.\n",
        "\n",
        "Qs.7)How do tuples ensure data integrity in Python?\n",
        "- Tuples in Python are a great way to keep data secure because once you create them, you cannot change them.\n",
        "This means you can't modify, add, or remove items in a tuple. This feature helps prevent mistakes, so tuples work well for keeping information that must not change, like constant values, configurations, or sensitive data. Because tuples are unchangeable, they also perform better and can be used as keys in dictionaries.\n",
        "\n",
        "Here's an example to illustrate this:\n",
        "\n",
        "```python\n",
        "coordinates = (10.5, 20.3)  # These values are fixed\n",
        "coordinates[0] = 15  # ❌ Error: Tuples do not allow modification\n",
        "```\n",
        "\n",
        "By ensuring that data remains stable and consistent, tuples play a key role in maintaining the integrity of information within programs. They are an important tool for developers looking to protect their data and ensure everything runs smoothly.\n",
        "\n",
        "QS.8)What is a hash table, and how does it relate to dictionaries in Python?\n",
        "- A hash table is a way to organize data. It keeps pairs of keys and values together and uses a hashing function to find where the information is stored in memory quickly. This makes it fast to access the data. In Python, a programming language, dictionaries (known as 'dict') use hash tables. This allows you to quickly look up, add, or remove information, usually in constant time, which means very fast access.\n",
        "\n",
        "For each key in the dictionary, Python uses a hash function to turn the key into a number. This number helps find where to store or find the value. Sometimes, two keys might end up with the same number, called a collision. When this happens, Python uses methods like probing or chaining to keep the data organized and ensure everything works smoothly.\n",
        "\n",
        "Here’s an example of how you might use a dictionary in Python:\n",
        "\n",
        "```python\n",
        "my_dict = {\"name\": \"Alice\", \"age\": 25}\n",
        "print(my_dict[\"name\"])  # This shows a fast way to find a value using hashing\n",
        "```\n",
        "\n",
        "By using hash tables, dictionaries make working with your data fast and efficient. They are especially useful when you need to store a lot of information and access it regularly.\n",
        "\n",
        "QS.9)Can lists contain different data types in Python?\n",
        "- Yes, in Python, you can store different types of data in lists. This is because lists are heterogeneous, meaning they can hold a variety of data types. For example, a list can include numbers, words, decimal numbers, true/false values, and even other lists or objects all together. This flexibility makes lists very useful for storing and working with different kinds of data.\n",
        "\n",
        "Here's an example of a list in Python:\n",
        "\n",
        "```python\n",
        "my_list = [10, \"hello\", 3.14, True, [1, 2, 3]]\n",
        "```\n",
        "\n",
        "This example shows that a list named `my_list` can hold an integer, a string, a float, a boolean, and another list. Lists in Python are powerful tools for managing diverse data types in one place. They help organize mixed data, making it simpler to perform different operations or processes on them.\n",
        "\n",
        "QS.10)Explain why strings are immutable in Python?\n",
        "- In Python, strings are set up so you can't change them after they're created. This is known as immutability. It helps keep data secure, makes things run efficiently, and ensures consistent data management. Once you make a string, its content stays the same, which prevents errors from accidental changes. This also allows strings to function as keys in dictionaries since their value will not change unexpectedly.\n",
        "\n",
        "If you try to alter a string, Python won't change the old one but will instead create a completely new string in memory.\n",
        "\n",
        "Here's an example:\n",
        "\n",
        "Suppose you have a string `s = \"hello\"`. Trying to change a letter like this: `s[0] = \"H\"` will give you an error because strings can't be changed after they are made. But if you want a string that starts with a capital \"H,\" you would write `s = \"Hello\"`, and Python will make this a new string.\n",
        "\n",
        "The immutability of strings is advantageous because it helps optimize performance and ensures safety when parts of the code run simultaneously in threads.\n",
        "\n",
        "QS.11)What advantages do dictionaries offer over lists for certain tasks?\n",
        "- Dictionaries are a useful tool for storing and finding information quickly compared to lists. They use something called hash tables, which help them find data much faster. This is known as O(1) time on average, meaning they can usually get what you need almost instantly. On the other hand, lists may take more time to find information, requiring O(n) time since they might have to check through each item one by one.\n",
        "\n",
        "The way dictionaries work is by storing information as key-value pairs. This system makes it easier to organize and retrieve your data, especially when you need to link different pieces of information in a meaningful way. This is often required when dealing with associative relationships.\n",
        "\n",
        "For example, you can create a dictionary like this:\n",
        "```\n",
        "users = {\"Alice\": 25, \"Bob\": 30}\n",
        "```\n",
        "This dictionary stores ages of users with their names as keys. If you want to know Alice's age, you simply use `print(users[\"Alice\"])`, and it will return 25 right away. This demonstrates the quick O(1) lookup feature, which saves time compared to other methods.\n",
        "\n",
        "Overall, dictionaries are a great option when you need to create mappings between related data, perform fast searches, and store structured data effectively. They can be especially helpful when you want to keep your data organized and accessible without spending too much time searching through it.\n",
        "\n",
        "QS.12)Describe a scenario where using a tuple would be preferable over a list?\n",
        "- When you need to store data that shouldn't change, using a tuple is better than using a list. This choice helps protect your data and keeps your program efficient. Tuples are especially useful for storing things like coordinates, database records, or configuration settings because you don't want these values to change. Since tuples cannot be changed accidentally, they are faster and use less memory than lists.\n",
        "\n",
        "For example:\n",
        "\n",
        "coordinates = (40.7128, -74.0060)  # This is for Latitude & Longitude, which should stay the same.\n",
        "\n",
        "Tuples help keep your data stable and secure, and your program will run more efficiently in these situations.\n",
        "\n",
        "QS.13)How do sets handle duplicate values in Python?\n",
        "- In Python, sets are a type of collection that remove duplicate values automatically, keeping only unique items. When you add things to a set, Python uses a method called hashing. This helps it check and ensure there are no duplicate items, making sure each one appears just once. Because of this, sets are great for getting rid of duplicate items in a collection.\n",
        "\n",
        "Here's how it works:\n",
        "\n",
        "```python\n",
        "my_set = {1, 2, 2, 3, 4, 4}\n",
        "print(my_set)  # Output: {1, 2, 3, 4}\n",
        "```\n",
        "\n",
        "In this example, you can see that the duplicate numbers are removed, and the set keeps only the numbers 1, 2, 3, and 4, which are all unique.\n",
        "\n",
        "Sets are not only useful for managing unique data but also allow you to find items quickly. They are efficient for these tasks.\n",
        "\n",
        "QS.14)How does the “in” keyword work differently for lists and dictionaries?\n",
        "- In Python, the **in** keyword is used in different ways when working with lists and dictionaries. Let's break it down:\n",
        "\n",
        "- **Lists:** When you use **in** with a list, it checks each item one by one to see if a value is present in the list. This process can take some time because it checks every element until it either finds the value or reaches the end of the list. This is called O(n) time complexity, where \"n\" is the number of items in the list.\n",
        "\n",
        "- **Dictionaries:** When you use **in** with a dictionary, it looks for keys rather than values. A dictionary uses a system called hashing, which allows it to find keys quickly. This means that checking if a key is in the dictionary is much faster on average, with a time complexity of O(1).\n",
        "\n",
        "Let's look at an example to make it clearer:\n",
        "\n",
        "```python\n",
        "my_list = [10, 20, 30]\n",
        "print(20 in my_list)  # This will print True because it finds the value 20 in the list. The operation takes O(n) time.\n",
        "\n",
        "my_dict = {\"a\": 1, \"b\": 2}\n",
        "print(\"a\" in my_dict)  # This will print True because it finds the key \"a\" in the dictionary, and it takes O(1) time.\n",
        "print(1 in my_dict)    # This will print False because it does not look for values, only keys.\n",
        "```\n",
        "\n",
        "In summary, the use of dictionaries allows for faster checking compared to lists because of the hashing technique, which provides quicker lookups by focusing on keys instead of values.\n",
        "\n",
        "QS.15)Can you modify the elements of a tuple? Explain why or why not?\n",
        "- No, you cannot change the elements inside a tuple because tuples are immutable in Python. This immutability means that once you create a tuple, you can't change, add, or remove any of its elements. This feature helps keep the data safe, secure, and ensures the program runs faster.\n",
        "\n",
        "However, if a tuple contains objects that can change, like a list, you can modify those objects without affecting the tuple's structure.\n",
        "\n",
        "For example, consider this tuple: `t = (1, 2, [3, 4])`.\n",
        "\n",
        "- Attempting to change the first element with `t[0] = 10` will result in an error, as you are not allowed to modify the elements of a tuple.\n",
        "- On the other hand, you can modify the list inside the tuple. If you execute `t[2].append(5)`, it will add the number 5 to the list within the tuple.\n",
        "\n",
        "When you print the tuple `t`, it will display: `(1, 2, [3, 4, 5])`.\n",
        "\n",
        "Tuples are excellent for storing data that needs to remain unchanged, doing so effectively and efficiently.\n",
        "\n",
        "QS.16)What is a nested dictionary, and give an example of its use case?\n",
        "- A nested dictionary is a type of dictionary that you place inside another dictionary. This setup is helpful when you have to store data in an organized, layered way. It's particularly useful for managing structured information, such as user profiles, database records, or configuration settings where data needs to be organized.\n",
        "\n",
        "Let me give you an example to make it clearer:\n",
        "\n",
        "Imagine you have a dictionary called 'students'. Inside 'students', there is information about different individuals, like Alice and Bob. For each person, you have details like their age and grade stored in another dictionary inside the main one.\n",
        "\n",
        "Here's what it looks like:\n",
        "\n",
        "```python\n",
        "students = {\n",
        "    \"Alice\": {\"age\": 25, \"grade\": \"A\"},\n",
        "    \"Bob\": {\"age\": 22, \"grade\": \"B\"}\n",
        "}\n",
        "```\n",
        "\n",
        "If you want to find out Alice's grade, you use this line of code:\n",
        "\n",
        "```python\n",
        "print(students[\"Alice\"][\"grade\"])  # Output: A\n",
        "```\n",
        "\n",
        "Using nested dictionaries makes it easier to manage complex sets of data because everything is stored in a neat and organized manner. This way, you can access complicated data structures without getting lost in the details.\n",
        "\n",
        "QS.17)Describe the time complexity of accessing elements in a dictionary?\n",
        "- Accessing elements in a dictionary is generally very quick, with an average time complexity of O(1). This means that finding an item is almost instantaneous. Python achieves this speed by using hash tables, which connect keys to their corresponding values very efficiently.\n",
        "\n",
        "However, in some uncommon situations, there can be a hash collision, where different keys map to the same location. In these cases, you might have to check multiple keys one by one, which can slow things down to a worst-case time complexity of O(n). But this situation doesn't happen often.\n",
        "\n",
        "Here's an example to illustrate:\n",
        "\n",
        "```python\n",
        "my_dict = {\"a\": 1, \"b\": 2, \"c\": 3}\n",
        "print(my_dict[\"b\"])  # This type of lookup is typically very fast: O(1)\n",
        "```\n",
        "\n",
        "Dictionaries are a valuable tool because they allow for fast and efficient data retrieval, all thanks to their clever use of hashing. They make it easy to store data and quickly access it when needed. Hashing helps ensure that, most of the time, you can find what you need in just an instant, keeping your programs running smoothly and efficiently.\n",
        "\n",
        "QS.18) In what situations are lists preferred over dictionaries?\n",
        "- When you need to keep items in a specific order or want to access them one by one using numbers, lists are a better choice than dictionaries. Lists are great for keeping things organized in a specific sequence, repeating tasks, and managing duplicate items, which dictionaries can’t do. If you're only interested in the values and don't need to pair them with keys, lists use less memory.\n",
        "\n",
        "Here's an example:\n",
        "\n",
        "```python\n",
        "fruits = [\"apple\", \"banana\", \"cherry\"]  # Ordered collection\n",
        "print(fruits[1])  # Access by index, finding \"banana\"\n",
        "```\n",
        "\n",
        "In this list, \"banana\" is found at index 1 because it is the second item in the sequence.\n",
        "\n",
        "Therefore, use lists when you need to organize data in a sequence or access it step-by-step. If you want to look things up quickly using a specific name or key, dictionaries are more suitable.\n",
        "\n",
        "QS.19)Why are dictionaries considered unordered, and how does that affect data retrieval?\n",
        "- Before Python version 3.7, dictionaries in Python did not remember the order of items added. This is because they used a system called hash tables, which do not keep track of the order. However, starting with Python 3.7, dictionaries began to remember the order in which elements are added. Even with this change, dictionaries are still made to quickly find items by their key, not by where they are in line.\n",
        "\n",
        "When you look for a value using its key, it's very fast on average. But you cannot directly access items by their position number like with lists.\n",
        "\n",
        "For example, if you have a dictionary like below:\n",
        "\n",
        "```python\n",
        "my_dict = {\"b\": 2, \"a\": 1, \"c\": 3}\n",
        "print(my_dict)  # This will show: {'b': 2, 'a': 1, 'c': 3}\n",
        "```\n",
        "\n",
        "The order you see is the same as the order you added them. This means dictionaries are really good for finding items quickly using their keys. They are not designed for retrieving items based on their position in the list. If you want to get items by position, using a list would be better.\n",
        "\n",
        "QS.20)Explain the difference between a list and a dictionary in terms of data retrieval.\n",
        "- When you're getting data from a list or a dictionary in Python, it's important to know the difference in how you access the items. In a list, you find items using a number that shows their position, known as the index. This method is fast because it takes constant time, which means it doesn’t matter how big the list is (O(1)).\n",
        "\n",
        "For example:\n",
        "\n",
        "```python\n",
        "my_list = [\"apple\", \"banana\", \"cherry\"]\n",
        "```\n",
        "\n",
        "If you want the second fruit in the list, you use its index:\n",
        "\n",
        "```python\n",
        "print(my_list[1])  # This quickly gives you \"banana\".\n",
        "```\n",
        "\n",
        "With a dictionary, you access items using keys, which is like a label for each value. This is also fast for finding values, as long as you have the key you are looking for. On average, this method is also O(1), meaning it takes constant time. Before Python version 3.7, dictionaries didn't keep items in the order you added them, so the order wasn't something you could count on.\n",
        "\n",
        "Here's an example of a dictionary:\n",
        "\n",
        "```python\n",
        "my_dict = {\"fruit1\": \"apple\", \"fruit2\": \"banana\"}\n",
        "```\n",
        "\n",
        "To get the value for \"fruit2\", you use the key:\n",
        "\n",
        "```python\n",
        "print(my_dict[\"fruit2\"])  # This quickly gives you \"banana\".\n",
        "```\n",
        "\n",
        "So, if you need to keep your items in order, it's best to use a list. If you need to find specific values quickly by using a key or label, then a dictionary is the better choice. Lists help you access items by their position, while dictionaries let you retrieve items using keys for fast access to specific values."
      ],
      "metadata": {
        "id": "lm7F1OOhyrLQ"
      }
    },
    {
      "cell_type": "code",
      "execution_count": 2,
      "metadata": {
        "colab": {
          "base_uri": "https://localhost:8080/",
          "height": 35
        },
        "id": "jsSJiADZuO31",
        "outputId": "5e3fdf9b-33f7-4b67-c083-f118ed9e6047"
      },
      "outputs": [
        {
          "output_type": "execute_result",
          "data": {
            "text/plain": [
              "'Mohd.Yusuf'"
            ],
            "application/vnd.google.colaboratory.intrinsic+json": {
              "type": "string"
            }
          },
          "metadata": {},
          "execution_count": 2
        }
      ],
      "source": [
        "#QS.1 Write a code to create a string with your name and print it\n",
        "\n",
        "my_name = \"Mohd.Yusuf\"\n",
        "my_name\n"
      ]
    },
    {
      "cell_type": "code",
      "source": [
        "# QS.2 Write a code to find the length of the string \"Hello World\"\n",
        "\n",
        "my_str = \"Hello World\"\n",
        "str_length = len(my_str)\n",
        "str_length\n"
      ],
      "metadata": {
        "colab": {
          "base_uri": "https://localhost:8080/"
        },
        "id": "dN64_AJtlnEP",
        "outputId": "01a1dd1d-b8c1-4cce-ca36-166081282b4c"
      },
      "execution_count": 3,
      "outputs": [
        {
          "output_type": "execute_result",
          "data": {
            "text/plain": [
              "11"
            ]
          },
          "metadata": {},
          "execution_count": 3
        }
      ]
    },
    {
      "cell_type": "code",
      "source": [
        "# QS.3 Write a code to slice the first 3 characters from the string \"Python Programming\"\n",
        "\n",
        "my_str = \"Python Programming\"\n",
        "sliced_str = my_str[:3]\n",
        "sliced_str\n"
      ],
      "metadata": {
        "colab": {
          "base_uri": "https://localhost:8080/",
          "height": 35
        },
        "id": "2WZGKMTqmENh",
        "outputId": "23dc14c3-4c47-4cb3-b165-e6ad61f58453"
      },
      "execution_count": 4,
      "outputs": [
        {
          "output_type": "execute_result",
          "data": {
            "text/plain": [
              "'Pyt'"
            ],
            "application/vnd.google.colaboratory.intrinsic+json": {
              "type": "string"
            }
          },
          "metadata": {},
          "execution_count": 4
        }
      ]
    },
    {
      "cell_type": "code",
      "source": [
        "# QS.4 Write a code to convert the string \"hello\" to uppercase\n",
        "\n",
        "my_str = \"hello\"\n",
        "uppercase_str = my_str.upper()\n",
        "uppercase_str\n"
      ],
      "metadata": {
        "id": "V4Ie4CL5mlzZ"
      },
      "execution_count": null,
      "outputs": []
    },
    {
      "cell_type": "code",
      "source": [
        "# QS.5 Write a code to replace the word \"apple\" with \"orange\" in the string \"I like apple\"\n",
        "\n",
        "str = \"I like apple\"\n",
        "new_str =str.replace(\"apple\", \"orange\")\n",
        "new_str\n"
      ],
      "metadata": {
        "colab": {
          "base_uri": "https://localhost:8080/",
          "height": 35
        },
        "id": "YxYUhgChmxc6",
        "outputId": "e8fd9b9f-520a-4216-84e0-b0e93fbdce19"
      },
      "execution_count": 5,
      "outputs": [
        {
          "output_type": "execute_result",
          "data": {
            "text/plain": [
              "'I like orange'"
            ],
            "application/vnd.google.colaboratory.intrinsic+json": {
              "type": "string"
            }
          },
          "metadata": {},
          "execution_count": 5
        }
      ]
    },
    {
      "cell_type": "code",
      "source": [
        "# QS.6 Write a code to create a list with numbers 1 to 5 and print it\n",
        "\n",
        "my_list = list(range(1, 6))\n",
        "my_list\n"
      ],
      "metadata": {
        "id": "Raoi5fqCnD0p"
      },
      "execution_count": null,
      "outputs": []
    },
    {
      "cell_type": "code",
      "source": [
        "# QS.7 Write a code to append the number 10 to the list [1, 2, 3, 4]\n",
        "\n",
        "my_list = [1, 2, 3, 4]\n",
        "my_list.append(10)\n",
        "my_list"
      ],
      "metadata": {
        "colab": {
          "base_uri": "https://localhost:8080/"
        },
        "id": "8IJrj2JznUnS",
        "outputId": "5e7ea146-f4c2-47da-f686-739ce993f5f6"
      },
      "execution_count": 7,
      "outputs": [
        {
          "output_type": "execute_result",
          "data": {
            "text/plain": [
              "[1, 2, 3, 4, 10]"
            ]
          },
          "metadata": {},
          "execution_count": 7
        }
      ]
    },
    {
      "cell_type": "code",
      "source": [
        "#QS.8 Write a code to remove the number 3 from the list [1, 2, 3, 4, 5]\n",
        "my_list.remove(3)\n",
        "my_list"
      ],
      "metadata": {
        "colab": {
          "base_uri": "https://localhost:8080/"
        },
        "id": "VPy_CVcOn6Ee",
        "outputId": "62e6b23a-ad7b-45ce-9521-4b3caf06958c"
      },
      "execution_count": 8,
      "outputs": [
        {
          "output_type": "execute_result",
          "data": {
            "text/plain": [
              "[1, 2, 4, 10]"
            ]
          },
          "metadata": {},
          "execution_count": 8
        }
      ]
    },
    {
      "cell_type": "code",
      "source": [
        "#QS.9 Write a code to access the second element in the list ['a', 'b', 'c', 'd']\n",
        "\n",
        "my_list = ['a', 'b', 'c', 'd']\n",
        "sec_element = my_list[1]\n",
        "sec_element\n"
      ],
      "metadata": {
        "id": "i94zA97dn9S9"
      },
      "execution_count": null,
      "outputs": []
    },
    {
      "cell_type": "code",
      "source": [
        "#QS.10 Write a code to reverse the list [10, 20, 30, 40, 50].\n",
        "\n",
        "my_list = [10, 20, 30, 40, 50]\n",
        "rev_list = my_list[::-1]\n",
        "rev_list\n"
      ],
      "metadata": {
        "id": "2qCMX0u0oSBo"
      },
      "execution_count": null,
      "outputs": []
    },
    {
      "cell_type": "code",
      "source": [
        "# QS.11 Write a code to create a tuple with the elements 100, 200, 300 and print it.\n",
        "\n",
        "my_tuple = (100, 200, 300)\n",
        "my_tuple\n"
      ],
      "metadata": {
        "id": "wGsSME0oopUv"
      },
      "execution_count": null,
      "outputs": []
    },
    {
      "cell_type": "code",
      "source": [
        "# QS.12 Write a code to access the second-to-last element of the tuple ('red', 'green', 'blue', 'yellow').\n",
        "\n",
        "my_tuple = ('red', 'green', 'blue', 'yellow')\n",
        "secondlast_element = my_tuple[-2]\n",
        "secondlast_element\n"
      ],
      "metadata": {
        "colab": {
          "base_uri": "https://localhost:8080/",
          "height": 35
        },
        "id": "ZrLfu1tGo3Iu",
        "outputId": "63e0c69a-7f05-4655-c3d7-acc013ea350c"
      },
      "execution_count": 10,
      "outputs": [
        {
          "output_type": "execute_result",
          "data": {
            "text/plain": [
              "'blue'"
            ],
            "application/vnd.google.colaboratory.intrinsic+json": {
              "type": "string"
            }
          },
          "metadata": {},
          "execution_count": 10
        }
      ]
    },
    {
      "cell_type": "code",
      "source": [
        "#QS.13 Write a code to find the minimum number in the tuple (10, 20, 5, 15).\n",
        "\n",
        "my_tuple = (10, 20, 5, 15)\n",
        "min_number = min(my_tuple)\n",
        "min_number\n"
      ],
      "metadata": {
        "id": "IwG-DkEWo7pH"
      },
      "execution_count": null,
      "outputs": []
    },
    {
      "cell_type": "code",
      "source": [
        "#QS.14 . Write a code to find the index of the element \"cat\" in the tuple ('dog', 'cat', 'rabbit').\n",
        "\n",
        "my_tuple = ('dog', 'cat', 'rabbit')\n",
        "ind_of_cat = my_tuple.index('cat')\n",
        "ind_of_cat\n"
      ],
      "metadata": {
        "id": "Rm23HqTFpaMb"
      },
      "execution_count": null,
      "outputs": []
    },
    {
      "cell_type": "code",
      "source": [
        "# QS.15 Write a code to create a tuple containing three different fruits and check if \"kiwi\" is in it.\n",
        "\n",
        "my_tuple = (\"apple\", \"banana\", \"orange\")\n",
        "\n",
        "if \"kiwi\" in my_tuple:\n",
        "  print(\"Kiwi is available\")\n",
        "else:\n",
        "  print(\"Kiwi is not available\")\n"
      ],
      "metadata": {
        "id": "FjyKmKDUqjKx"
      },
      "execution_count": null,
      "outputs": []
    },
    {
      "cell_type": "code",
      "source": [
        "# QS.16 Write a code to create a set with the elements 'a', 'b', 'c' and print it.\n",
        "\n",
        "my_set = {'a', 'b', 'c'}\n",
        "my_set\n"
      ],
      "metadata": {
        "id": "4unvKFq0q329"
      },
      "execution_count": null,
      "outputs": []
    },
    {
      "cell_type": "code",
      "source": [
        "# QS.17 Write a code to clear all elements from the set {1, 2, 3, 4, 5}.\n",
        "\n",
        "my_set = {1, 2, 3, 4, 5}\n",
        "my_set.clear()\n",
        "my_set\n"
      ],
      "metadata": {
        "id": "-cXnIKLLrkrt"
      },
      "execution_count": null,
      "outputs": []
    },
    {
      "cell_type": "code",
      "source": [
        "# QS.18 Write a code to remove the element 4 from the set {1, 2, 3, 4}.\n",
        "\n",
        "my_set.remove(4)\n",
        "my_set\n"
      ],
      "metadata": {
        "id": "G2biLw1Cr5tK"
      },
      "execution_count": null,
      "outputs": []
    },
    {
      "cell_type": "code",
      "source": [
        "# QS.19 Write a code to find the union of two sets {1, 2, 3} and {3, 4, 5}.\n",
        "\n",
        "set1 = {1, 2, 3}\n",
        "set2 = {3, 4, 5}\n",
        "\n",
        "union_set = set1.union(set2)\n",
        "union_set\n"
      ],
      "metadata": {
        "id": "k2lLfGMksF1f"
      },
      "execution_count": null,
      "outputs": []
    },
    {
      "cell_type": "code",
      "source": [
        "# QS.20 Write a code to find the intersection of two sets {1, 2, 3} and {2, 3, 4}.\n",
        "\n",
        "set1 = {1, 2, 3}\n",
        "set2 = {2, 3, 4}\n",
        "\n",
        "ints_set = set1.intersection(set2)\n",
        "ints_set\n"
      ],
      "metadata": {
        "colab": {
          "base_uri": "https://localhost:8080/"
        },
        "id": "IkuyOy4OsS0F",
        "outputId": "ffaae763-eec1-43a0-e1a3-9d85e17fe9cc"
      },
      "execution_count": 11,
      "outputs": [
        {
          "output_type": "execute_result",
          "data": {
            "text/plain": [
              "{2, 3}"
            ]
          },
          "metadata": {},
          "execution_count": 11
        }
      ]
    },
    {
      "cell_type": "code",
      "source": [
        "# QS.21 Write a code to create a dictionary with the keys \"name\", \"age\", and \"city\", and print it.\n",
        "\n",
        "my_dict = {\n",
        "    \"name\": \"Mohd. yusuf\",\n",
        "    \"age\": 24,\n",
        "    \"city\": \"dubai\"\n",
        "}\n",
        "\n",
        "my_dict\n"
      ],
      "metadata": {
        "colab": {
          "base_uri": "https://localhost:8080/"
        },
        "id": "zlEj4GvysvSw",
        "outputId": "3f927443-169e-4df7-ce06-36a5bbe42aa9"
      },
      "execution_count": 12,
      "outputs": [
        {
          "output_type": "execute_result",
          "data": {
            "text/plain": [
              "{'name': 'Mohd. yusuf', 'age': 24, 'city': 'dubai'}"
            ]
          },
          "metadata": {},
          "execution_count": 12
        }
      ]
    },
    {
      "cell_type": "code",
      "source": [
        "# QS.22 Write a code to add a new key-value pair \"country\": \"USA\" to the dictionary {'name': 'John', 'age': 25}\n",
        "\n",
        "my_dict = {'name': 'John', 'age': 25}\n",
        "my_dict['country'] = 'USA'\n",
        "my_dict\n"
      ],
      "metadata": {
        "id": "QCbsx4-otDI7"
      },
      "execution_count": null,
      "outputs": []
    },
    {
      "cell_type": "code",
      "source": [
        "#QS.23 Write a code to access the value associated with the key \"name\" in the dictionary {'name': 'Alice', 'age': 30}.\n",
        "\n",
        "my_dict = {'name': 'Alice', 'age': 30}\n",
        "n_value = my_dict['name']\n",
        "n_value\n"
      ],
      "metadata": {
        "colab": {
          "base_uri": "https://localhost:8080/",
          "height": 35
        },
        "id": "B2G6JgHetiF7",
        "outputId": "366d8258-dcb7-4b06-b3d2-f2349edaa732"
      },
      "execution_count": 13,
      "outputs": [
        {
          "output_type": "execute_result",
          "data": {
            "text/plain": [
              "'Alice'"
            ],
            "application/vnd.google.colaboratory.intrinsic+json": {
              "type": "string"
            }
          },
          "metadata": {},
          "execution_count": 13
        }
      ]
    },
    {
      "cell_type": "code",
      "source": [
        "#QS.24 Write a code to remove the key \"age\" from the dictionary {'name': 'Bob', 'age': 22, 'city': 'New York'}.\n",
        "\n",
        "my_dict = {'name': 'Bob', 'age': 22, 'city': 'New York'}\n",
        "del my_dict['age']\n",
        "my_dict\n"
      ],
      "metadata": {
        "colab": {
          "base_uri": "https://localhost:8080/"
        },
        "id": "Rh5QOEzdtz6o",
        "outputId": "075efb74-e301-4eb2-abc6-65d88223357f"
      },
      "execution_count": 15,
      "outputs": [
        {
          "output_type": "execute_result",
          "data": {
            "text/plain": [
              "{'name': 'Bob', 'city': 'New York'}"
            ]
          },
          "metadata": {},
          "execution_count": 15
        }
      ]
    },
    {
      "cell_type": "code",
      "source": [
        "# QS.25 Write a code to check if the key \"city\" exists in the dictionary {'name': 'Alice', 'city': 'Paris'}.\n",
        "\n",
        "my_dict = {'name': 'Alice', 'city': 'Paris'}\n",
        "\n",
        "if 'city' in my_dict:\n",
        "  print(\"key 'city' exists\")\n",
        "else:\n",
        "  print(\"key 'city' does not exist \")\n"
      ],
      "metadata": {
        "id": "n60TM6jbuC2j"
      },
      "execution_count": null,
      "outputs": []
    },
    {
      "cell_type": "code",
      "source": [
        "# QS.26 Write a code to create a list, a tuple, and a dictionary, and print them all.\n",
        "\n",
        "my_list = [1, 2, 3, 4, 5]\n",
        "my_tuple = (6, 7, 8, 9, 10)\n",
        "my_dict = {\"name\": \"yusuf\", \"age\": 24, \"city\": \"New York\"}\n",
        "\n",
        "print(\"My List:\", my_list)\n",
        "print(\"My Tuple:\", my_tuple)\n",
        "print(\"My Dictionary:\", my_dict)\n"
      ],
      "metadata": {
        "id": "0E7jhW2iuzqL"
      },
      "execution_count": null,
      "outputs": []
    },
    {
      "cell_type": "code",
      "source": [
        "# QS.27 Write a code to create a list of 5 random numbers between 1 and 100, sort it in ascending order, and print the\n",
        "# result.(replaced)\n",
        "\n",
        "import random\n",
        "random_numbers = [random.randint(1, 100) for _ in range(5)]\n",
        "\n",
        "# Sort\n",
        "random_numbers.sort()\n",
        "random_numbers\n"
      ],
      "metadata": {
        "colab": {
          "base_uri": "https://localhost:8080/"
        },
        "id": "BwCf6-87vKmE",
        "outputId": "adb9eba5-9de4-4a48-b16a-2bf0228254ef"
      },
      "execution_count": 17,
      "outputs": [
        {
          "output_type": "execute_result",
          "data": {
            "text/plain": [
              "[7, 29, 42, 62, 77]"
            ]
          },
          "metadata": {},
          "execution_count": 17
        }
      ]
    },
    {
      "cell_type": "code",
      "source": [
        "#sorry sir can't understaand the above code so taken help from  online actually not yet studied import function"
      ],
      "metadata": {
        "id": "d3j9IpiSxQKf"
      },
      "execution_count": 21,
      "outputs": []
    },
    {
      "cell_type": "code",
      "source": [
        "#QS.28 Write a code to create a list with strings and print the element at the third index.\n",
        "\n",
        "my_list = [\"apple\", \"banana\", \"cherry\", \"date\", \"elderberry\"]\n",
        "my_list[3]\n"
      ],
      "metadata": {
        "id": "Vp5oaYaNyvVA"
      },
      "execution_count": null,
      "outputs": []
    },
    {
      "cell_type": "code",
      "source": [
        "# QS.29 Write a code to combine two dictionaries into one and print the result.\n",
        "\n",
        "dict1 = {'a': 1, 'b': 2}\n",
        "dict2 = {'c': 3, 'd': 4}\n",
        "\n",
        "com_dict = {**dict1, **dict2}\n",
        "com_dict\n"
      ],
      "metadata": {
        "colab": {
          "base_uri": "https://localhost:8080/"
        },
        "id": "olu4ypHGyp07",
        "outputId": "26394f94-eeeb-40a7-f15a-59c381fe766a"
      },
      "execution_count": 22,
      "outputs": [
        {
          "output_type": "execute_result",
          "data": {
            "text/plain": [
              "{'a': 1, 'b': 2, 'c': 3, 'd': 4}"
            ]
          },
          "metadata": {},
          "execution_count": 22
        }
      ]
    },
    {
      "cell_type": "code",
      "source": [
        "# QS.30 Write a code to convert a list of strings into a set.\n",
        "\n",
        "my_list_of_strings = [\"apple\", \"banana\", \"cherry\", \"date\"]\n",
        "my_set = set(my_list_of_strings)\n",
        "my_set\n"
      ],
      "metadata": {
        "id": "Kpt43ISVzjmL"
      },
      "execution_count": null,
      "outputs": []
    }
  ]
}