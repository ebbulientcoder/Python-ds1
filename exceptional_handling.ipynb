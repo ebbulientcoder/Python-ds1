{
  "nbformat": 4,
  "nbformat_minor": 0,
  "metadata": {
    "colab": {
      "provenance": []
    },
    "kernelspec": {
      "name": "python3",
      "display_name": "Python 3"
    },
    "language_info": {
      "name": "python"
    }
  },
  "cells": [
    {
      "cell_type": "markdown",
      "source": [
        "#1.What is the difference between interpreted and compiled languages?\n",
        "- Compiled languages are translated into machine code before running (e.g., C, C++).\n",
        "- Interpreted languages are translated at runtime by an interpreter (e.g., Python, JavaScript).\n",
        "- Compiled ones are usually faster; interpreted ones are easier to debug and more flexible.\n",
        "#2.What is exception handling in Python?\n",
        "Exception handling in Python is a way to manage errors during program execution using try, except, else, and finally blocks. It helps prevent programs from crashing and allows you to handle unexpected situations gracefully.\n",
        "#3.What is the purpose of the finally block in exception handling?\n",
        "- The finally block in Python is used to execute code no matter what—whether an exception occurs or not. It's typically used for cleanup actions like closing files or releasing resources.\n",
        "#4.What is logging in Python?\n",
        "Logging in Python is the process of recording messages about a program’s execution, like errors or events, using the built-in logging module. It's useful for debugging and monitoring applications.\n",
        "#5.What is the significance of the __del__ method in Python?\n",
        "The __del__ method in Python is a destructor that is called when an object is about to be destroyed. It's used to clean up resources like closing files or network connections before the object is deleted.\n",
        "#6.What is the difference between import and from ... import in Python?\n",
        "In short:\n",
        "\n",
        "- import module imports the whole module (you access functions with module.function()).\n",
        "- from module import function imports specific parts, so you can use function() directly.\n",
        "*The second is more concise but can risk name conflicts.\n",
        "#7.How can you handle multiple exceptions in Python?\n",
        "- In short:\n",
        "You can handle multiple exceptions in Python by using multiple except blocks for different exceptions, or a single except block with a tuple of exceptions.\n",
        "\n",
        "Example:\n",
        "try:\n",
        "    # code\n",
        "except (TypeError, ValueError):\n",
        "    # handle both exceptions\n",
        "#8.What is the purpose of the with statement when handling files in Python?\n",
        "The with statement in Python is used to automatically manage resources like files. It ensures the file is properly closed after its suite finishes, even if an error occurs.\n",
        "#9.What is the difference between multithreading and multiprocessing?\n",
        "- In short:\n",
        "\n",
        "Multithreading uses multiple threads within the same process, sharing memory. It's good for I/O-bound tasks.\n",
        "Multiprocessing uses multiple processes, each with its own memory space. It's better for CPU-bound tasks.\n",
        "Multithreading is lighter but limited by the Global Interpreter Lock (GIL); multiprocessing avoids GIL and can run in true parallel.\n",
        "#10.What are the advantages of using logging in a program?\n",
        "- in short, the advantages of using logging in a program include:\n",
        "\n",
        "Helps in debugging by recording errors and events.\n",
        "Tracks program flow and behavior over time.\n",
        "Saves logs to files for future analysis.\n",
        "Supports different log levels (e.g., DEBUG, INFO, ERROR).\n",
        "Works in production without interrupting the user experience.\n",
        "#11.What is memory management in Python?\n",
        "**Memory management in Python** is the process of handling memory allocation and deallocation automatically. It uses **reference counting** and a **garbage collector** to track and free memory that's no longer in use. Python also uses an internal memory manager called **PyMalloc** for efficiency. This helps developers focus on coding without worrying about manual memory handling.\n",
        "#12.What are the basic steps involved in exception handling in Python?\n",
        "The basic steps in exception handling in Python are:\n",
        "\n",
        "Try: Place the code that might cause an exception in a try block.\n",
        "Except: Catch and handle specific exceptions using except.\n",
        "Else (optional): Runs if no exception occurs.\n",
        "Finally (optional): Runs no matter what, for cleanup actions.\n",
        "Example:try:\n",
        "    x = 10 / 0\n",
        "except ZeroDivisionError:\n",
        "    print(\"Cannot divide by zero.\")\n",
        "else:\n",
        "    print(\"No error occurred.\")\n",
        "finally:\n",
        "    print(\"Execution complete.\")\n",
        "#14.What is the role of try and except in exception handling?\n",
        "- In Python, the try block lets you test code that might raise an exception, and the except block lets you handle the error if it occurs.\n",
        "\n",
        "In short:\n",
        "try: Runs code that might cause an error.\n",
        "except: Catches and handles the error to prevent the program from crashing.\n",
        "Example:\n",
        "try:\n",
        "    x = 5 / 0\n",
        "except ZeroDivisionError:\n",
        "    print(\"Can't divide by zero.\")\n",
        "#13.Why is memory management important in Python?\n",
        "Memory management in Python is important because it ensures efficient use of memory, prevents memory leaks, and keeps programs running smoothly. Python handles memory automatically with a built-in garbage collector, but understanding memory management helps write faster, more efficient, and more reliable code—especially for large or long-running applications.\n",
        "#15.How does Python's garbage collection system work?\n",
        "Python's garbage collection system works by automatically identifying and freeing up memory used by objects that are no longer needed. It uses reference counting as the primary method—each object keeps track of how many references point to it. When that count drops to zero, the object is deleted.\n",
        "What is the importance of closing a file in Python0\n",
        "To handle circular references (where two or more objects reference each other), Python also uses a cyclic garbage collector that periodically checks for these cases and cleans them up.\n",
        "#16.What is the purpose of the else block in exception handling?\n",
        "The purpose of the **`else` block** in exception handling is to run code **only if no exceptions were raised** in the `try` block. It’s used for code that should execute when the `try` block succeeds, keeping it separate from the `try` and `except` logic for better readability.\n",
        "#17.What are the common logging levels in Python?\n",
        "The common logging levels in Python (from lowest to highest severity) are:\n",
        "\n",
        "1. **DEBUG** – Detailed info, for diagnosing problems.  \n",
        "2. **INFO** – General info about program execution.  \n",
        "3. **WARNING** – Something unexpected, but the program still works.  \n",
        "4. **ERROR** – A serious problem; something failed.  \n",
        "5. **CRITICAL** – A severe error; the program may not continue.\n",
        "#18.What is the difference between os.fork() and multiprocessing in Python?\n",
        "The difference between **`os.fork()`** and **`multiprocessing`** in Python is:\n",
        "\n",
        "- **`os.fork()`** creates a child process by duplicating the current process, but it's **low-level** and works only on **Unix-based systems**.  \n",
        "- **`multiprocessing`** is a **cross-platform**, **high-level** module that makes it easier to create and manage separate processes with better support for communication and synchronization between them.\n",
        "#19.What is the importance of closing a file in Python?\n",
        "Closing a file in Python is important because it **frees up system resources**, ensures that any **pending data** is written to the file, and prevents potential **file corruption** or data loss. It also helps avoid running into issues like **file handles being left open**, which can lead to memory leaks or limitations on file access.\n",
        "#20.What is the difference between file.read() and file.readline() in Python?\n",
        "The difference between **`file.read()`** and **`file.readline()`** in Python is:\n",
        "\n",
        "- **`file.read()`** reads the entire content of the file as a single string.\n",
        "- **`file.readline()`** reads the next line from the file, returning it as a string, and moves the file pointer to the next line.\n",
        "\n",
        "Use `read()` for reading the whole file and `readline()` for reading one line at a time.\n",
        "#21.What is the logging module in Python used for?\n",
        "- The **`logging`** module in Python is used for tracking events that occur during program execution. It provides a flexible framework for logging messages at different severity levels (e.g., DEBUG, INFO, WARNING, ERROR, CRITICAL), which helps in debugging, monitoring, and keeping records of application behavior.\n",
        "#22.What is the os module in Python used for in file handling?\n",
        "- The **`os`** module in Python is used for interacting with the operating system, including file handling. It provides functions for:\n",
        "\n",
        "- **File and directory operations**: Creating, removing, renaming, and changing directories (e.g., `os.mkdir()`, `os.remove()`, `os.rename()`).\n",
        "- **Path manipulation**: Working with file paths (e.g., `os.path.join()`, `os.path.exists()`).\n",
        "- **Getting file info**: Retrieving information like file size, permissions, and timestamps (e.g., `os.stat()`).\n",
        "\n",
        "It allows you to perform low-level file and directory management tasks.\n",
        "#23.What are the challenges associated with memory management in Python?Challenges associated with memory management in Python include:\n",
        "\n",
        "1. **Garbage Collection Overhead**: Python’s automatic garbage collection can cause performance issues, especially in large applications with many objects.\n",
        "  \n",
        "2. **Circular References**: Python's reference counting doesn't handle circular references well, potentially leading to memory leaks if not cleared by the garbage collector.\n",
        "\n",
        "3. **Memory Fragmentation**: Frequent allocation and deallocation of memory can lead to fragmentation, reducing efficiency.\n",
        "\n",
        "4. **Limited Control**: Python abstracts memory management, making it harder for developers to manually optimize memory usage, as compared to languages like C or C++.\n",
        "#24. How do you raise an exception manually in Python?\n",
        "To raise an exception manually in Python, use the **`raise`** keyword followed by the exception class. For example:\n",
        "\n",
        "```python\n",
        "raise ValueError(\"This is an error message\")\n",
        "```\n",
        "\n",
        "This will raise a **`ValueError`** with the provided message. You can raise any built-in or custom exception this way.\n",
        "#25.IF Why is it important to use multithreading in certain applications?\n",
        "Multithreading is important in certain applications because it allows for **concurrent execution** of tasks, improving performance, especially in I/O-bound or CPU-bound operations. It helps:\n",
        "\n",
        "1. **Improve responsiveness** by handling multiple tasks (like user inputs or network requests) simultaneously.\n",
        "2. **Efficient resource utilization** by running tasks in parallel, making better use of multi-core processors.\n",
        "3. **Speed up tasks** like downloading files, handling large datasets, or performing background computations without blocking the main thread.\n",
        "\n",
        "It's useful when you need to perform multiple tasks at once without blocking the program's flow.\n",
        "\n",
        "\n"
      ],
      "metadata": {
        "id": "ynYcgwvwR_Ag"
      }
    },
    {
      "cell_type": "code",
      "execution_count": 1,
      "metadata": {
        "id": "7D1d0eFyRzRT"
      },
      "outputs": [],
      "source": [
        "#1.How can you open a file for writing in Python and write a string to it?\n",
        "file = open(\"example.txt\", \"w\")\n",
        "file.write(\"Hello, World!\")\n",
        "file.close()"
      ]
    },
    {
      "cell_type": "markdown",
      "source": [],
      "metadata": {
        "id": "bT5sjHffa2Aa"
      }
    },
    {
      "cell_type": "code",
      "source": [
        "#2.Write a Python program to read the contents of a file and print each line?\n",
        "file = open(\"example.txt\", \"r\")\n",
        "for line in file:\n",
        "    print(line)\n",
        "file.close()"
      ],
      "metadata": {
        "colab": {
          "base_uri": "https://localhost:8080/"
        },
        "id": "Mc33oXnba3Y0",
        "outputId": "339e6ae2-fd0a-45d0-a24f-8f697133a639"
      },
      "execution_count": 2,
      "outputs": [
        {
          "output_type": "stream",
          "name": "stdout",
          "text": [
            "Hello, World!\n"
          ]
        }
      ]
    },
    {
      "cell_type": "code",
      "source": [
        "#3How would you handle a case where the file doesn't exist while trying to open it for reading?\n",
        "try:\n",
        "    with open('file.txt', 'r') as file:\n",
        "        content = file.read()\n",
        "except FileNotFoundError:\n",
        "    print(\"File not found.\")\n"
      ],
      "metadata": {
        "colab": {
          "base_uri": "https://localhost:8080/"
        },
        "id": "H09GpUCWa4dl",
        "outputId": "b056aa12-f486-4875-b44a-3f9a737bf92a"
      },
      "execution_count": 4,
      "outputs": [
        {
          "output_type": "stream",
          "name": "stdout",
          "text": [
            "File not found.\n"
          ]
        }
      ]
    },
    {
      "cell_type": "code",
      "source": [
        "#4.Write a Python script that reads from one file and writes its content to another file?\n",
        "# Open the source file for reading\n",
        "with open('source.txt', 'r') as source_file:\n",
        "    content = source_file.read()\n",
        "\n",
        "# Open the destination file for writing\n",
        "with open('destination.txt', 'w') as dest_file:\n",
        "    dest_file.write(content)\n",
        "\n"
      ],
      "metadata": {
        "colab": {
          "base_uri": "https://localhost:8080/",
          "height": 207
        },
        "id": "pfDYWPlBa4aG",
        "outputId": "ac15a791-0fc5-4ad5-9e78-e7a41d72b2d5"
      },
      "execution_count": 9,
      "outputs": [
        {
          "output_type": "error",
          "ename": "FileNotFoundError",
          "evalue": "[Errno 2] No such file or directory: 'file1.txt'",
          "traceback": [
            "\u001b[0;31m---------------------------------------------------------------------------\u001b[0m",
            "\u001b[0;31mFileNotFoundError\u001b[0m                         Traceback (most recent call last)",
            "\u001b[0;32m<ipython-input-9-50cff7863c08>\u001b[0m in \u001b[0;36m<cell line: 0>\u001b[0;34m()\u001b[0m\n\u001b[1;32m      1\u001b[0m \u001b[0;31m#4.Write a Python script that reads from one file and writes its content to another file?\u001b[0m\u001b[0;34m\u001b[0m\u001b[0;34m\u001b[0m\u001b[0m\n\u001b[0;32m----> 2\u001b[0;31m \u001b[0mfile1\u001b[0m \u001b[0;34m=\u001b[0m \u001b[0mopen\u001b[0m\u001b[0;34m(\u001b[0m\u001b[0;34m\"file1.txt\"\u001b[0m\u001b[0;34m,\u001b[0m \u001b[0;34m\"r\"\u001b[0m\u001b[0;34m)\u001b[0m\u001b[0;34m\u001b[0m\u001b[0;34m\u001b[0m\u001b[0m\n\u001b[0m\u001b[1;32m      3\u001b[0m \u001b[0mfile2\u001b[0m \u001b[0;34m=\u001b[0m \u001b[0mopen\u001b[0m\u001b[0;34m(\u001b[0m\u001b[0;34m\"file2.txt\"\u001b[0m\u001b[0;34m,\u001b[0m \u001b[0;34m\"w\"\u001b[0m\u001b[0;34m)\u001b[0m\u001b[0;34m\u001b[0m\u001b[0;34m\u001b[0m\u001b[0m\n\u001b[1;32m      4\u001b[0m \u001b[0;32mfor\u001b[0m \u001b[0mline\u001b[0m \u001b[0;32min\u001b[0m \u001b[0mfile1\u001b[0m\u001b[0;34m:\u001b[0m\u001b[0;34m\u001b[0m\u001b[0;34m\u001b[0m\u001b[0m\n\u001b[1;32m      5\u001b[0m     \u001b[0mfile2\u001b[0m\u001b[0;34m.\u001b[0m\u001b[0mwrite\u001b[0m\u001b[0;34m(\u001b[0m\u001b[0mline\u001b[0m\u001b[0;34m)\u001b[0m\u001b[0;34m\u001b[0m\u001b[0;34m\u001b[0m\u001b[0m\n",
            "\u001b[0;31mFileNotFoundError\u001b[0m: [Errno 2] No such file or directory: 'file1.txt'"
          ]
        }
      ]
    },
    {
      "cell_type": "code",
      "source": [
        "#5.How would you catch and handle division by zero error in Python?\n",
        "try:\n",
        "    result = 10 / 0\n",
        "except ZeroDivisionError:\n",
        "    print(\"Cannot divide by zero!\")\n"
      ],
      "metadata": {
        "colab": {
          "base_uri": "https://localhost:8080/"
        },
        "id": "vkwAojPGa4W3",
        "outputId": "1517555d-e943-4ca0-8bc6-9708ab934ab5"
      },
      "execution_count": 10,
      "outputs": [
        {
          "output_type": "stream",
          "name": "stdout",
          "text": [
            "Cannot divide by zero!\n"
          ]
        }
      ]
    },
    {
      "cell_type": "code",
      "source": [
        "#6.Write a Python program that logs an error message to a log file when a division by zero exception occurs?\n",
        "import logging\n",
        "\n",
        "# Set up logging configuration\n",
        "logging.basicConfig(filename='error.log', level=logging.ERROR,\n",
        "                    format='%(asctime)s - %(levelname)s - %(message)s')\n",
        "\n",
        "try:\n",
        "    result = 10 / 0\n",
        "except ZeroDivisionError as e:\n",
        "    logging.error(f\"Division by zero error: {e}\")\n",
        "\n"
      ],
      "metadata": {
        "colab": {
          "base_uri": "https://localhost:8080/"
        },
        "id": "C3TzWPpScRYc",
        "outputId": "82031943-ca93-43d6-ee09-7fbf42663cf6"
      },
      "execution_count": 11,
      "outputs": [
        {
          "output_type": "stream",
          "name": "stderr",
          "text": [
            "ERROR:root:Division by zero error: division by zero\n"
          ]
        }
      ]
    },
    {
      "cell_type": "code",
      "source": [
        "#7.How do you log information at different levels (INFO, ERROR, WARNING) in Python using the logging module?\n",
        "import logging\n",
        "\n",
        "# Set up logging configuration\n",
        "logging.basicConfig(level=logging.DEBUG, format='%(asctime)s - %(levelname)s - %(message)s')\n",
        "\n",
        "# Log messages at different levels\n",
        "logging.debug(\"This is a debug message.\")\n",
        "logging.info(\"This is an info message.\")\n",
        "logging.warning(\"This is a warning message.\")\n",
        "logging.error(\"This is an error message.\")\n",
        "logging.critical(\"This is a critical message.\")\n"
      ],
      "metadata": {
        "colab": {
          "base_uri": "https://localhost:8080/"
        },
        "id": "O5bn2J2ycRPh",
        "outputId": "b7c37dd9-b389-4de4-c78d-a140ffeafa55"
      },
      "execution_count": 12,
      "outputs": [
        {
          "output_type": "stream",
          "name": "stderr",
          "text": [
            "WARNING:root:This is a warning message.\n",
            "ERROR:root:This is an error message.\n",
            "CRITICAL:root:This is a critical message.\n"
          ]
        }
      ]
    },
    {
      "cell_type": "code",
      "source": [
        "#8.Write a program to handle a file opening error using exception handling?\n",
        "try:\n",
        "    # Attempt to open a file\n",
        "    with open('non_existent_file.txt', 'r') as file:\n",
        "        content = file.read()\n",
        "except FileNotFoundError:\n",
        "    print(\"Error: The file does not exist.\")\n",
        "except Exception as e:\n",
        "    print(f\"An unexpected error occurred: {e}\")\n"
      ],
      "metadata": {
        "colab": {
          "base_uri": "https://localhost:8080/"
        },
        "id": "BLD14dTacRHk",
        "outputId": "c1b9fd3a-1a4b-45e1-d243-68c4d0562173"
      },
      "execution_count": 14,
      "outputs": [
        {
          "output_type": "stream",
          "name": "stdout",
          "text": [
            "Error: The file does not exist.\n"
          ]
        }
      ]
    },
    {
      "cell_type": "code",
      "source": [
        "#9.How can you read a file line by line and store its content in a list in Python?\n",
        "file = open(\"example.txt\", \"r\")\n",
        "lines = file.readlines()\n",
        "file.close()"
      ],
      "metadata": {
        "id": "bAficxEocQ8j"
      },
      "execution_count": 16,
      "outputs": []
    },
    {
      "cell_type": "code",
      "source": [
        "#10.How can you append data to an existing file in Python?\n",
        "file = open(\"example.txt\", \"a\")\n",
        "file.write(\"\\nAppended line.\")\n",
        "file.close()"
      ],
      "metadata": {
        "id": "asth521Dddn4"
      },
      "execution_count": 17,
      "outputs": []
    },
    {
      "cell_type": "code",
      "source": [
        "#11.Write a Python program that uses a try-except block to handle an error when attempting to access a\n",
        "#dictionary key that doesn't exist?\n",
        "try:\n",
        "    my_dict = {'a': 1, 'b': 2}\n",
        "    value = my_dict['c']\n",
        "except KeyError:\n",
        "    print(\"Error: Key not found in the dictionary.\")"
      ],
      "metadata": {
        "colab": {
          "base_uri": "https://localhost:8080/"
        },
        "id": "nRqIg3Dvddee",
        "outputId": "64b8cb8f-bc9d-4e50-9b27-1fffc785bbb9"
      },
      "execution_count": 18,
      "outputs": [
        {
          "output_type": "stream",
          "name": "stdout",
          "text": [
            "Error: Key not found in the dictionary.\n"
          ]
        }
      ]
    },
    {
      "cell_type": "code",
      "source": [
        "#12.Write a program that demonstrates using multiple except blocks to handle different types of exceptions.\n",
        "try:\n",
        "    result = 10 / 0\n",
        "except ZeroDivisionError:\n",
        "    print(\"Cannot divide by zero!\")\n",
        "except TypeError:\n",
        "    print(\"Type error!\")"
      ],
      "metadata": {
        "colab": {
          "base_uri": "https://localhost:8080/"
        },
        "id": "Dv1UimFudda_",
        "outputId": "7e349edb-0863-4a97-d1be-3909cd745b46"
      },
      "execution_count": 19,
      "outputs": [
        {
          "output_type": "stream",
          "name": "stdout",
          "text": [
            "Cannot divide by zero!\n"
          ]
        }
      ]
    },
    {
      "cell_type": "code",
      "source": [
        "#13.How would you check if a file exists before attempting to read it in Python?\n",
        "import os\n",
        "\n",
        "file_path = 'example.txt'\n",
        "\n",
        "if os.path.exists(file_path):\n",
        "    with open(file_path, 'r') as file:\n",
        "        content = file.read()\n",
        "        print(content)"
      ],
      "metadata": {
        "colab": {
          "base_uri": "https://localhost:8080/"
        },
        "id": "OX4TXK0SddUw",
        "outputId": "2b552174-7efa-4db6-d7e0-896b65d2a861"
      },
      "execution_count": 20,
      "outputs": [
        {
          "output_type": "stream",
          "name": "stdout",
          "text": [
            "Hello, World!\n",
            "Appended line.\n"
          ]
        }
      ]
    },
    {
      "cell_type": "code",
      "source": [
        "#14.Write a program that uses the logging module to log both informational and error messages.\n",
        "import logging\n",
        "\n",
        "# Set up logging configuration\n",
        "logging.basicConfig(level=logging.INFO, format='%(asctime)s - %(levelname)s - %(message)s')\n",
        "\n",
        "# Log informational message\n",
        "logging.info(\"This is an informational message.\")"
      ],
      "metadata": {
        "id": "Ql4zC0WcddLM"
      },
      "execution_count": 21,
      "outputs": []
    },
    {
      "cell_type": "code",
      "source": [
        "#15.Write a Python program that prints the content of a file and handles the case when the file is empty?\n",
        "try:\n",
        "    with open('file.txt', 'r') as file:\n",
        "        content = file.read()\n",
        "\n",
        "        if not content:  # Check if the file is empty\n",
        "            print(\"The file is empty.\")\n",
        "        else:\n",
        "            print(content)\n",
        "except FileNotFoundError:\n",
        "    print(\"Error: The file does not exist.\")\n"
      ],
      "metadata": {
        "colab": {
          "base_uri": "https://localhost:8080/"
        },
        "id": "NqS_kALadc2g",
        "outputId": "eee960f3-bdfd-4c00-cc8f-8fdbddce7478"
      },
      "execution_count": 23,
      "outputs": [
        {
          "output_type": "stream",
          "name": "stdout",
          "text": [
            "Error: The file does not exist.\n"
          ]
        }
      ]
    },
    {
      "cell_type": "code",
      "source": [
        "#16.Demonstrate how to use memory profiling to check the memory usage of a small program.\n",
        "#To demonstrate how to use memory profiling in Python, we can use the `memory_profiler` module. Here's an example of how to profile the memory usage of a simple program.\n",
        "\n",
        "#1. First, you need to install the `memory_profiler` module (if you don't have it installed already):\n",
        "\n",
        "```bash\n",
        "pip install memory-profiler\n",
        "```\n",
        "\n",
        "2. Then, you can write a small Python program and use the `@profile` decorator to check memory usage at various points.\n",
        "\n",
        "### Example Program:\n",
        "\n",
        "```python\n",
        "from memory_profiler import profile\n",
        "\n",
        "@profile\n",
        "def my_function():\n",
        "    a = [i for i in range(10000)]  # Allocate some memory\n",
        "    b = [i for i in range(5000)]   # Allocate more memory\n",
        "    del a                          # Free some memory\n",
        "    return b\n",
        "\n",
        "if __name__ == \"__main__\":\n",
        "    my_function()\n",
        "```\n",
        "\n",
        "### How It Works:\n",
        "- The `@profile` decorator marks the function that you want to profile for memory usage.\n",
        "- When you run the script, you will see a line-by-line memory usage breakdown.\n",
        "\n",
        "### Running the Profiling:\n",
        "\n",
        "To run the program with memory profiling, you would use:\n",
        "\n",
        "```bash\n",
        "python -m memory_profiler your_script.py\n",
        "```\n",
        "\n",
        "This will output memory usage at each line in the decorated function, showing how much memory was used and freed.\n",
        "\n",
        "### Output Example:\n",
        "The output will look something like this:\n",
        "\n",
        "```\n",
        "Line #    Mem usage    Increment   Line Contents\n",
        "================================================\n",
        "     4     10.2 MiB     10.2 MiB   @profile\n",
        "     5     10.3 MiB      0.1 MiB   def my_function():\n",
        "     6     10.5 MiB      0.2 MiB       a = [i for i in range(10000)]  # Allocate memory\n",
        "     7     10.7 MiB      0.2 MiB       b = [i for i in range(5000)]   # Allocate more memory\n",
        "     8     10.7 MiB      0.0 MiB       del a                          # Free memory\n",
        "     9     10.7 MiB      0.0 MiB       return b\n",
        "```\n",
        "\n",
        "This shows the memory usage at each step in the function `my_function`, allowing you to understand how memory is being allocated and freed."
      ],
      "metadata": {
        "colab": {
          "base_uri": "https://localhost:8080/",
          "height": 378
        },
        "id": "sFqUFkPCePIq",
        "outputId": "e9555223-6781-4011-adad-c42b34c0a945"
      },
      "execution_count": 24,
      "outputs": [
        {
          "output_type": "error",
          "ename": "ModuleNotFoundError",
          "evalue": "No module named 'memory_profiler'",
          "traceback": [
            "\u001b[0;31m---------------------------------------------------------------------------\u001b[0m",
            "\u001b[0;31mModuleNotFoundError\u001b[0m                       Traceback (most recent call last)",
            "\u001b[0;32m<ipython-input-24-1eb728ce596c>\u001b[0m in \u001b[0;36m<cell line: 0>\u001b[0;34m()\u001b[0m\n\u001b[1;32m      1\u001b[0m \u001b[0;31m#16.Demonstrate how to use memory profiling to check the memory usage of a small program.\u001b[0m\u001b[0;34m\u001b[0m\u001b[0;34m\u001b[0m\u001b[0m\n\u001b[0;32m----> 2\u001b[0;31m \u001b[0;32mfrom\u001b[0m \u001b[0mmemory_profiler\u001b[0m \u001b[0;32mimport\u001b[0m \u001b[0mprofile\u001b[0m\u001b[0;34m\u001b[0m\u001b[0;34m\u001b[0m\u001b[0m\n\u001b[0m\u001b[1;32m      3\u001b[0m \u001b[0;34m\u001b[0m\u001b[0m\n\u001b[1;32m      4\u001b[0m \u001b[0;34m@\u001b[0m\u001b[0mprofile\u001b[0m\u001b[0;34m\u001b[0m\u001b[0;34m\u001b[0m\u001b[0m\n\u001b[1;32m      5\u001b[0m \u001b[0;32mdef\u001b[0m \u001b[0mmy_function\u001b[0m\u001b[0;34m(\u001b[0m\u001b[0;34m)\u001b[0m\u001b[0;34m:\u001b[0m\u001b[0;34m\u001b[0m\u001b[0;34m\u001b[0m\u001b[0m\n",
            "\u001b[0;31mModuleNotFoundError\u001b[0m: No module named 'memory_profiler'",
            "",
            "\u001b[0;31m---------------------------------------------------------------------------\u001b[0;32m\nNOTE: If your import is failing due to a missing package, you can\nmanually install dependencies using either !pip or !apt.\n\nTo view examples of installing some common dependencies, click the\n\"Open Examples\" button below.\n\u001b[0;31m---------------------------------------------------------------------------\u001b[0m\n"
          ],
          "errorDetails": {
            "actions": [
              {
                "action": "open_url",
                "actionText": "Open Examples",
                "url": "/notebooks/snippets/importing_libraries.ipynb"
              }
            ]
          }
        }
      ]
    },
    {
      "cell_type": "code",
      "source": [
        "#17.Write a Python program to create and write a list of numbers to a file, one number per line?\n",
        "with open('numbers.txt', 'w') as file:\n",
        "    numbers = [1, 2, 3, 4, 5]\n",
        "    for num in numbers:\n",
        "        file.write(str(num) + '\\n')"
      ],
      "metadata": {
        "id": "wmTJWzawePFn"
      },
      "execution_count": 25,
      "outputs": []
    },
    {
      "cell_type": "code",
      "source": [
        "#18.How would you implement a basic logging setup that logs to a file with rotation after 1MB?\n",
        "import logging\n",
        "from logging.handlers import RotatingFileHandler\n",
        "\n",
        "# Set up a rotating file handler\n",
        "log_handler = RotatingFileHandler('my_log.log', maxBytes=1e6, backupCount=3)  # 1MB = 1e6 bytes\n",
        "log_handler.setLevel(logging.INFO)\n",
        "\n",
        "# Create a formatter for the log messages\n",
        "formatter = logging.Formatter('%(asctime)s - %(levelname)s - %(message)s')\n",
        "log_handler.setFormatter(formatter)\n",
        "\n",
        "# Set up the logger\n",
        "logger = logging.getLogger()\n",
        "logger.setLevel(logging.INFO)\n",
        "logger.addHandler(log_handler)\n",
        "\n",
        "# Example log messages\n",
        "logger.info(\"This is an info message.\")\n",
        "logger.warning(\"This is a warning message.\")\n",
        "logger.error(\"This is an error message.\")\n"
      ],
      "metadata": {
        "colab": {
          "base_uri": "https://localhost:8080/"
        },
        "id": "D-1ApWiJePCK",
        "outputId": "95ee4a28-c56d-46d7-9f59-959697851a04"
      },
      "execution_count": 26,
      "outputs": [
        {
          "output_type": "stream",
          "name": "stderr",
          "text": [
            "INFO:root:This is an info message.\n",
            "WARNING:root:This is a warning message.\n",
            "ERROR:root:This is an error message.\n"
          ]
        }
      ]
    },
    {
      "cell_type": "code",
      "source": [
        "#19.Write a program that handles both IndexError and KeyError using a try-except block?\n",
        "def handle_errors():\n",
        "    # Example list and dictionary\n",
        "    my_list = [1, 2, 3]\n",
        "    my_dict = {'a': 1, 'b': 2}\n",
        "\n",
        "    try:\n",
        "        # Attempt to access an invalid index in the list\n",
        "        print(my_list[5])  # IndexError\n",
        "\n",
        "        # Attempt to access a missing key in the dictionary\n",
        "        print(my_dict['c'])  # KeyError\n",
        "\n",
        "    except IndexError as e:\n",
        "        print(f\"IndexError occurred: {e}\")\n",
        "    except KeyError as e:\n",
        "        print(f\"KeyError occurred: {e}\")\n",
        "\n",
        "if __name__ == \"__main__\":\n",
        "    handle_errors()\n"
      ],
      "metadata": {
        "colab": {
          "base_uri": "https://localhost:8080/"
        },
        "id": "kVx-kCyeeO_b",
        "outputId": "4a354188-f51a-4d8c-9f96-dcd1d6512e5b"
      },
      "execution_count": 27,
      "outputs": [
        {
          "output_type": "stream",
          "name": "stdout",
          "text": [
            "IndexError occurred: list index out of range\n"
          ]
        }
      ]
    },
    {
      "cell_type": "code",
      "source": [
        "#20.How would you open a file and read its contents using a context manager in Python?\n",
        "with open('example.txt', 'r') as file:\n",
        "    content = file.read()\n",
        "    print(content)"
      ],
      "metadata": {
        "colab": {
          "base_uri": "https://localhost:8080/"
        },
        "id": "IFU7PGe_eO8h",
        "outputId": "bb25d0bc-7cb1-46c0-9d4e-1ebb6db02c4f"
      },
      "execution_count": 28,
      "outputs": [
        {
          "output_type": "stream",
          "name": "stdout",
          "text": [
            "Hello, World!\n",
            "Appended line.\n"
          ]
        }
      ]
    },
    {
      "cell_type": "code",
      "source": [
        "#21.Write a Python program that reads a file and prints the number of occurrences of a specific word?\n",
        "def count_word_occurrences(filename, target_word):\n",
        "    try:\n",
        "        with open(filename, 'r') as file:\n",
        "            content = file.read().lower()  # Convert to lowercase for case-insensitive search\n",
        "            words = content.split()\n",
        "            count = words.count(target_word.lower())\n",
        "            print(f\"The word '{target_word}' occurred {count} times.\")\n",
        "    except FileNotFoundError:\n",
        "        print(\"Error: The file does not exist.\")\n",
        "\n",
        "# Example usage\n",
        "count_word_occurrences('example.txt', 'python')\n"
      ],
      "metadata": {
        "colab": {
          "base_uri": "https://localhost:8080/"
        },
        "id": "R5cn12W_eO6I",
        "outputId": "28eed0af-0f3b-429b-869c-2ab094b32b0b"
      },
      "execution_count": 30,
      "outputs": [
        {
          "output_type": "stream",
          "name": "stdout",
          "text": [
            "The word 'python' occurred 0 times.\n"
          ]
        }
      ]
    },
    {
      "cell_type": "code",
      "source": [
        "#22.How can you check if a file is empty before attempting to read its contents\n",
        "import os\n",
        "\n",
        "file_path = 'example.txt'\n",
        "\n",
        "if os.path.getsize(file_path) == 0:\n",
        "    print(\"The file is empty.\")\n",
        "else:\n",
        "    with open(file_path, 'r') as file:\n",
        "        content = file.read()\n",
        "        print(content)\n"
      ],
      "metadata": {
        "colab": {
          "base_uri": "https://localhost:8080/"
        },
        "id": "tRzelaFIeO2r",
        "outputId": "b4af4a7a-7a6d-4bb6-ae59-5691585a1dde"
      },
      "execution_count": 32,
      "outputs": [
        {
          "output_type": "stream",
          "name": "stdout",
          "text": [
            "Hello, World!\n",
            "Appended line.\n"
          ]
        }
      ]
    },
    {
      "cell_type": "code",
      "source": [
        "#23.Write a Python program that writes to a log file when an error occurs during file handling.\n",
        "import logging\n",
        "\n",
        "# Configure logging\n",
        "logging.basicConfig(filename='file_errors.log', level=logging.ERROR,\n",
        "                    format='%(asctime)s - %(levelname)s - %(message)s')\n",
        "\n",
        "def read_file(filename):\n",
        "    try:\n",
        "        with open(filename, 'r') as file:\n",
        "            content = file.read()\n",
        "            print(content)\n",
        "    except Exception as e:\n",
        "        logging.error(f\"Error while handling the file '{filename}': {e}\")\n",
        "        print(\"An error occurred. Check the log for details.\")\n",
        "\n"
      ],
      "metadata": {
        "id": "v3frUt3seO0Q"
      },
      "execution_count": 34,
      "outputs": []
    },
    {
      "cell_type": "code",
      "source": [],
      "metadata": {
        "id": "G5GW1gUNeOwm"
      },
      "execution_count": null,
      "outputs": []
    },
    {
      "cell_type": "code",
      "source": [],
      "metadata": {
        "id": "ykcB1fyXeOtV"
      },
      "execution_count": null,
      "outputs": []
    }
  ]
}