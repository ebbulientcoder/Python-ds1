{
  "nbformat": 4,
  "nbformat_minor": 0,
  "metadata": {
    "colab": {
      "provenance": []
    },
    "kernelspec": {
      "name": "python3",
      "display_name": "Python 3"
    },
    "language_info": {
      "name": "python"
    }
  },
  "cells": [
    {
      "cell_type": "markdown",
      "source": [
        "Qs1.What is statistics, and why is it important?\n",
        "- **Statistics** is the science of collecting, analyzing, interpreting, presenting, and organizing data.\n",
        "\n",
        "**Importance**: It helps in making informed decisions, identifying trends, testing hypotheses, and solving real-world problems in fields like business, medicine, government, and research.\n",
        "\n",
        "Qs2.What are the two main types of statistics?\n",
        "- The two main types of statistics are:\n",
        "\n",
        "Descriptive Statistics – Summarizes and describes data (e.g., mean, median, graphs).\n",
        "Inferential Statistics – Makes predictions or inferences about a population based on a sample.\n",
        "Qs3.What are descriptive statistics?\n",
        "- Descriptive statistics are methods used to **summarize and organize data** using measures like **mean, median, mode, standard deviation**, and **graphs** such as histograms or pie charts.\n",
        "Qs4.5 What is inferential statistics?\n",
        "- Inferential statistics involves using data from a **sample** to make **predictions, decisions, or generalizations** about a **larger population**, often using techniques like **hypothesis testing** and **confidence intervals**.\n",
        "Qs5.What is sampling in statistics?\n",
        "- Sampling in statistics is the process of **selecting a subset (sample) from a larger group (population)** to analyze and draw conclusions about the whole population.\n",
        "Qs6.What are the different types of sampling methods/\n",
        "- The main types of sampling methods are:\n",
        "\n",
        "Random Sampling – Every member has an equal chance of being selected.\n",
        "Systematic Sampling – Every kth member is selected from a list.\n",
        "Stratified Sampling – Population is divided into groups (strata), and samples are taken from each group.\n",
        "Cluster Sampling – Population is divided into clusters, and entire clusters are randomly selected.\n",
        "Convenience Sampling – Samples are taken from what's easiest or most accessible.\n",
        "Qs7.What is the difference between random and non-random sampling?\n",
        "- The main types of sampling methods are:\n",
        "\n",
        "Random Sampling – Every member has an equal chance of being selected.\n",
        "Systematic Sampling – Every kth member is selected from a list.\n",
        "Stratified Sampling – Population is divided into groups (strata), and samples are taken from each group.\n",
        "Cluster Sampling – Population is divided into clusters, and entire clusters are randomly selected.\n",
        "Convenience Sampling – Samples are taken from what's easiest or most accessible.\n",
        "Qs8.Define and give examples of qualitative and quantitative data5?\n",
        "- Qualitative Data: Describes qualities or categories; not numerical.\n",
        "\n",
        "Example: Colors of cars (red, blue), types of cuisine (Italian, Chinese).\n",
        "Quantitative Data: Represents numerical values; can be measured or counted.\n",
        "\n",
        "Example: Age (25 years), number of books (12 books).\n",
        "Qs9.5 What are the different types of data in statistics?\n",
        "- The main types of data in statistics are:\n",
        "\n",
        "Qualitative (Categorical) Data – Describes categories or labels (e.g., gender, color).\n",
        "Quantitative (Numerical) Data – Represents numbers and can be measured.\n",
        "Quantitative data is further divided into:\n",
        "3. Discrete Data – Countable values (e.g., number of students).\n",
        "4. Continuous Data – Measurable values within a range (e.g., height, weight).\n",
        "Qs10.Explain nominal, ordinal, interval, and ratio levels of measurement?\n",
        "- Nominal – Categories with no order.\n",
        "Example: Eye color, gender.\n",
        "Ordinal – Categories with a meaningful order, but no consistent difference between values.\n",
        "Example: Movie ratings (poor, fair, good).\n",
        "Interval – Ordered with equal spacing; no true zero point.\n",
        "Example: Temperature in Celsius.\n",
        "Ratio – Ordered, equal spacing, and has a true zero.\n",
        "Example: Weight, height, age.\n",
        "Qs11.What is the measure of central tendency?\n",
        "- A measure of central tendency is a statistic that identifies the center or typical value of a dataset.\n",
        "The main measures are:\n",
        "\n",
        "Mean – Average of all values.\n",
        "Median – Middle value when data is ordered.\n",
        "Mode – Most frequent value.\n",
        "Qs12.Define mean, median, and mode?\n",
        "- Mean – The sum of all values divided by the number of values.\n",
        "Median – The middle value in an ordered dataset.\n",
        "Mode – The value that appears most often in a dataset.\n",
        "Qs13.What is the significance of the measure of central tendency?\n",
        "- The **significance of the measure of central tendency** is that it helps to **summarize a large set of data** with a single representative value, making it easier to understand and compare datasets.\n",
        "Qs14.What is variance, and how is it calculated?\n",
        "- Variance measures how much the data values spread out from the mean.\n",
        "\n",
        "Calculation (for a sample):\n",
        "\n",
        "Find the mean.\n",
        "Subtract the mean from each value and square the result.\n",
        "Add all squared differences.\n",
        "Divide by the number of values minus 1.\n",
        "Formula:\n",
        "\n",
        "Variance\n",
        "(\n",
        "s\n",
        "2\n",
        ")\n",
        "=\n",
        "∑\n",
        "(\n",
        "x\n",
        "−\n",
        "x\n",
        "ˉ\n",
        ")\n",
        "2\n",
        "n\n",
        "−\n",
        "1\n",
        "Variance(s\n",
        "2\n",
        " )=\n",
        "n−1\n",
        "∑(x−\n",
        "x\n",
        "ˉ\n",
        " )\n",
        " Qs15.What is standard deviation, and why is it important?\n",
        " - Standard deviation measures the average distance of data points from the mean.\n",
        "\n",
        "It's important because it shows how spread out or consistent the data is — a low standard deviation means data is tightly clustered, while a high one indicates more variability.\n",
        "\n",
        "Qs16.Define and explain the term range in statistics?\n",
        "- In statistics, the **range** is the **difference between the highest and lowest values** in a dataset.\n",
        "\n",
        "**Formula:**\n",
        "\n",
        "$$\n",
        "\\text{Range} = \\text{Maximum} - \\text{Minimum}\n",
        "$$\n",
        "\n",
        "It gives a quick sense of the data’s spread.\n",
        "Qs17.5 What is the difference between variance and standard deviation?\n",
        "- The difference between **variance** and **standard deviation** is:\n",
        "\n",
        "* **Variance** measures the average **squared** deviation from the mean.\n",
        "* **Standard deviation** is the **square root** of the variance, showing spread in the **original units** of the data.\n",
        "\n",
        "So, standard deviation is easier to interpret in real-world terms.\n",
        "Qs18.What is skewness in a dataset?\n",
        "- **Skewness** refers to the **asymmetry** or **lack of symmetry** in a dataset’s distribution.\n",
        "\n",
        "* **Positive skew**: The tail is longer on the right side (values are more spread out on the higher end).\n",
        "* **Negative skew**: The tail is longer on the left side (values are more spread out on the lower end).\n",
        "\n",
        "It helps to understand the direction of the data’s imbalance.\n",
        "Qs19.What does it mean if a dataset is positively or negatively skewed?\n",
        "- If a dataset is:\n",
        "\n",
        "* **Positively skewed** (right-skewed): The **right tail** is longer, and most values are **concentrated on the left**. The mean is usually greater than the median.\n",
        "\n",
        "* **Negatively skewed** (left-skewed): The **left tail** is longer, and most values are **concentrated on the right**. The mean is usually less than the median.\n",
        "\n",
        "It indicates where the majority of data points lie relative to the extremes.\n",
        "Qs20.Define and explain kurtosis?\n",
        "**Kurtosis** measures the **tailedness** or **sharpness** of a dataset's distribution. It tells us how much data points are concentrated in the **tails** and **center** of the distribution.\n",
        "\n",
        "* **High kurtosis**: More extreme values (heavy tails or outliers).\n",
        "* **Low kurtosis**: Fewer extreme values (light tails).\n",
        "* **Normal kurtosis**: The distribution has a similar shape to a normal distribution.\n",
        "\n",
        "Kurtosis helps identify if a dataset has unusually large or small outliers.\n",
        "Qs21.What is the purpose of covariance?\n",
        "- The **purpose of covariance** is to measure the **relationship** between two variables. It shows whether the variables tend to **increase or decrease together**:\n",
        "\n",
        "* **Positive covariance**: Both variables increase or decrease together.\n",
        "* **Negative covariance**: One variable increases while the other decreases.\n",
        "\n",
        "Covariance helps to understand how two variables move relative to each other.\n",
        "Qs22.What does correlation measure in statistics?\n",
        "- **Correlation** measures the **strength and direction** of the linear relationship between two variables.\n",
        "\n",
        "* **Positive correlation**: Both variables move in the same direction.\n",
        "* **Negative correlation**: One variable increases as the other decreases.\n",
        "* **No correlation**: No predictable relationship between the variables.\n",
        "\n",
        "It is often quantified using the **correlation coefficient** (e.g., Pearson's r).\n",
        "Qs23.5 What is the difference between covariance and correlation?\n",
        "- The key differences between **covariance** and **correlation** are:\n",
        "\n",
        "1. **Scale**:\n",
        "\n",
        "   * **Covariance** is affected by the scale of the variables (units matter).\n",
        "   * **Correlation** is a **normalized** value, ranging from -1 to 1, making it independent of units.\n",
        "\n",
        "2. **Interpretation**:\n",
        "\n",
        "   * **Covariance** indicates the direction of the relationship (positive or negative) but is harder to interpret due to its dependence on scale.\n",
        "   * **Correlation** provides a clearer measure of both the **strength** and **direction** of the relationship.\n",
        "\n",
        "In short, **correlation** standardizes covariance to make the relationship easier to interpret.\n",
        "Qs24.What are some real-world applications of statistics?\n",
        "- Some real-world applications of statistics include:\n",
        "\n",
        "1. **Healthcare**: Analyzing patient data to identify trends and improve treatments.\n",
        "2. **Business**: Market research, sales forecasting, and customer behavior analysis.\n",
        "3. **Sports**: Performance analysis, player statistics, and game predictions.\n",
        "4. **Government**: Census data collection, public policy decisions, and economic forecasting.\n",
        "5. **Education**: Assessing test scores, improving curriculum, and student performance analysis.\n",
        "\n",
        "Statistics is used everywhere to make informed decisions based on data!\n"
      ],
      "metadata": {
        "id": "m2SKJZgJLoqZ"
      }
    },
    {
      "cell_type": "code",
      "source": [
        "#1.How do you calculate the mean, median, and mode of a dataset?\n",
        "import statistics\n",
        "\n",
        "# Sample dataset\n",
        "data = [1, 2, 3, 3, 4, 5, 6, 7, 8, 9]\n",
        "\n",
        "# Calculate mean, median, and mode\n",
        "mean = statistics.mean(data)\n",
        "median = statistics.median(data)\n",
        "mode = statistics.mode(data)\n",
        "\n",
        "# Print the results\n",
        "print(\"Mean:\", mean)\n",
        "print(\"Median:\", median)\n",
        "print(\"Mode:\", mode)\n"
      ],
      "metadata": {
        "colab": {
          "base_uri": "https://localhost:8080/"
        },
        "id": "nJlYYZiKLoST",
        "outputId": "ac11da8d-8d90-4acc-cd10-247f63782204"
      },
      "execution_count": 1,
      "outputs": [
        {
          "output_type": "stream",
          "name": "stdout",
          "text": [
            "Mean: 4.8\n",
            "Median: 4.5\n",
            "Mode: 3\n"
          ]
        }
      ]
    },
    {
      "cell_type": "code",
      "execution_count": 2,
      "metadata": {
        "colab": {
          "base_uri": "https://localhost:8080/"
        },
        "id": "v-2faIVeLj90",
        "outputId": "a9394723-79b9-44b5-9f44-8ffd2915d9de"
      },
      "outputs": [
        {
          "output_type": "stream",
          "name": "stdout",
          "text": [
            "Variance: 9.166666666666666\n",
            "Standard Deviation: 3.0276503540974917\n"
          ]
        }
      ],
      "source": [
        "#2.Write a Python program to compute the variance and standard deviation of a dataset?\n",
        "import statistics\n",
        "\n",
        "# Sample dataset\n",
        "data = [1, 2, 3, 4, 5, 6, 7, 8, 9, 10]\n",
        "\n",
        "# Calculate variance and standard deviation\n",
        "variance = statistics.variance(data)\n",
        "std_dev = statistics.stdev(data)\n",
        "\n",
        "# Print the results\n",
        "print(\"Variance:\", variance)\n",
        "print(\"Standard Deviation:\", std_dev)\n"
      ]
    },
    {
      "cell_type": "code",
      "source": [
        "#3.Create a dataset and classify it into nominal, ordinal, interval, and ratio types?\n",
        "# Sample dataset\n",
        "dataset = {\n",
        "    \"nominal\": ['Red', 'Blue', 'Green', 'Yellow'],  # Categories with no order\n",
        "    \"ordinal\": ['Low', 'Medium', 'High'],           # Categories with a meaningful order\n",
        "    \"interval\": [32, 45, 28, 39, 50],               # Ordered with equal spacing (e.g., temperature in Celsius)\n",
        "    \"ratio\": [0, 15, 30, 45, 60]                    # Ordered, equal spacing, and true zero (e.g., weight, height)\n",
        "}\n",
        "\n",
        "# Display the dataset classified into different types\n",
        "for key, value in dataset.items():\n",
        "    print(f\"{key.capitalize()} Data: {value}\")\n"
      ],
      "metadata": {
        "colab": {
          "base_uri": "https://localhost:8080/"
        },
        "id": "SPk6IjvA_FHZ",
        "outputId": "49cac9e9-0fbb-498a-a269-fa7e16a19731"
      },
      "execution_count": 3,
      "outputs": [
        {
          "output_type": "stream",
          "name": "stdout",
          "text": [
            "Nominal Data: ['Red', 'Blue', 'Green', 'Yellow']\n",
            "Ordinal Data: ['Low', 'Medium', 'High']\n",
            "Interval Data: [32, 45, 28, 39, 50]\n",
            "Ratio Data: [0, 15, 30, 45, 60]\n"
          ]
        }
      ]
    },
    {
      "cell_type": "code",
      "source": [
        "#4.Implement sampling techniques like random sampling and stratified sampling?\n",
        "import random\n",
        "\n",
        "# Sample dataset\n",
        "data = [10, 20, 30, 40, 50, 60, 70, 80, 90, 100]\n",
        "\n",
        "# Perform random sampling (e.g., select 3 random elements)\n",
        "random_sample = random.sample(data, 3)\n",
        "\n",
        "print(\"Random Sample:\", random_sample)\n"
      ],
      "metadata": {
        "colab": {
          "base_uri": "https://localhost:8080/"
        },
        "id": "RYpWZ3ho_FCK",
        "outputId": "40f4e418-ab1e-45fe-9189-4402b7047162"
      },
      "execution_count": 4,
      "outputs": [
        {
          "output_type": "stream",
          "name": "stdout",
          "text": [
            "Random Sample: [40, 80, 50]\n"
          ]
        }
      ]
    },
    {
      "cell_type": "code",
      "source": [
        "#5.Write a Python function to calculate the range of a dataset ?\n",
        "def calculate_range(data):\n",
        "    return max(data) - min(data)\n",
        "\n",
        "# Sample dataset\n",
        "data = [10, 20, 30, 40, 50, 60, 70]\n",
        "\n",
        "# Calculate range\n",
        "range_value = calculate_range(data)\n",
        "\n",
        "print(\"Range of the dataset:\", range_value)\n"
      ],
      "metadata": {
        "colab": {
          "base_uri": "https://localhost:8080/"
        },
        "id": "EwIMSgV6_E-5",
        "outputId": "c2d1d006-e15d-439c-ac62-6f15c79aee0d"
      },
      "execution_count": 5,
      "outputs": [
        {
          "output_type": "stream",
          "name": "stdout",
          "text": [
            "Range of the dataset: 60\n"
          ]
        }
      ]
    },
    {
      "cell_type": "code",
      "source": [
        "#6Create a dataset and plot its histogram to visualize skewness?\n",
        "import matplotlib.pyplot as plt\n",
        "import seaborn as sns\n",
        "import numpy as np\n",
        "\n",
        "# Create a sample dataset (right-skewed)\n",
        "data = np.random.exponential(scale=2, size=1000)\n",
        "\n",
        "# Plot the histogram\n",
        "sns.histplot(data, kde=True)\n",
        "\n",
        "# Set plot labels\n",
        "plt.title(\"Histogram with Skewness Visualization\")\n",
        "plt.xlabel(\"Value\")\n",
        "plt.ylabel(\"Frequency\")\n",
        "\n",
        "# Show the plot\n",
        "plt.show()\n"
      ],
      "metadata": {
        "colab": {
          "base_uri": "https://localhost:8080/",
          "height": 472
        },
        "id": "FOZOakwr_E7b",
        "outputId": "6fc232cf-b74d-45f0-d3f6-252adb31feec"
      },
      "execution_count": 6,
      "outputs": [
        {
          "output_type": "display_data",
          "data": {
            "text/plain": [
              "<Figure size 640x480 with 1 Axes>"
            ],
            "image/png": "[encoded data removed]"
          },
          "metadata": {}
        }
      ]
    },
    {
      "cell_type": "code",
      "source": [
        "#Calculate skewness and kurtosis of a dataset using Python libraries?\n",
        "import numpy as np\n",
        "import pandas as pd\n",
        "from scipy.stats import skew, kurtosis\n",
        "\n",
        "# Create a sample dataset\n",
        "data = np.random.normal(loc=0, scale=1, size=1000)\n",
        "\n",
        "# Calculate skewness and kurtosis\n",
        "skewness = skew(data)\n",
        "kurt = kurtosis(data)\n",
        "\n",
        "print(\"Skewness:\", skewness)\n",
        "print(\"Kurtosis:\", kurt)\n"
      ],
      "metadata": {
        "colab": {
          "base_uri": "https://localhost:8080/"
        },
        "id": "8IFTra-a_E4Z",
        "outputId": "62a8ace2-041c-41a7-cacd-2874ff4c55f2"
      },
      "execution_count": 7,
      "outputs": [
        {
          "output_type": "stream",
          "name": "stdout",
          "text": [
            "Skewness: -0.07111694646080731\n",
            "Kurtosis: -0.10719166028067484\n"
          ]
        }
      ]
    },
    {
      "cell_type": "code",
      "source": [
        "#8.Generate a dataset and demonstrate positive and negative skewness?\n",
        "import numpy as np\n",
        "import matplotlib.pyplot as plt\n",
        "import seaborn as sns\n",
        "\n",
        "# Generate a dataset with positive skew (right-skewed)\n",
        "positive_skew_data = np.random.exponential(scale=2, size=1000)\n",
        "\n",
        "# Generate a dataset with negative skew (left-skewed)\n",
        "negative_skew_data = -np.random.exponential(scale=2, size=1000)\n",
        "\n",
        "# Plot the histograms\n",
        "plt.figure(figsize=(12, 6))\n",
        "\n",
        "# Positive skew\n",
        "plt.subplot(1, 2, 1)\n",
        "sns.histplot(positive_skew_data, kde=True)\n",
        "plt.title(\"Positive Skew (Right-sk\n"
      ],
      "metadata": {
        "colab": {
          "base_uri": "https://localhost:8080/",
          "height": 105
        },
        "id": "bBimRG8k_E1L",
        "outputId": "d12e9de3-c055-4da8-acd4-99aa540c8c5b"
      },
      "execution_count": 8,
      "outputs": [
        {
          "output_type": "error",
          "ename": "SyntaxError",
          "evalue": "unterminated string literal (detected at line 18) (<ipython-input-8-7cb1f2bb6516>, line 18)",
          "traceback": [
            "\u001b[0;36m  File \u001b[0;32m\"<ipython-input-8-7cb1f2bb6516>\"\u001b[0;36m, line \u001b[0;32m18\u001b[0m\n\u001b[0;31m    plt.title(\"Positive Skew (Right-sk\u001b[0m\n\u001b[0m              ^\u001b[0m\n\u001b[0;31mSyntaxError\u001b[0m\u001b[0;31m:\u001b[0m unterminated string literal (detected at line 18)\n"
          ]
        }
      ]
    },
    {
      "cell_type": "code",
      "source": [
        "#9Write a Python script to calculate covariance between two datasets ?\n",
        "import numpy as np\n",
        "\n",
        "# Sample datasets\n",
        "data1 = [1, 2, 3, 4, 5]\n",
        "data2 = [5, 4, 3, 2, 1]\n",
        "\n",
        "# Calculate covariance\n",
        "covariance = np.cov(data1, data2)[0, 1]\n",
        "\n",
        "print(\"Covariance between the datasets:\", covariance)\n"
      ],
      "metadata": {
        "colab": {
          "base_uri": "https://localhost:8080/"
        },
        "id": "o1nd2VeU_Eyo",
        "outputId": "fd8ee0ce-5ba1-43cc-f4c3-d1e39b4cd62d"
      },
      "execution_count": 1,
      "outputs": [
        {
          "output_type": "stream",
          "name": "stdout",
          "text": [
            "Covariance between the datasets: -2.5\n"
          ]
        }
      ]
    },
    {
      "cell_type": "code",
      "source": [
        "#10.Write a Python script to calculate the correlation coefficient between two datasets?\n",
        "import numpy as np\n",
        "\n",
        "x = [1, 2, 3, 4, 5]\n",
        "y = [2, 4, 6, 8, 10]\n",
        "\n",
        "corr = np.corrcoef(x, y)[0, 1]\n",
        "print(\"Correlation (numpy):\", corr)\n"
      ],
      "metadata": {
        "colab": {
          "base_uri": "https://localhost:8080/"
        },
        "id": "DQKiTfRF_EvN",
        "outputId": "71501d1b-4fc7-40ee-ecf5-dae289d0500a"
      },
      "execution_count": 1,
      "outputs": [
        {
          "output_type": "stream",
          "name": "stdout",
          "text": [
            "Correlation (numpy): 0.9999999999999999\n"
          ]
        }
      ]
    },
    {
      "cell_type": "code",
      "source": [
        "#11.Create a scatter plot to visualize the relationship between two variables?\n",
        "import matplotlib.pyplot as plt\n",
        "\n",
        "# Sample data\n",
        "x = [1, 2, 3, 4, 5]\n",
        "y = [2, 4, 5, 4, 5]\n",
        "\n",
        "# Create scatter plot\n",
        "plt.scatter(x, y)\n",
        "plt.title(\"Scatter Plot of X vs Y\")\n",
        "plt.xlabel(\"X values\")\n",
        "plt.ylabel(\"Y values\")\n",
        "plt.grid(True)\n",
        "plt.show()\n"
      ],
      "metadata": {
        "colab": {
          "base_uri": "https://localhost:8080/",
          "height": 472
        },
        "id": "WCcTCNsH_Esb",
        "outputId": "7fde0822-3ab7-4097-836f-9f07a2917e8b"
      },
      "execution_count": 2,
      "outputs": [
        {
          "output_type": "display_data",
          "data": {
            "text/plain": [
              "<Figure size 640x480 with 1 Axes>"
            ],
            "image/png": "[encoded data removed]"
          },
          "metadata": {}
        }
      ]
    },
    {
      "cell_type": "code",
      "source": [
        "#Implement and compare simple random sampling and systematic sampling.\n",
        "import random\n",
        "import numpy as np\n",
        "\n",
        "# Sample dataset\n",
        "data = list(range(1, 101))  # Dataset from 1 to 100\n",
        "\n",
        "# Simple Random Sampling: randomly pick 10 elements\n",
        "simple_random_sample = random.sample(data, 10)\n",
        "\n",
        "# Systematic Sampling: pick every 10th element\n",
        "k = len(data) // 10  # Sampling interval\n",
        "systematic_sample = [data[i] for i in range(0, len(data), k)][:10]\n",
        "\n",
        "# Output the samples\n",
        "print(\"Simple Random Sample:\", simple_random_sample)\n",
        "print(\"Systematic Sample:\", systematic_sample)\n",
        "\n"
      ],
      "metadata": {
        "colab": {
          "base_uri": "https://localhost:8080/"
        },
        "id": "FkaX7FB9_EpS",
        "outputId": "728b08b7-503f-40b3-bad6-366127ba61de"
      },
      "execution_count": 3,
      "outputs": [
        {
          "output_type": "stream",
          "name": "stdout",
          "text": [
            "Simple Random Sample: [61, 79, 28, 85, 57, 88, 96, 71, 1, 81]\n",
            "Systematic Sample: [1, 11, 21, 31, 41, 51, 61, 71, 81, 91]\n"
          ]
        }
      ]
    },
    {
      "cell_type": "code",
      "source": [
        "#Calculate the mean, median, and mode of grouped data\n",
        "import pandas as pd\n",
        "\n",
        "# Class intervals and frequencies\n",
        "classes = ['0-10', '10-20', '20-30', '30-40']\n",
        "freq = [5, 8, 15, 7]\n",
        "mids = [(int(c.split('-')[0]) + int(c.split('-')[1])) / 2 for c in classes]\n",
        "\n",
        "df = pd.DataFrame({'mid': mids, 'freq': freq})\n",
        "\n",
        "# Mean\n",
        "mean = sum(df['mid'] * df['freq']) / sum(df['freq'])\n",
        "\n",
        "# Median\n",
        "cf = df['freq'].cumsum()\n",
        "n = sum(freq)\n",
        "for i, total in enumerate(cf):\n",
        "    if total >= n/2:\n",
        "        L = int(classes[i].split('-')[0])\n",
        "        f = freq[i]\n",
        "        CF = cf[i-1] if i > 0 else 0\n",
        "        h = int(classes[i].split('-')[1]) - L\n",
        "        median = L + ((n/2 - CF) / f) * h\n",
        "        break\n",
        "\n",
        "# Mode\n",
        "modal = freq.index(max(freq))\n",
        "L = int(classes[modal].split('-')[0])\n",
        "f1 = freq[modal]\n",
        "f0 = freq[modal - 1] if modal > 0 else 0\n",
        "f2 = freq[modal + 1] if modal < len(freq) - 1 else 0\n",
        "h = int(classes[modal].split('-')[1]) - L\n",
        "mode = L + ((f1 - f0) / (2*f1 - f0 - f2)) * h if (2*f1 - f0 - f2) != 0 else None\n",
        "\n",
        "print(\"Mean:\", mean)\n",
        "print(\"Median:\", median)\n",
        "print(\"Mode:\", mode)\n",
        "\n"
      ],
      "metadata": {
        "colab": {
          "base_uri": "https://localhost:8080/"
        },
        "id": "0ox1dG_5nZdK",
        "outputId": "ed141633-3487-4684-887e-ec219dc1ec45"
      },
      "execution_count": 6,
      "outputs": [
        {
          "output_type": "stream",
          "name": "stdout",
          "text": [
            "Mean: 21.857142857142858\n",
            "Median: 23.0\n",
            "Mode: 24.666666666666668\n"
          ]
        }
      ]
    },
    {
      "cell_type": "code",
      "source": [
        "#Simulate data using Python and calculate its central tendency and dispersion.\n",
        "import numpy as np\n",
        "import statistics as stats\n",
        "\n",
        "# Simulate data\n",
        "data = np.random.normal(loc=50, scale=10, size=100)\n",
        "\n",
        "# Central Tendency\n",
        "mean = np.mean(data)\n",
        "median = np.median(data)\n",
        "mode = stats.mode(data)\n",
        "\n",
        "# Dispersion\n",
        "variance = np.var(data)\n",
        "std_dev = np.std(data)\n",
        "range_val = np.max(data) - np.min(data)\n",
        "\n",
        "print(\"Mean:\", mean, \"Median:\", median, \"Mode:\", mode)\n",
        "print(\"Variance:\", variance, \"Std Dev:\", std_dev, \"Range:\", range_val)\n"
      ],
      "metadata": {
        "colab": {
          "base_uri": "https://localhost:8080/"
        },
        "id": "ODQJRwA8_EmQ",
        "outputId": "7962a180-9655-4d5a-ca16-bafa59c7188c"
      },
      "execution_count": 7,
      "outputs": [
        {
          "output_type": "stream",
          "name": "stdout",
          "text": [
            "Mean: 50.264662503110365 Median: 50.8948542669183 Mode: 35.26676232767862\n",
            "Variance: 97.276681145119 Std Dev: 9.862894156641802 Range: 43.549969988924445\n"
          ]
        }
      ]
    },
    {
      "cell_type": "code",
      "source": [
        "#Use NumPy or pandas to summarize a dataset’s descriptive statistics.\n",
        "import pandas as pd\n",
        "import numpy as np\n",
        "\n",
        "# Create sample dataset\n",
        "data = pd.DataFrame({'Scores': np.random.normal(70, 10, 100)})\n",
        "\n",
        "# Summary statistics\n",
        "print(data.describe())\n"
      ],
      "metadata": {
        "colab": {
          "base_uri": "https://localhost:8080/"
        },
        "id": "QwfUxUog_Ejf",
        "outputId": "8af25415-7e12-487f-be47-daadaa340945"
      },
      "execution_count": 8,
      "outputs": [
        {
          "output_type": "stream",
          "name": "stdout",
          "text": [
            "           Scores\n",
            "count  100.000000\n",
            "mean    71.342518\n",
            "std      8.334692\n",
            "min     48.293606\n",
            "25%     66.226436\n",
            "50%     70.965022\n",
            "75%     76.679725\n",
            "max     89.959908\n"
          ]
        }
      ]
    },
    {
      "cell_type": "code",
      "source": [
        "#Plot a boxplot to understand the spread and identify outliers.\n",
        "import matplotlib.pyplot as plt\n",
        "import seaborn as sns\n",
        "import numpy as np\n",
        "\n",
        "data = np.random.normal(50, 15, 100)\n",
        "sns.boxplot(data)\n",
        "plt.title(\"Boxplot of Data\")\n",
        "plt.show()\n"
      ],
      "metadata": {
        "colab": {
          "base_uri": "https://localhost:8080/",
          "height": 433
        },
        "id": "aVpycMpM_Ega",
        "outputId": "61ea231f-723c-4356-b2de-8301cc9a8197"
      },
      "execution_count": 9,
      "outputs": [
        {
          "output_type": "display_data",
          "data": {
            "text/plain": [
              "<Figure size 640x480 with 1 Axes>"
            ],
            "image/png": "[encoded data removed]"
          },
          "metadata": {}
        }
      ]
    },
    {
      "cell_type": "code",
      "source": [
        "#Calculate the interquartile range (IQR) of a dataset.\n",
        "import numpy as np\n",
        "\n",
        "data = np.random.normal(50, 10, 100)\n",
        "q1 = np.percentile(data, 25)\n",
        "q3 = np.percentile(data, 75)\n",
        "iqr = q3 - q1\n",
        "\n",
        "print(\"IQR:\", iqr)\n"
      ],
      "metadata": {
        "colab": {
          "base_uri": "https://localhost:8080/"
        },
        "id": "xTHdoVU5_Edx",
        "outputId": "10d3d5f2-3cf8-438a-fc00-2fc0efb7bd89"
      },
      "execution_count": 10,
      "outputs": [
        {
          "output_type": "stream",
          "name": "stdout",
          "text": [
            "IQR: 14.402672036168077\n"
          ]
        }
      ]
    },
    {
      "cell_type": "code",
      "source": [
        "#Implement Z-score normalization and explain its significance.\n",
        "import numpy as np\n",
        "\n",
        "data = np.array([10, 20, 30, 40, 50])\n",
        "z_scores = (data - np.mean(data)) / np.std(data)\n",
        "\n",
        "print(\"Z-scores:\", z_scores)\n"
      ],
      "metadata": {
        "colab": {
          "base_uri": "https://localhost:8080/"
        },
        "id": "L-aQwXJ-_Ea0",
        "outputId": "3a14a640-cd07-422b-844c-cc930ec6e4a8"
      },
      "execution_count": 11,
      "outputs": [
        {
          "output_type": "stream",
          "name": "stdout",
          "text": [
            "Z-scores: [-1.41421356 -0.70710678  0.          0.70710678  1.41421356]\n"
          ]
        }
      ]
    },
    {
      "cell_type": "code",
      "source": [
        "#Compare two datasets using their standard deviations.\n",
        "import numpy as np\n",
        "\n",
        "data1 = np.random.normal(50, 10, 100)\n",
        "data2 = np.random.normal(50, 20, 100)\n",
        "\n",
        "std1 = np.std(data1)\n",
        "std2 = np.std(data2)\n",
        "\n",
        "print(\"Standard Deviation of Data1:\", std1)\n",
        "print(\"Standard Deviation of Data2:\", std2)\n"
      ],
      "metadata": {
        "colab": {
          "base_uri": "https://localhost:8080/"
        },
        "id": "toh9COmG_EXm",
        "outputId": "1d7b9804-0f49-4f15-ce0d-e5b90abf15f7"
      },
      "execution_count": 13,
      "outputs": [
        {
          "output_type": "stream",
          "name": "stdout",
          "text": [
            "Standard Deviation of Data1: 10.980649791612347\n",
            "Standard Deviation of Data2: 19.284415236289412\n"
          ]
        }
      ]
    },
    {
      "cell_type": "code",
      "source": [
        "#Write a Python program to visualize covariance using a heatmap.\n",
        "import numpy as np\n",
        "import seaborn as sns\n",
        "import matplotlib.pyplot as plt\n",
        "\n",
        "# Sample data\n",
        "data = np.random.rand(10, 3)\n",
        "\n",
        "# Compute covariance matrix\n",
        "cov_matrix = np.cov(data, rowvar=False)\n",
        "\n",
        "# Plot heatmap\n",
        "sns.heatmap(cov_matrix, annot=True, cmap=\"coolwarm\")\n",
        "plt.title(\"Covariance Heatmap\")\n",
        "plt.show()\n"
      ],
      "metadata": {
        "colab": {
          "base_uri": "https://localhost:8080/",
          "height": 452
        },
        "id": "YVDfRH0gpRAB",
        "outputId": "939781d8-2697-4421-edbe-ce2ffa8eee02"
      },
      "execution_count": 14,
      "outputs": [
        {
          "output_type": "display_data",
          "data": {
            "text/plain": [
              "<Figure size 640x480 with 2 Axes>"
            ],
            "image/png": "[encoded data removed]"
          },
          "metadata": {}
        }
      ]
    },
    {
      "cell_type": "code",
      "source": [
        "#Use seaborn to create a correlation matrix for a dataset.\n",
        "import seaborn as sns\n",
        "import matplotlib.pyplot as plt\n",
        "import numpy as np\n",
        "import pandas as pd\n",
        "\n",
        "# Sample data\n",
        "data = np.random.rand(10, 5)\n",
        "df = pd.DataFrame(data, columns=['A', 'B', 'C', 'D', 'E'])\n",
        "\n",
        "# Compute the correlation matrix\n",
        "corr_matrix = df.corr()\n",
        "\n",
        "# Plot correlation matrix as a heatmap\n",
        "sns.heatmap(corr_matrix, annot=True, cmap=\"coolwarm\")\n",
        "plt.title(\"Correlation Matrix\")\n",
        "plt.show()\n"
      ],
      "metadata": {
        "colab": {
          "base_uri": "https://localhost:8080/",
          "height": 452
        },
        "id": "aBeZHU98pQ8A",
        "outputId": "187620a9-0dc8-4432-dd1f-7fb6cc9563be"
      },
      "execution_count": 15,
      "outputs": [
        {
          "output_type": "display_data",
          "data": {
            "text/plain": [
              "<Figure size 640x480 with 2 Axes>"
            ],
            "image/png": "[encoded data removed]"
          },
          "metadata": {}
        }
      ]
    },
    {
      "cell_type": "code",
      "source": [
        "#Generate a dataset and implement both variance and standard deviation computations.\n",
        "import numpy as np\n",
        "\n",
        "# Generate a sample dataset\n",
        "data = np.random.normal(50, 10, 100)\n",
        "\n",
        "# Compute variance and standard deviation\n",
        "variance = np.var(data)\n",
        "std_dev = np.std(data)\n",
        "\n",
        "print(\"Variance:\", variance)\n",
        "print(\"Standard Deviation:\", std_dev)\n"
      ],
      "metadata": {
        "colab": {
          "base_uri": "https://localhost:8080/"
        },
        "id": "qcd9fPZJpQ4c",
        "outputId": "0bb7999c-7908-4d9c-ed7e-5f7600dedfb0"
      },
      "execution_count": 16,
      "outputs": [
        {
          "output_type": "stream",
          "name": "stdout",
          "text": [
            "Variance: 92.97371198167254\n",
            "Standard Deviation: 9.642287694404919\n"
          ]
        }
      ]
    },
    {
      "cell_type": "code",
      "source": [
        "#Visualize skewness and kurtosis using Python libraries like matplotlib or seaborn.\n",
        "import numpy as np\n",
        "import seaborn as sns\n",
        "import matplotlib.pyplot as plt\n",
        "from scipy.stats import skew, kurtosis\n",
        "\n",
        "# Generate a dataset with skewness and kurtosis\n",
        "data = np.random.exponential(scale=2, size=1000)\n",
        "\n",
        "# Plot histogram and KDE\n",
        "sns.histplot(data, kde=True)\n",
        "plt.title(f\"Skewness: {skew(data):.2f}, Kurtosis: {kurtosis(data):.2f}\")\n",
        "plt.show()\n"
      ],
      "metadata": {
        "colab": {
          "base_uri": "https://localhost:8080/",
          "height": 452
        },
        "id": "uKBxYmx7qJg7",
        "outputId": "ae6a067e-c128-42ff-fb81-9689184c46f6"
      },
      "execution_count": 17,
      "outputs": [
        {
          "output_type": "display_data",
          "data": {
            "text/plain": [
              "<Figure size 640x480 with 1 Axes>"
            ],
            "image/png": "[encoded data removed]"
          },
          "metadata": {}
        }
      ]
    },
    {
      "cell_type": "code",
      "source": [
        "#Implement the Pearson and Spearman correlation coefficients for a dataset.\n",
        "import numpy as np\n",
        "from scipy.stats import pearsonr, spearmanr\n",
        "\n",
        "# Sample dataset\n",
        "x = np.random.rand(100)\n",
        "y = np.random.rand(100)\n",
        "\n",
        "# Pearson correlation\n",
        "pearson_corr, _ = pearsonr(x, y)\n",
        "\n",
        "# Spearman correlation\n",
        "spearman_corr, _ = spearmanr(x, y)\n",
        "\n",
        "print(\"Pearson Correlation:\", pearson_corr)\n",
        "print(\"Spearman Correlation:\", spearman_corr)\n"
      ],
      "metadata": {
        "colab": {
          "base_uri": "https://localhost:8080/"
        },
        "id": "01F-SHCbqJUk",
        "outputId": "8b9e1a2a-c87b-411f-ce68-9a84ab4f70fe"
      },
      "execution_count": 18,
      "outputs": [
        {
          "output_type": "stream",
          "name": "stdout",
          "text": [
            "Pearson Correlation: -0.017170406526663653\n",
            "Spearman Correlation: -0.026198619861986197\n"
          ]
        }
      ]
    },
    {
      "cell_type": "code",
      "source": [],
      "metadata": {
        "id": "sgw-CVcBqJQM"
      },
      "execution_count": null,
      "outputs": []
    }
  ]
}