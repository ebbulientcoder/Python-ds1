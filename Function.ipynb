{
  "nbformat": 4,
  "nbformat_minor": 0,
  "metadata": {
    "colab": {
      "provenance": []
    },
    "kernelspec": {
      "name": "python3",
      "display_name": "Python 3"
    },
    "language_info": {
      "name": "python"
    }
  },
  "cells": [
    {
      "cell_type": "markdown",
      "source": [
        "# 1.What is the difference between a function and a method in Python?\n",
        "In Python, the main difference between a function and a method is:\n",
        "\n",
        "A function is an independent block of code defined using def that can be called anywhere.\n",
        "A method is a function that belongs to an object (usually inside a class) and is called on that object.\n",
        "Example:\n",
        "# Function\n",
        "def greet(name):\n",
        "    return f\"Hello, {name}!\"\n",
        "\n",
        "print(greet(\"Alice\"))  # Calling a function\n",
        "\n",
        "# Method inside a class\n",
        "class Person:\n",
        "    def __init__(self, name):\n",
        "        self.name = name\n",
        "\n",
        "    def greet(self):\n",
        "        return f\"Hello, {self.name}!\"\n",
        "\n",
        "p = Person(\"Bob\")\n",
        "print(p.greet())  # Calling a method\n",
        "Here, greet(name) is a function, while greet(self) is a method inside the Person class.\n",
        "#2.Explain the concept of function arguments and parameters in Python.\n",
        "Function Arguments vs. Parameters in Python:\n",
        "Parameters are variables listed in a function definition.\n",
        "Arguments are actual values passed to a function when calling it.\n",
        "Example:\n",
        "def add(a, b):  # 'a' and 'b' are parameters\n",
        "    return a + b\n",
        "\n",
        "result = add(5, 3)  # '5' and '3' are arguments\n",
        "print(result)  # Output: 8\n",
        "Here, a and b are parameters, while 5 and 3 are arguments passed when calling the function.\n",
        "#3.. What are the different ways to define and call a function in Python?\n",
        "Different Ways to Define and Call a Function in Python\n",
        "- Normal Function\n",
        "def greet(name):\n",
        "    return f\"Hello, {name}!\"\n",
        "\n",
        "print(greet(\"Alice\"))  # Calling the function\n",
        "Function with Default Argument\n",
        "def greet(name=\"Guest\"):\n",
        "    return f\"Hello, {name}!\"\n",
        "\n",
        "print(greet())  # Uses default value \"Guest\"\n",
        "print(greet(\"Bob\"))  # Overrides default value\n",
        "- Lambda (Anonymous) Function\n",
        "square = lambda x: x * x\n",
        "print(square(4))  # Output: 16\n",
        "- Function with args (Variable-Length Arguments)\n",
        "def add(*numbers):\n",
        "    return sum(numbers)\n",
        "\n",
        "print(add(1, 2, 3, 4))  # Output: 10\n",
        "- Function with kwargs (Keyword Arguments)\n",
        "def info(**data):\n",
        "    return data\n",
        "\n",
        "print(info(name=\"Alice\", age=25))  # Output: {'name': 'Alice', 'age': 25}\n",
        "# 4.What is the purpose of the `return` statement in a Python function?\n",
        "Purpose of return in Python:\n",
        "The return statement is used to send a value from a function back to the caller. It allows the function to produce an output.\n",
        "\n",
        "Example:\n",
        "def square(num):\n",
        "    return num * num\n",
        "\n",
        "result = square(4)\n",
        "print(result)  # Output: 16\n",
        "Here, return num * num sends the computed value back to result.\n",
        "#5. What are iterators in Python and how do they differ from iterables?\n",
        "Iterators vs. Iterables in Python\n",
        "Iterable: An object that contains multiple values and can be looped over (e.g., lists, tuples, strings).\n",
        "Iterator: An object that keeps track of its state and produces elements one at a time using __next__().\n",
        "Example:\n",
        "# Iterable (list)\n",
        "numbers = [1, 2, 3]\n",
        "iter_obj = iter(numbers)  # Converting list to an iterator\n",
        "\n",
        "print(next(iter_obj))  # Output: 1\n",
        "print(next(iter_obj))  # Output: 2\n",
        "print(next(iter_obj))  # Output: 3\n",
        "Here, numbers is an iterable, and iter_obj is an iterator created using iter().\n",
        "#6.. Explain the concept of generators in Python and how they are defined.\n",
        "Generators in Python\n",
        "A generator is a special type of iterator that produces values lazily using the yield keyword, saving memory.\n",
        "\n",
        "How to Define a Generator:\n",
        "def count_up(n):\n",
        "    for i in range(1, n + 1):\n",
        "        yield i  # Uses yield instead of return\n",
        "\n",
        "\n",
        "gen = count_up(3)  # Creates a generator\n",
        "\n",
        "print(next(gen))  # Output: 1\n",
        "\n",
        "print(next(gen))  # Output: 2\n",
        "\n",
        "print(next(gen))  # Output: 3\n",
        "\n",
        "Here, yield makes count_up a generator, producing values one at a time instead of storing them.\n",
        "#7.. What are the advantages of using generators over regular functions?\n",
        "Advantages of Generators Over Regular Functions\n",
        "Memory Efficient\n",
        "- Generates values one at a time, avoiding high memory usage.\n",
        "   Faster Execution\n",
        "- No need to store large data structures in memory.\n",
        "Lazy Evaluation\n",
        "- Computes values only when needed.\n",
        "Can Be Used in Iterations\n",
        "- Works well with loops and large datasets.\n",
        "\n",
        "# 8.What is a lambda function in Python and when is it typically used?\n",
        "Lambda Function in Python\n",
        "A lambda function is a small, anonymous function defined using the lambda keyword. It has no name and is typically used for short, simple operations.\n",
        "\n",
        "When to Use?\n",
        "When you need a short function for a single use.\n",
        "Used in map(), filter(), and sorted().\n",
        "Example:\n",
        "square = lambda x: x * x\n",
        "print(square(5))  # Output: 25\n",
        "Here, lambda x: x * x creates a one-line function to calculate squares.\n",
        "#9. Explain the purpose and usage of the `map()` function in Python.\n",
        "Purpose of map() in Python\n",
        "The map() function applies a given function to each item in an iterable (e.g., list, tuple) and returns a map object (an iterator).\n",
        "\n",
        "Usage Example:\n",
        "nums = [1, 2, 3, 4]\n",
        "squared = map(lambda x: x * x, nums)\n",
        "print(list(squared))  # Output: [1, 4, 9, 16]\n",
        "Here, map() applies the lambda function to square each element in nums.\n",
        "#10.What is the difference between `map()`, `reduce()`, and `filter()` functions in Python?\n",
        "Difference Between map(), reduce(), and filter()\n",
        "map(function, iterable) applies a function to each element of an iterable and returns a new iterable with transformed values.\n",
        "filter(function, iterable) filters elements based on a condition, returning only those that satisfy the function.\n",
        "reduce(function, iterable) (from functools module) applies a function cumulatively to elements, reducing them to a single value.\n",
        "Example:\n",
        "from functools import reduce\n",
        "\n",
        "nums = [1, 2, 3, 4]\n",
        "\n",
        "print(list(map(lambda x: x * x, nums)))  # map → [1, 4, 9, 16]\n",
        "\n",
        "print(list(filter(lambda x: x % 2 == 0, nums)))  # filter → [2, 4]\n",
        "\n",
        "print(reduce(lambda x, y: x + y, nums))  # reduce → 10 (sum of all elements)\n",
        "#11.Using pen & Paper write the internal mechanism for sum operation using  reduce function on this given\n",
        "list:[47,11,42,13]\n",
        "![alt text here](https://i.postimg.cc/LXbM240K/temp-Imagespc3xj.avif)\n",
        "\n",
        "\n",
        "\n",
        "\n",
        "\n",
        "\n",
        "\n",
        "\n",
        "\n",
        "\n",
        "\n",
        "\n",
        "\n",
        "\n",
        "\n",
        "\n",
        "\n",
        "\n",
        "\n",
        "\n",
        "\n",
        "\n",
        "\n",
        "\n",
        "\n"
      ],
      "metadata": {
        "id": "Eu0-_mPaS8Rt"
      }
    },
    {
      "cell_type": "code",
      "source": [
        "#1.Write a Python function that takes a list of numbers as input and returns the sum of all even numbers in\n",
        "# the list.\n",
        "\n",
        "def sum_even_numbers(numbers):\n",
        "\n",
        "  sum_of_evens = 0\n",
        "  for number in numbers:\n",
        "    if number % 2 == 0:\n",
        "      sum_of_evens += number\n",
        "  return sum_of_evens\n",
        "\n",
        "# Example usage:\n",
        "numbers = [1, 2, 3, 4, 5, 6]\n",
        "even_sum = sum_even_numbers(numbers)\n",
        "print(f\"The sum of even numbers in the list is: {even_sum}\")\n"
      ],
      "metadata": {
        "colab": {
          "base_uri": "https://localhost:8080/"
        },
        "id": "pjZRlIPTDpvc",
        "outputId": "e0391af8-83c5-4b8c-9e04-afe492c93ff3"
      },
      "execution_count": 5,
      "outputs": [
        {
          "output_type": "stream",
          "name": "stdout",
          "text": [
            "The sum of even numbers in the list is: 12\n"
          ]
        }
      ]
    },
    {
      "cell_type": "code",
      "source": [
        "#2.Create a Python function that accepts a string and returns the reverse of that string\n",
        "\n",
        "def reverse_string(input_string):\n",
        "\n",
        "  return input_string[::-1]\n",
        "\n"
      ],
      "metadata": {
        "id": "MaGX0JqXGvm-"
      },
      "execution_count": null,
      "outputs": []
    },
    {
      "cell_type": "code",
      "source": [
        "# 3.Implement a Python function that takes a list of integers and returns a new list containing the squares of\n",
        "# each number.\n",
        "\n",
        "def square_numbers(numbers):\n",
        "\n",
        "  squared_list = []\n",
        "  for number in numbers:\n",
        "    squared_list.append(number * number)\n",
        "  return squared_list\n",
        "\n",
        "\n",
        "# Example usage:\n",
        "numbers = [1, 2, 3, 4, 5]\n",
        "squared_numbers_list = square_numbers(numbers)\n",
        "print(f\"The squared numbers are: {squared_numbers_list}\")\n"
      ],
      "metadata": {
        "id": "qWzLb3OAG82i"
      },
      "execution_count": null,
      "outputs": []
    },
    {
      "cell_type": "code",
      "source": [
        "# 4. Write a Python function that checks if a given number is prime or not from 1 to 200\n",
        "\n",
        "def is_prime(n):\n",
        "\n",
        "  if n <= 1:\n",
        "    return False\n",
        "  for i in range(2, int(n**0.5) + 1):\n",
        "    if n % i == 0:\n",
        "      return False\n",
        "  return True\n",
        "\n",
        "\n",
        "def find_prime_numbers(start=1, end=200):\n",
        "\n",
        "  prime_numbers = []\n",
        "  for num in range(start, end + 1):\n",
        "    if is_prime(num):\n",
        "      prime_numbers.append(num)\n",
        "  return prime_numbers\n",
        "\n",
        "\n",
        "# Example usage\n",
        "primes = find_prime_numbers()\n",
        "print(f\"Prime numbers from 1 to 200: {primes}\")\n"
      ],
      "metadata": {
        "id": "FRGzDy-kH_77"
      },
      "execution_count": null,
      "outputs": []
    },
    {
      "cell_type": "code",
      "source": [
        "# 5.Create an iterator class in Python that generates the Fibonacci sequence up to a specified number of\n",
        "# terms.\n",
        "class FibonacciIterator:\n",
        "    def __init__(self, n):\n",
        "        self.n, self.a, self.b, self.count = n, 0, 1, 0\n",
        "\n",
        "    def __iter__(self):\n",
        "        return self\n",
        "\n",
        "    def __next__(self):\n",
        "        if self.count >= self.n:\n",
        "            raise StopIteration\n",
        "        fib = self.a\n",
        "        self.a, self.b = self.b, self.a + self.b\n",
        "        self.count += 1\n",
        "        return fib\n",
        "\n",
        "# Example usage\n",
        "fib_seq = FibonacciIterator(10)\n",
        "print(list(fib_seq))  # Output: [0, 1, 1, 2, 3, 5, 8, 13, 21, 34]\n",
        "\n"
      ],
      "metadata": {
        "id": "x__fnxzBIedB"
      },
      "execution_count": null,
      "outputs": []
    },
    {
      "cell_type": "code",
      "source": [
        "# 6. Write a generator function in Python that yields the powers of 2 up to a given exponent.\n",
        "\n",
        "def powers_of_2(exponent):\n",
        "\n",
        "  for i in range(exponent + 1):\n",
        "    yield 2 ** i\n",
        "\n",
        "# Example usage:\n",
        "for power in powers_of_2(5):\n",
        "power\n"
      ],
      "metadata": {
        "id": "ccRnfA_CJw7-"
      },
      "execution_count": null,
      "outputs": []
    },
    {
      "cell_type": "code",
      "source": [
        "# 7.Implement a generator function that reads a file line by line and yields each line as a string.\n",
        "\n",
        "def read_file_line_by_line(filename):\n",
        "  with open(filename, 'r') as file:\n",
        "    for line in file:\n",
        "      yield line.strip()  # Strip newline characters from each line\n"
      ],
      "metadata": {
        "id": "2dgsQz7SJ8SX"
      },
      "execution_count": null,
      "outputs": []
    },
    {
      "cell_type": "code",
      "source": [
        "# 8.Use a lambda function in Python to sort a list of tuples based on the second element of each tuple.\n",
        "\n",
        "data = [('apple', 2), ('banana', 1), ('orange', 3)]\n",
        "\n",
        "sorted_data = sorted(data, key=lambda x: x[1])\n",
        "\n",
        "sorted_data\n"
      ],
      "metadata": {
        "id": "m1eu9X7PKw9U"
      },
      "execution_count": null,
      "outputs": []
    },
    {
      "cell_type": "code",
      "source": [
        "#9.# Function to convert Celsius to Fahrenheit\n",
        "c_to_f = lambda c: (c * 9/5) + 32\n",
        "\n",
        "# List of Celsius temperatures\n",
        "celsius = [0, 20, 37, 100]\n",
        "\n",
        "# Convert using map()\n",
        "fahrenheit = list(map(c_to_f, celsius))\n",
        "\n",
        "print(fahrenheit)  # Output: [32.0, 68.0, 98.6, 212.0]\n"
      ],
      "metadata": {
        "id": "a0T0h2CFLdZF"
      },
      "execution_count": null,
      "outputs": []
    },
    {
      "cell_type": "code",
      "source": [
        "#10.Create a Python program that uses `filter()` to remove all the vowels from a given string.\n",
        "\n",
        "is_consonant = lambda ch: ch.lower() not in \"aeiou\"\n",
        "\n",
        "# Input string\n",
        "text = \"Hello, World!\"\n",
        "result = \"\".join(filter(is_consonant, text))\n",
        "\n",
        "print(result)  # Output: \"Hll, Wrld!\"\n"
      ],
      "metadata": {
        "id": "fn8k6hIFLtY1"
      },
      "execution_count": null,
      "outputs": []
    },
    {
      "cell_type": "code",
      "source": [
        "#11.Write a Python program, which returns a list with 2-tuples. Each tuple consists of the order number and the\n",
        "#product of the price per item and the quantity. The product should be increased by 10,- € if the value of the\n",
        "#order is smaller than 100,00 €.\n",
        "\n",
        "#Write a Python program using lambda and map.\n",
        "# Sample order list: [Order Number, name, author,Price per Item, Quantity]\n",
        "orders = [\n",
        "    [34587, \"Learning Python, Mark Lutz\", 4, 40.95],\n",
        "    [98762, \"Programming Python, Mark Lutz\", 5, 56.80],\n",
        "    [77226, \"Head First Python, Paul Barry\", 3, 32.95],\n",
        "    [88112, \"Einführung in Python3, Bernd Klein\", 3, 24.99]\n",
        "]\n",
        "\n",
        "result = list(map(lambda x: (x[0], x[2] * x[3] + 10 if x[2] * x[3] < 100 else x[2] * x[3]), orders))\n",
        "\n",
        "print(result)\n",
        "\n"
      ],
      "metadata": {
        "colab": {
          "base_uri": "https://localhost:8080/"
        },
        "id": "GItfn6p8MEws",
        "outputId": "0aeb62d0-559c-41f8-b9da-bb3a96a0221c"
      },
      "execution_count": 10,
      "outputs": [
        {
          "output_type": "stream",
          "name": "stdout",
          "text": [
            "[(34587, 163.8), (98762, 284.0), (77226, 108.85000000000001), (88112, 84.97)]\n"
          ]
        }
      ]
    }
  ]
}