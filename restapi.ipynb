{
  "nbformat": 4,
  "nbformat_minor": 0,
  "metadata": {
    "colab": {
      "provenance": []
    },
    "kernelspec": {
      "name": "python3",
      "display_name": "Python 3"
    },
    "language_info": {
      "name": "python"
    }
  },
  "cells": [
    {
      "cell_type": "markdown",
      "source": [
        "Q1.What is a RESTful API?\n",
        "- A RESTful API (Representational State Transfer API) is a web service that uses standard HTTP methods (like GET, POST, PUT, DELETE) to allow communication between clients and servers, typically exchanging data in formats like JSON or XML. It's designed to be stateless, scalable, and easy to use over the web.\n",
        "\n",
        "Q2.Explain the concept of API specification?\n",
        "- An API specification is a detailed document that defines how an API works—it outlines the endpoints, request and response formats, authentication methods, and rules for interacting with the API. It serves as a contract between the API provider and the users.\n",
        "Q3.What is Flask, and why is it popular for building APIs?\n",
        "- Flask is a lightweight Python web framework used to build web applications and APIs. It's popular because it's simple, flexible, and easy to get started with, making it ideal for small projects or prototyping.\n",
        "Qs4.What is routing in Flask?\n",
        "- Routing in Flask is the process of mapping URLs to specific functions in your code, so when a user visits a URL, Flask knows which function to run and what response to return.\n",
        "Qs.5How do you create a simple Flask application?\n",
        "- To create a simple Flask application, you import Flask, create an app instance, define a route with a function, and run the app. Here's a basic example:\n",
        "\n",
        "```python\n",
        "from flask import Flask\n",
        "\n",
        "app = Flask(__name__)\n",
        "\n",
        "@app.route('/')\n",
        "def home():\n",
        "    return 'Hello, Flask!'\n",
        "\n",
        "if __name__ == '__main__':\n",
        "    app.run()\n",
        "```\n",
        "Qs.6 What are HTTP methods used in RESTful APIs4\n",
        "- The main HTTP methods used in RESTful APIs are:\n",
        "\n",
        "* **GET** – retrieve data\n",
        "* **POST** – create new data\n",
        "* **PUT** – update existing data\n",
        "* **DELETE** – remove data\n",
        "* **PATCH** – partially update data\n",
        "Qs.7 What is the purpose of the @app.route() decorator in Flask?\n",
        "The `@app.route()` decorator in Flask is used to bind a URL path to a specific function, telling Flask which function to run when that URL is accessed.\n",
        "\n",
        "Qs.8 What is the difference between GET and POST HTTP methods?\n",
        "- The **GET** method retrieves data from the server and appends parameters to the URL, while the **POST** method sends data to the server in the request body, typically used for creating or updating resources.\n",
        "Qs.9How do you handle errors in Flask APIs?\n",
        "- In Flask APIs, you handle errors using error handlers with the `@app.errorhandler()` decorator or by returning custom responses with appropriate HTTP status codes in your routes.\n",
        "Qs.10How do you connect Flask to a SQL database?\n",
        "- You connect Flask to a SQL database using an ORM like SQLAlchemy or a database driver; you configure the database URI in Flask, initialize the connection, and use models to interact with the database.\n",
        "Qs11.What is the role of Flask-SQLAlchemy?\n",
        "- Flask-SQLAlchemy is an extension for Flask that simplifies the integration of SQLAlchemy, allowing you to easily manage databases using Python objects instead of raw SQL queries. It provides a convenient way to define models, perform database operations, and manage database connections in Flask applications.\n",
        "Qs.12 What are Flask blueprints, and how are they useful?\n",
        "- Flask blueprints are a way to organize a Flask application into reusable, modular components. They help structure large applications by grouping related routes, views, and static files, making the codebase cleaner and easier to maintain.\n",
        "Qs.13 What is the purpose of Flask's request object?\n",
        "- Flask's `request` object provides access to incoming HTTP request data, such as form inputs, query parameters, headers, cookies, and JSON payloads, allowing the server to process client input.\n",
        "Qs.14 How do you create a RESTful API endpoint using Flask?\n",
        "- To create a RESTful API endpoint in Flask, define a route with `@app.route()`, specify the HTTP methods (e.g., GET, POST), and write a function to handle requests and return a JSON response using `jsonify()`.\n",
        "Qs.15What is the purpose of Flask's jsonify() function?\n",
        "- Flask's `jsonify()` function converts Python data (like dictionaries or lists) into a JSON-formatted HTTP response, setting the correct content type (`application/json`).\n",
        "Qs.16 Explain Flask’s url_for() function?\n",
        "- Flask’s `url_for()` function generates the URL for a given endpoint (usually a view function), helping to build dynamic links and making the app more maintainable and flexible.\n",
        "Qs.17How does Flask handle static files (CSS, JavaScript, etc.)?\n",
        "- Flask automatically serves static files from the `static` folder in your project, and you can access them in templates using `url_for('static', filename='path/to/file')`.\n",
        "Qs.18What is an API specification, and how does it help in building a Flask API?\n",
        "- An API specification defines the structure, endpoints, request/response formats, and rules of an API, helping developers understand, build, and maintain consistent and well-documented Flask APIs.\n",
        "Qs.19 What are HTTP status codes, and why are they important in a Flask API?\n",
        "- HTTP status codes indicate the result of a client's request (e.g., success, error) and are important in a Flask API for communicating the outcome clearly and helping clients handle responses appropriately.\n",
        "Qs.20How do you handle POST requests in Flask?\n",
        "- In Flask, you handle POST requests by defining a route with `methods=['POST']` and accessing the submitted data using `request.form`, `request.json`, or `request.data` inside the route function.\n",
        "Qs.21How would you secure a Flask API?\n",
        "- To secure a Flask API, you can implement methods such as:\n",
        "\n",
        "1. **Authentication**: Use token-based systems like JWT (JSON Web Tokens) or OAuth.\n",
        "2. **Authorization**: Ensure users have permission to access specific resources.\n",
        "3. **Input Validation**: Sanitize inputs to prevent SQL injection and other attacks.\n",
        "4. **HTTPS**: Use SSL/TLS for encrypted communication.\n",
        "5. **Rate Limiting**: Prevent abuse by limiting the number of requests.\n",
        "6. **CORS**: Restrict which domains can access the API.\n",
        "Qs22.What is the significance of the Flask-RESTful extension?\n",
        "- Flask-RESTful is an extension that simplifies building RESTful APIs in Flask by providing tools to create and manage resources, handle HTTP methods (GET, POST, PUT, DELETE), and automatically format responses, making API development more structured and efficient.\n",
        "Qs23.What is the role of Flask’s session object?\n",
        "- Flask's `session` object is used to store data specific to a user's session, such as login information or preferences. It allows data to persist across requests, typically using cookies, while keeping it secure and private.\n",
        "\n",
        "\n",
        "\n",
        "\n",
        "\n"
      ],
      "metadata": {
        "id": "xFPKBYdz8T3_"
      }
    },
    {
      "cell_type": "code",
      "execution_count": 1,
      "metadata": {
        "colab": {
          "base_uri": "https://localhost:8080/"
        },
        "id": "x2Jf5Irp8HZm",
        "outputId": "68732de5-b858-4cc5-cdd4-45a5dd4ca298"
      },
      "outputs": [
        {
          "output_type": "stream",
          "name": "stdout",
          "text": [
            " * Serving Flask app '__main__'\n",
            " * Debug mode: off\n"
          ]
        },
        {
          "output_type": "stream",
          "name": "stderr",
          "text": [
            "INFO:werkzeug:\u001b[31m\u001b[1mWARNING: This is a development server. Do not use it in a production deployment. Use a production WSGI server instead.\u001b[0m\n",
            " * Running on http://127.0.0.1:5000\n",
            "INFO:werkzeug:\u001b[33mPress CTRL+C to quit\u001b[0m\n"
          ]
        }
      ],
      "source": [
        "#Qs1.How do you create a basic Flask application?\n",
        "from flask import Flask\n",
        "\n",
        "app = Flask(__name__)\n",
        "\n",
        "@app.route('/')\n",
        "def hello_world():\n",
        "    return 'Hello, World!'\n",
        "\n",
        "if __name__ == '__main__':\n",
        "    app.run()\n",
        "\n"
      ]
    },
    {
      "cell_type": "code",
      "source": [
        "#Qs2.How do you serve static files like images or CSS in Flask?\n",
        "from flask import Flask, render_template\n",
        "\n",
        "app = Flask(__name__)\n",
        "\n",
        "@app.route('/')\n",
        "def index():\n",
        "    return render_template('index.html')\n",
        "\n",
        "if __name__ == '__main__':\n",
        "    app.run()\n"
      ],
      "metadata": {
        "colab": {
          "base_uri": "https://localhost:8080/"
        },
        "id": "ghTJnWoZDWjO",
        "outputId": "46dd71c0-4913-45a2-f931-7f1b51974336"
      },
      "execution_count": 2,
      "outputs": [
        {
          "output_type": "stream",
          "name": "stdout",
          "text": [
            " * Serving Flask app '__main__'\n",
            " * Debug mode: off\n"
          ]
        },
        {
          "output_type": "stream",
          "name": "stderr",
          "text": [
            "INFO:werkzeug:\u001b[31m\u001b[1mWARNING: This is a development server. Do not use it in a production deployment. Use a production WSGI server instead.\u001b[0m\n",
            " * Running on http://127.0.0.1:5000\n",
            "INFO:werkzeug:\u001b[33mPress CTRL+C to quit\u001b[0m\n"
          ]
        }
      ]
    },
    {
      "cell_type": "code",
      "source": [
        "#Qs3.How do you define different routes with different HTTP methods in Flask?\n",
        "from flask import Flask, request\n",
        "\n",
        "app = Flask(__name__)\n",
        "\n",
        "@app.route('/submit', methods=['POST'])\n",
        "def submit():\n",
        "    data = request.form['data']\n",
        "    return f'POST request received with data: {data}'\n",
        "\n",
        "@app.route('/get', methods=['GET'])\n",
        "def get():\n",
        "    return 'GET request received'\n",
        "\n",
        "@app.route('/update', methods=['PUT'])\n",
        "def update():\n",
        "    data = request.form['data']\n",
        "    return f'PUT request received with data: {data}'\n",
        "\n",
        "@app.route('/delete', methods=['DELETE'])\n",
        "def delete():\n",
        "    return 'DELETE request received'\n",
        "\n",
        "if __name__ == '__main__':\n",
        "    app.run()\n",
        "\n"
      ],
      "metadata": {
        "colab": {
          "base_uri": "https://localhost:8080/"
        },
        "id": "ZP7WJRFIDWgP",
        "outputId": "c8517baf-b34c-4ded-9a1d-c7ff0e951690"
      },
      "execution_count": 3,
      "outputs": [
        {
          "output_type": "stream",
          "name": "stdout",
          "text": [
            " * Serving Flask app '__main__'\n",
            " * Debug mode: off\n"
          ]
        },
        {
          "output_type": "stream",
          "name": "stderr",
          "text": [
            "INFO:werkzeug:\u001b[31m\u001b[1mWARNING: This is a development server. Do not use it in a production deployment. Use a production WSGI server instead.\u001b[0m\n",
            " * Running on http://127.0.0.1:5000\n",
            "INFO:werkzeug:\u001b[33mPress CTRL+C to quit\u001b[0m\n"
          ]
        }
      ]
    },
    {
      "cell_type": "code",
      "source": [
        "#Qs.4How do you render HTML templates in Flask?\n",
        "from flask import Flask, render_template\n",
        "\n",
        "app = Flask(__name__)\n",
        "\n",
        "@app.route('/')\n",
        "def index():\n",
        "    return render_template('index.html')\n",
        "\n",
        "if __name__ == '__main__':\n",
        "    app.run()"
      ],
      "metadata": {
        "colab": {
          "base_uri": "https://localhost:8080/"
        },
        "id": "NuY4hAABDWdO",
        "outputId": "2d4bb461-73aa-4066-9baf-73884a822325"
      },
      "execution_count": 4,
      "outputs": [
        {
          "output_type": "stream",
          "name": "stdout",
          "text": [
            " * Serving Flask app '__main__'\n",
            " * Debug mode: off\n"
          ]
        },
        {
          "output_type": "stream",
          "name": "stderr",
          "text": [
            "INFO:werkzeug:\u001b[31m\u001b[1mWARNING: This is a development server. Do not use it in a production deployment. Use a production WSGI server instead.\u001b[0m\n",
            " * Running on http://127.0.0.1:5000\n",
            "INFO:werkzeug:\u001b[33mPress CTRL+C to quit\u001b[0m\n"
          ]
        }
      ]
    },
    {
      "cell_type": "code",
      "source": [
        "#How can you generate URLs for routes in Flask using url_for?\n",
        "from flask import Flask, url_for\n",
        "\n",
        "app = Flask(__name__)\n",
        "\n",
        "@app.route('/')\n",
        "def home():\n",
        "    return 'Home Page'\n",
        "\n",
        "@app.route('/profile')\n",
        "def profile():\n",
        "    return 'Profile Page'\n",
        "\n",
        "with app.test_request_context():\n",
        "    # Generate URL for 'home' route\n",
        "    print(url_for('home'))  # Output: '/'\n",
        "\n",
        "    # Generate URL for 'profile' route\n",
        "    print(url_for('profile'))  # Output: '/profile'\n",
        "\n",
        "if __name__ == '__main__':\n",
        "    app.run()\n"
      ],
      "metadata": {
        "colab": {
          "base_uri": "https://localhost:8080/"
        },
        "id": "mTQQGUvCDWaH",
        "outputId": "fd5f0b93-d8e2-4fb1-aa14-cf9dcc2b9610"
      },
      "execution_count": 5,
      "outputs": [
        {
          "output_type": "stream",
          "name": "stdout",
          "text": [
            "/\n",
            "/profile\n",
            " * Serving Flask app '__main__'\n",
            " * Debug mode: off\n"
          ]
        },
        {
          "output_type": "stream",
          "name": "stderr",
          "text": [
            "INFO:werkzeug:\u001b[31m\u001b[1mWARNING: This is a development server. Do not use it in a production deployment. Use a production WSGI server instead.\u001b[0m\n",
            " * Running on http://127.0.0.1:5000\n",
            "INFO:werkzeug:\u001b[33mPress CTRL+C to quit\u001b[0m\n"
          ]
        }
      ]
    },
    {
      "cell_type": "code",
      "source": [
        "#6,How do you handle forms in Flask?\n",
        "from flask import Flask, render_template, request\n",
        "\n",
        "app = Flask(__name__)\n",
        "\n",
        "@app.route('/form', methods=['GET', 'POST'])\n",
        "def form():\n",
        "    if request.method == 'POST':\n",
        "        name = request.form['name']\n",
        "        return f'Hello, {name}!'\n",
        "    return render_template('form.html')\n",
        "\n",
        "if __name__ == '__main__':\n",
        "    app.run()\n"
      ],
      "metadata": {
        "colab": {
          "base_uri": "https://localhost:8080/"
        },
        "id": "6fXLyk4tDWXD",
        "outputId": "2acec303-c849-44de-dc6a-310ab084fdbc"
      },
      "execution_count": 6,
      "outputs": [
        {
          "output_type": "stream",
          "name": "stdout",
          "text": [
            " * Serving Flask app '__main__'\n",
            " * Debug mode: off\n"
          ]
        },
        {
          "output_type": "stream",
          "name": "stderr",
          "text": [
            "INFO:werkzeug:\u001b[31m\u001b[1mWARNING: This is a development server. Do not use it in a production deployment. Use a production WSGI server instead.\u001b[0m\n",
            " * Running on http://127.0.0.1:5000\n",
            "INFO:werkzeug:\u001b[33mPress CTRL+C to quit\u001b[0m\n"
          ]
        }
      ]
    },
    {
      "cell_type": "code",
      "source": [
        "#7.How can you validate form data in Flask?\n",
        "from flask import Flask, render_template, request, redirect, url_for\n",
        "\n",
        "app = Flask(__name__)\n",
        "\n",
        "@app.route('/form', methods=['GET', 'POST'])\n",
        "def form():\n",
        "    if request.method == 'POST':\n",
        "        name = request.form['name']\n",
        "        if not name:\n",
        "            return 'Name is required', 400  # Custom validation error\n",
        "        return f'Hello, {name}!'\n",
        "    return render_template('form.html')\n",
        "\n",
        "if __name__ == '__main__':\n",
        "    app.run()\n"
      ],
      "metadata": {
        "colab": {
          "base_uri": "https://localhost:8080/"
        },
        "id": "8zVuqIGCDWUC",
        "outputId": "5037a7f2-cf2f-48b6-a855-ef3a3023a51a"
      },
      "execution_count": 9,
      "outputs": [
        {
          "output_type": "stream",
          "name": "stdout",
          "text": [
            " * Serving Flask app '__main__'\n",
            " * Debug mode: off\n"
          ]
        },
        {
          "output_type": "stream",
          "name": "stderr",
          "text": [
            "INFO:werkzeug:\u001b[31m\u001b[1mWARNING: This is a development server. Do not use it in a production deployment. Use a production WSGI server instead.\u001b[0m\n",
            " * Running on http://127.0.0.1:5000\n",
            "INFO:werkzeug:\u001b[33mPress CTRL+C to quit\u001b[0m\n"
          ]
        }
      ]
    },
    {
      "cell_type": "code",
      "source": [
        "#8.How do you manage sessions in Flask?\n",
        "from flask import Flask, session, redirect, url_for, request, render_template\n",
        "\n",
        "app = Flask(__name__)\n",
        "app.secret_key = 'your_secret_key'  # Secret key for signing the session cookie\n",
        "\n",
        "@app.route('/')\n",
        "def home():\n",
        "    return render_template('index.html')\n",
        "\n",
        "@app.route('/set_session', methods=['POST'])\n",
        "def set_session():\n",
        "    session['username'] = request.form['username']  # Storing data in session\n",
        "    return redirect(url_for('welcome'))\n",
        "\n",
        "@app.route('/welcome')\n",
        "def welcome():\n",
        "    username = session.get('username')  # Retrieving data from session\n",
        "    if username:\n",
        "        return f'Welcome, {username}!'\n",
        "    return redirect(url_for('home'))  # If no session, redirect to home\n",
        "\n",
        "@app.route('/logout')\n",
        "def logout():\n",
        "    session.pop('username', None)  # Remove session data\n",
        "    return redirect(url_for('home'))\n",
        "\n",
        "if __name__ == '__main__':\n",
        "    app.run()\n"
      ],
      "metadata": {
        "colab": {
          "base_uri": "https://localhost:8080/"
        },
        "id": "i1uwrRStDWP-",
        "outputId": "1fc96582-029a-4b4b-9490-050a9d2efdb4"
      },
      "execution_count": 8,
      "outputs": [
        {
          "output_type": "stream",
          "name": "stdout",
          "text": [
            " * Serving Flask app '__main__'\n",
            " * Debug mode: off\n"
          ]
        },
        {
          "output_type": "stream",
          "name": "stderr",
          "text": [
            "INFO:werkzeug:\u001b[31m\u001b[1mWARNING: This is a development server. Do not use it in a production deployment. Use a production WSGI server instead.\u001b[0m\n",
            " * Running on http://127.0.0.1:5000\n",
            "INFO:werkzeug:\u001b[33mPress CTRL+C to quit\u001b[0m\n"
          ]
        }
      ]
    },
    {
      "cell_type": "code",
      "source": [
        "#How do you redirect to a different route in Flask?\n",
        "from flask import Flask, redirect, url_for\n",
        "\n",
        "app = Flask(__name__)\n",
        "\n",
        "@app.route('/')\n",
        "def home():\n",
        "    return 'Home Page'\n",
        "\n",
        "@app.route('/redirect')\n",
        "def redirect_to_home()\n",
        "    return redirect(url_for('home'))"
      ],
      "metadata": {
        "id": "EhggEe-dG5D0"
      },
      "execution_count": 11,
      "outputs": []
    },
    {
      "cell_type": "code",
      "source": [
        "#How do you handle errors in Flask (e.g., 404)?\n",
        "from flask import Flask, render_template\n",
        "\n",
        "app = Flask(__name__)\n",
        "\n",
        "@app.route('/')\n",
        "def home():\n",
        "    return 'Home Page'\n",
        "\n",
        "# 404 Error handler\n",
        "@app.errorhandler(404)\n",
        "def page_not_found(error):\n",
        "    return render_template('404.html'), 404  # You can return a custom HTML page\n",
        "\n",
        "# 500 Error handler\n",
        "@app.errorhandler(500)\n",
        "def internal_server_error(error):\n",
        "    return 'Internal Server Error. Please try again later.', 500\n",
        "\n",
        "if __name__ == '__main__':\n",
        "    app.run()\n"
      ],
      "metadata": {
        "colab": {
          "base_uri": "https://localhost:8080/"
        },
        "id": "Sw1QmTWVG4mc",
        "outputId": "1a4351a1-dcdb-4a4f-8d79-e8e386f9b891"
      },
      "execution_count": 12,
      "outputs": [
        {
          "output_type": "stream",
          "name": "stdout",
          "text": [
            " * Serving Flask app '__main__'\n",
            " * Debug mode: off\n"
          ]
        },
        {
          "output_type": "stream",
          "name": "stderr",
          "text": [
            "INFO:werkzeug:\u001b[31m\u001b[1mWARNING: This is a development server. Do not use it in a production deployment. Use a production WSGI server instead.\u001b[0m\n",
            " * Running on http://127.0.0.1:5000\n",
            "INFO:werkzeug:\u001b[33mPress CTRL+C to quit\u001b[0m\n"
          ]
        }
      ]
    },
    {
      "cell_type": "code",
      "source": [
        "#11.How do you structure a Flask app using Blueprints?\n",
        "    from flask import Flask\n",
        "from my_app.main.routes import main_bp\n",
        "from my_app.auth.routes import auth_bp\n",
        "from my_app.config import Config\n",
        "\n",
        "def create_app():\n",
        "    app = Flask(__name__)\n",
        "    app.config.from_object(Config)\n",
        "    app.register_blueprint(main_bp)\n",
        "    app.register_blueprint(auth_bp, url_prefix='/auth')\n",
        "    return app\n",
        "\n",
        "\n"
      ],
      "metadata": {
        "colab": {
          "base_uri": "https://localhost:8080/",
          "height": 105
        },
        "id": "vNpwBpQZG4ZG",
        "outputId": "30445420-2c96-4399-e02c-a63b1c13bc4b"
      },
      "execution_count": 15,
      "outputs": [
        {
          "output_type": "error",
          "ename": "IndentationError",
          "evalue": "unexpected indent (<ipython-input-15-898336a26e1e>, line 2)",
          "traceback": [
            "\u001b[0;36m  File \u001b[0;32m\"<ipython-input-15-898336a26e1e>\"\u001b[0;36m, line \u001b[0;32m2\u001b[0m\n\u001b[0;31m    from flask import Flask\u001b[0m\n\u001b[0m    ^\u001b[0m\n\u001b[0;31mIndentationError\u001b[0m\u001b[0;31m:\u001b[0m unexpected indent\n"
          ]
        }
      ]
    },
    {
      "cell_type": "code",
      "source": [
        "#Qs12.How do you define a custom Jinja filter in Flask?\n",
        "from flask import Flask\n",
        "\n",
        "app = Flask(__name__)\n",
        "\n",
        "# Define custom Jinja filter\n",
        "@app.template_filter('reverse')\n",
        "def reverse_filter(s):\n",
        "    return s[::-1]  # Reverses the string\n",
        "\n",
        "@app.route('/')\n",
        "def home():\n",
        "    return render_template('index.html', name='Flask')\n",
        "\n",
        "if __name__ == '__main__':\n",
        "    app.run()\n"
      ],
      "metadata": {
        "id": "YQ5omt7KG4V0"
      },
      "execution_count": null,
      "outputs": []
    },
    {
      "cell_type": "code",
      "source": [
        "#13.How can you redirect with query parameters in Flask?\n",
        "from flask import Flask, redirect, url_for\n",
        "\n",
        "app = Flask(__name__)\n",
        "\n",
        "@app.route('/')\n",
        "def home():\n",
        "    return redirect(url_for('greet', name='John', age=30))\n",
        "\n",
        "@app.route('/greet')\n",
        "def greet():\n",
        "    name = request.args.get('name')\n",
        "    age = request.args.get('age')\n",
        "    return f'Hello {name}, you are {age} years old!'\n",
        "\n",
        "if __name__ == '__main__':\n",
        "    app.run()\n"
      ],
      "metadata": {
        "colab": {
          "base_uri": "https://localhost:8080/"
        },
        "id": "bCgM9m_pG4OJ",
        "outputId": "7cdef7c4-b819-47c8-95ff-72ef2b6dad8f"
      },
      "execution_count": 16,
      "outputs": [
        {
          "output_type": "stream",
          "name": "stdout",
          "text": [
            " * Serving Flask app '__main__'\n",
            " * Debug mode: off\n"
          ]
        },
        {
          "output_type": "stream",
          "name": "stderr",
          "text": [
            "INFO:werkzeug:\u001b[31m\u001b[1mWARNING: This is a development server. Do not use it in a production deployment. Use a production WSGI server instead.\u001b[0m\n",
            " * Running on http://127.0.0.1:5000\n",
            "INFO:werkzeug:\u001b[33mPress CTRL+C to quit\u001b[0m\n"
          ]
        }
      ]
    },
    {
      "cell_type": "code",
      "source": [
        "#14.How do you return JSON responses in Flask?\n",
        "from flask import Flask, jsonify\n",
        "\n",
        "app = Flask(__name__)\n",
        "\n",
        "@app.route('/api/data')\n",
        "def get_data():\n",
        "    data = {'message': 'Hello from Flask!'}\n",
        "    return jsonify(data)\n"
      ],
      "metadata": {
        "id": "an9ZC3vZIvth"
      },
      "execution_count": 17,
      "outputs": []
    },
    {
      "cell_type": "code",
      "source": [
        "#15.How do you capture URL parameters in Flask?\n",
        "from flask import Flask, request\n",
        "\n",
        "app = Flask(__name__)\n",
        "\n",
        "@app.route('/greet/<name>')\n",
        "def greet(name):\n",
        "    return f'Hello, {name}!'\n",
        "\n",
        "if __name__ == '__main__':\n",
        "    app.run()"
      ],
      "metadata": {
        "colab": {
          "base_uri": "https://localhost:8080/"
        },
        "id": "koC7L5mrIvi3",
        "outputId": "1f403c04-c425-41e1-a48d-f100786d9b6c"
      },
      "execution_count": 18,
      "outputs": [
        {
          "output_type": "stream",
          "name": "stdout",
          "text": [
            " * Serving Flask app '__main__'\n",
            " * Debug mode: off\n"
          ]
        },
        {
          "output_type": "stream",
          "name": "stderr",
          "text": [
            "INFO:werkzeug:\u001b[31m\u001b[1mWARNING: This is a development server. Do not use it in a production deployment. Use a production WSGI server instead.\u001b[0m\n",
            " * Running on http://127.0.0.1:5000\n",
            "INFO:werkzeug:\u001b[33mPress CTRL+C to quit\u001b[0m\n"
          ]
        }
      ]
    }
  ]
}